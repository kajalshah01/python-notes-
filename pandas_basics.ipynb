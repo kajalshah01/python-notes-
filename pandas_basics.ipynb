{
 "cells": [
  {
   "cell_type": "markdown",
   "id": "8997e3e6-682b-4870-9845-a266b84e166c",
   "metadata": {},
   "source": [
    "# Data Structure"
   ]
  },
  {
   "cell_type": "markdown",
   "id": "f4b1b94d-5471-4458-9b93-7d569d778dee",
   "metadata": {},
   "source": [
    "# 1.-SERIES\\\n",
    "# A Series is a one-dimensional labelled array-like object. \n",
    "It is capable of holding any data type, e.g. integers, floats, strings, Python objects, and so on. It can be seen as a data structure with two arrays: one functioning as the index, i.e. the labels, and the other one contains the actual data."
   ]
  },
  {
   "cell_type": "code",
   "execution_count": 11,
   "id": "685c7143-1f0e-4803-90f1-4de360fe51c8",
   "metadata": {},
   "outputs": [
    {
     "data": {
      "text/plain": [
       "0    20.0\n",
       "1    22.0\n",
       "2    24.0\n",
       "3    26.0\n",
       "4    28.0\n",
       "5    30.0\n",
       "dtype: float64"
      ]
     },
     "execution_count": 11,
     "metadata": {},
     "output_type": "execute_result"
    }
   ],
   "source": [
    "import pandas as pd \n",
    "import numpy as np\n",
    "q=np.linspace(20,30,6)\n",
    "L=pd.Series(q)\n",
    "L"
   ]
  },
  {
   "cell_type": "code",
   "execution_count": 9,
   "id": "0ce80464-c2f0-4f6a-a15e-c740d36dc6b1",
   "metadata": {},
   "outputs": [
    {
     "data": {
      "text/plain": [
       "20.0    11\n",
       "22.0    28\n",
       "24.0    72\n",
       "26.0     3\n",
       "28.0     5\n",
       "30.0     8\n",
       "dtype: int64"
      ]
     },
     "execution_count": 9,
     "metadata": {},
     "output_type": "execute_result"
    }
   ],
   "source": [
    "# we can change the indexing also.\n",
    "import pandas as pd \n",
    "import numpy as np\n",
    "q=np.linspace(20,30,6)\n",
    "p=np.linspace(20,60,6)\n",
    "S = pd.Series([11, 28, 72, 3, 5, 8],index=q) \n",
    "S"
   ]
  },
  {
   "cell_type": "code",
   "execution_count": 4,
   "id": "ae44a423-974f-4c1c-81eb-e4723a90bb61",
   "metadata": {},
   "outputs": [
    {
     "name": "stdout",
     "output_type": "stream",
     "text": [
      "RangeIndex(start=0, stop=6, step=1)\n",
      "[11 28 72  3  5  8]\n",
      "72\n"
     ]
    }
   ],
   "source": [
    "# We haven't defined an index in our example, but we see two columns in our output: The right column contains our data, whereas the left column contains\n",
    "#the index. Pandas created a default index starting with 0 going to 5, which is the length of the data minus 1. We can directly access the index and the\n",
    "#values of our Series S:\n",
    "print(S.index) \n",
    "print(S.values)\n",
    "print(S[2])\n",
    "print(S."
   ]
  },
  {
   "cell_type": "code",
   "execution_count": 33,
   "id": "daa3f946-b2d5-445b-a7cc-7f9df0958031",
   "metadata": {},
   "outputs": [
    {
     "name": "stdout",
     "output_type": "stream",
     "text": [
      "sum of S:  apples      37\n",
      "oranges     46\n",
      "cherries    83\n",
      "pears       42\n",
      "dtype: int64\n"
     ]
    }
   ],
   "source": [
    "#If we add two series with the same indices, we get a new series with the same index and the correponding values will be added:\n",
    "\n",
    "fruits = ['apples', 'oranges', 'cherries', 'pears'] \n",
    "S = pd.Series([20, 33, 52, 10], index=fruits) \n",
    "S2 = pd.Series([17, 13, 31, 32], index=fruits) \n",
    "M=S + S2\n",
    "print(\"sum of S: \", M)\n"
   ]
  },
  {
   "cell_type": "code",
   "execution_count": null,
   "id": "e5d1871d-ffc4-4449-96d2-f1b556fab1c0",
   "metadata": {},
   "outputs": [],
   "source": []
  },
  {
   "cell_type": "code",
   "execution_count": 22,
   "id": "8b68823d-a763-412a-bb60-2596fed12daa",
   "metadata": {},
   "outputs": [
    {
     "name": "stdout",
     "output_type": "stream",
     "text": [
      "aam          NaN\n",
      "amrood       NaN\n",
      "dhatoora    68.0\n",
      "tamatar     66.0\n",
      "dtype: float64\n"
     ]
    }
   ],
   "source": [
    "# The indices do not have to be the same for the Series addition. The index will be the \"union\" of both indices if an index doesn't occur in both Series, the value for this Series will be NaN:\n",
    "fruit1=['aam','dhatoora','tamatar']\n",
    "fruit2=['tamatar','dhatoora','amrood']\n",
    "a=[22,33,44]\n",
    "a2=[22,35,44]\n",
    "q=pd.Series(a, index=fruit1)\n",
    "q2=pd.Series(a2, index=fruit2)\n",
    "print(q+q2)"
   ]
  },
  {
   "cell_type": "code",
   "execution_count": 27,
   "id": "a6d9c8c7-4304-40c5-8f1f-386fcc13331d",
   "metadata": {},
   "outputs": [
    {
     "name": "stdout",
     "output_type": "stream",
     "text": [
      "apples       NaN\n",
      "armut        NaN\n",
      "cherries     NaN\n",
      "elma         NaN\n",
      "kiraz        NaN\n",
      "pears        NaN\n",
      "portakal    68.0\n",
      "dtype: float64\n"
     ]
    }
   ],
   "source": [
    "#In principle, the indices can be completely different, as in the following example. We have two indices. One is the Turkish translation of the English fruit names\n",
    "fruits = ['apples', 'portakal', 'cherries', 'pears'] \n",
    "fruits_tr = ['elma', 'portakal', 'kiraz', 'armut'] \n",
    "a=[22,33,44,7]\n",
    "a2=[22,35,44,0]\n",
    "q=pd.Series(a, index=fruits)\n",
    "q2=pd.Series(a2, index=fruits_tr)\n",
    "d=q+q2\n",
    "print(d)\n"
   ]
  },
  {
   "cell_type": "code",
   "execution_count": 29,
   "id": "7dc6c36c-7c5a-401f-b075-4347d8f3104d",
   "metadata": {},
   "outputs": [
    {
     "name": "stdout",
     "output_type": "stream",
     "text": [
      "68.0\n",
      "nan\n"
     ]
    }
   ],
   "source": [
    "print(d['portakal'])\n",
    "print(d['armut'])\n"
   ]
  },
  {
   "cell_type": "code",
   "execution_count": 35,
   "id": "37cdc56d-0c58-4254-b017-606a92a576ec",
   "metadata": {},
   "outputs": [
    {
     "name": "stdout",
     "output_type": "stream",
     "text": [
      "armut        NaN\n",
      "portakal    68.0\n",
      "dtype: float64\n"
     ]
    }
   ],
   "source": [
    "# if we want to access multiple values of a series then we can pass the list of the index as well.\n",
    "print(d[['armut','portakal']])"
   ]
  },
  {
   "cell_type": "markdown",
   "id": "dd90b4ff-dbdb-45f5-b1ca-f9c2d43c3126",
   "metadata": {},
   "source": [
    "# PANDAS.SERIES.APPLY"
   ]
  },
  {
   "cell_type": "code",
   "execution_count": 38,
   "id": "31024fa7-2288-4a32-8cf4-bc91fca413ef",
   "metadata": {},
   "outputs": [
    {
     "name": "stdout",
     "output_type": "stream",
     "text": [
      "apples      20\n",
      "oranges     33\n",
      "cherries    52\n",
      "pears       10\n",
      "dtype: int64\n"
     ]
    },
    {
     "data": {
      "text/plain": [
       "apples      2.995732\n",
       "oranges     3.496508\n",
       "cherries    3.951244\n",
       "pears       2.302585\n",
       "dtype: float64"
      ]
     },
     "execution_count": 38,
     "metadata": {},
     "output_type": "execute_result"
    }
   ],
   "source": [
    "# we can use  many functions on the series after using apply function.\n",
    "print(S)\n",
    "S.apply(np.log)\n"
   ]
  },
  {
   "cell_type": "code",
   "execution_count": 43,
   "id": "6516d66e-8599-4e3b-a33e-a9a1c035c2a9",
   "metadata": {},
   "outputs": [
    {
     "data": {
      "text/plain": [
       "apples       40\n",
       "oranges      66\n",
       "cherries    104\n",
       "pears        20\n",
       "dtype: int64"
      ]
     },
     "execution_count": 43,
     "metadata": {},
     "output_type": "execute_result"
    }
   ],
   "source": [
    "S.apply(lambda x : x*2 if x>15 else x+10)"
   ]
  },
  {
   "cell_type": "code",
   "execution_count": 46,
   "id": "7f3afba1-ac6e-4c73-acb9-da8570628acf",
   "metadata": {},
   "outputs": [],
   "source": [
    "def rampura(x):\n",
    "    if x>50:\n",
    "        print(x+100)\n",
    "    else:\n",
    "        print(x)"
   ]
  },
  {
   "cell_type": "code",
   "execution_count": 51,
   "id": "6f22422f-c1a0-4d78-a38e-323183f95dfa",
   "metadata": {},
   "outputs": [
    {
     "name": "stdout",
     "output_type": "stream",
     "text": [
      "20\n",
      "33\n",
      "152\n",
      "10\n"
     ]
    },
    {
     "data": {
      "text/plain": [
       "apples      None\n",
       "oranges     None\n",
       "cherries    None\n",
       "pears       None\n",
       "dtype: object"
      ]
     },
     "execution_count": 51,
     "metadata": {},
     "output_type": "execute_result"
    }
   ],
   "source": [
    "S.apply(rampura)"
   ]
  },
  {
   "cell_type": "code",
   "execution_count": 52,
   "id": "fbaad1fc-dff3-4aa4-9171-3cf982940628",
   "metadata": {
    "scrolled": true
   },
   "outputs": [
    {
     "data": {
      "text/plain": [
       "oranges     33\n",
       "cherries    52\n",
       "dtype: int64"
      ]
     },
     "execution_count": 52,
     "metadata": {},
     "output_type": "execute_result"
    }
   ],
   "source": [
    "# FILTERING WITH A BOOLEAN ARRAY\n",
    "S[S>30]\n"
   ]
  },
  {
   "cell_type": "code",
   "execution_count": 54,
   "id": "02b46c54-6452-453e-8521-049fc33ed9f1",
   "metadata": {},
   "outputs": [
    {
     "data": {
      "text/plain": [
       "True"
      ]
     },
     "execution_count": 54,
     "metadata": {},
     "output_type": "execute_result"
    }
   ],
   "source": [
    "#A series can be seen as an ordered Python dictionary with a fixed length. \n",
    "\"apples\" in S"
   ]
  },
  {
   "cell_type": "code",
   "execution_count": 60,
   "id": "ce12b610-68a6-4f70-b90e-4febbecbf82e",
   "metadata": {},
   "outputs": [
    {
     "name": "stdout",
     "output_type": "stream",
     "text": [
      "London       8615246\n",
      "Berlin       3562166\n",
      "Madrid       3165235\n",
      "Rome         2874038\n",
      "Paris        2273305\n",
      "Vienna       1805681\n",
      "Bucharest    1803425\n",
      "Hamburg      1760433\n",
      "Budapest     1754000\n",
      "Warsaw       1740119\n",
      "Barcelona    1602386\n",
      "Munich       1493900\n",
      "Milan        1350680\n",
      "dtype: int64\n"
     ]
    }
   ],
   "source": [
    "# CREATING SERIES OBJECTS FROM DICTIONARIES We can even use a dictionary to create a Series object. The resulting Series contains the dict's keys as the indices and the values as the values.\n",
    "\n",
    "cities = {\"London\": 8615246, \"Berlin\": 3562166, \"Madrid\": 3165235, \"Rome\": \n",
    "          2874038, \"Paris\": 2273305, \"Vienna\": 1805681, \"Bucharest\": 1803425, \n",
    "          \"Hamburg\": 1760433, \"Budapest\": 1754000, \"Warsaw\": 1740119, \"Barcelona\": 1602386, \n",
    "          \"Munich\": 1493900, \"Milan\": 1350680} \n",
    "city_series = pd.Series(cities) \n",
    "print(city_series)\n"
   ]
  },
  {
   "cell_type": "markdown",
   "id": "0580d10a-6767-41f6-bce8-9da17cd4ae38",
   "metadata": {
    "scrolled": true
   },
   "source": [
    "# NAN - \n",
    "MISSING DATA One problem in dealing with data analysis tasks consists in missing data. Pandas makes it as easy as possible to work with missing data.\n",
    "THE METHODS ISNULL() AND NOTNULL\\\n",
    "We can see, that the cities, which are not included in the dictionary, get the value NaN assigned. NaN stands for \"not a number\". It can also be seen as meaning \"missing\" in our example. We can check for missing values with the methods isnull and notnull:"
   ]
  },
  {
   "cell_type": "code",
   "execution_count": 61,
   "id": "2c017c46-e116-4eab-b030-f18d676106ca",
   "metadata": {},
   "outputs": [
    {
     "data": {
      "text/plain": [
       "London       8615246.0\n",
       "Paris        2273305.0\n",
       "Zurich             NaN\n",
       "Berlin       3562166.0\n",
       "Stuttgart          NaN\n",
       "Hamburg      1760433.0\n",
       "dtype: float64"
      ]
     },
     "execution_count": 61,
     "metadata": {},
     "output_type": "execute_result"
    }
   ],
   "source": [
    "my_cities = [\"London\", \"Paris\", \"Zurich\", \"Berlin\", \"Stuttgart\", \"Hamburg\"] \n",
    "my_city_series = pd.Series(cities, index=my_cities) \n",
    "my_city_series\n"
   ]
  },
  {
   "cell_type": "code",
   "execution_count": 67,
   "id": "aa3de57f-8a6e-441f-b6ae-3c7672c313c4",
   "metadata": {},
   "outputs": [
    {
     "data": {
      "text/plain": [
       "London       False\n",
       "Paris        False\n",
       "Zurich        True\n",
       "Berlin       False\n",
       "Stuttgart     True\n",
       "Hamburg      False\n",
       "dtype: bool"
      ]
     },
     "execution_count": 67,
     "metadata": {},
     "output_type": "execute_result"
    }
   ],
   "source": [
    "my_city_series.isnull()"
   ]
  },
  {
   "cell_type": "code",
   "execution_count": 68,
   "id": "9169e055-9133-47cb-824f-9b10e0339143",
   "metadata": {},
   "outputs": [
    {
     "data": {
      "text/plain": [
       "London        True\n",
       "Paris         True\n",
       "Zurich       False\n",
       "Berlin        True\n",
       "Stuttgart    False\n",
       "Hamburg       True\n",
       "dtype: bool"
      ]
     },
     "execution_count": 68,
     "metadata": {},
     "output_type": "execute_result"
    }
   ],
   "source": [
    "my_city_series.notnull()"
   ]
  },
  {
   "cell_type": "code",
   "execution_count": 69,
   "id": "bb3bf646-afb0-4817-aa08-022093cd062c",
   "metadata": {},
   "outputs": [
    {
     "name": "stdout",
     "output_type": "stream",
     "text": [
      "a    23.0\n",
      "b    45.0\n",
      "c     NaN\n",
      "d     0.0\n",
      "dtype: float64\n"
     ]
    }
   ],
   "source": [
    "#CONNECTION BETWEEN NAN AND NONE We get also a NaN, if a value in the dictionary has a None: \n",
    "d = {\"a\":23, \"b\":45, \"c\":None, \"d\":0} \n",
    "S = pd.Series(d) \n",
    "print(S)\n"
   ]
  },
  {
   "cell_type": "code",
   "execution_count": 70,
   "id": "b8e1d6da-ca7b-452d-b1dc-c4cf3514b599",
   "metadata": {},
   "outputs": [
    {
     "data": {
      "text/plain": [
       "a     True\n",
       "b     True\n",
       "c    False\n",
       "d     True\n",
       "dtype: bool"
      ]
     },
     "execution_count": 70,
     "metadata": {},
     "output_type": "execute_result"
    }
   ],
   "source": [
    "pd.notnull(S)"
   ]
  },
  {
   "cell_type": "markdown",
   "id": "5617361b-ace4-46d1-bc6f-3dc33d699b25",
   "metadata": {},
   "source": [
    "# FILTERING OUT MISSING DATA "
   ]
  },
  {
   "cell_type": "code",
   "execution_count": null,
   "id": "a8b002b9-0efb-496d-9552-07f6ae93cf79",
   "metadata": {},
   "outputs": [
    {
     "name": "stdout",
     "output_type": "stream",
     "text": [
      "London       8615246.0\n",
      "Paris        2273305.0\n",
      "Zurich             NaN\n",
      "Berlin       3562166.0\n",
      "Stuttgart          NaN\n",
      "Hamburg      1760433.0\n",
      "dtype: float64\n",
      "London     8615246.0\n",
      "Paris      2273305.0\n",
      "Berlin     3562166.0\n",
      "Hamburg    1760433.0\n",
      "dtype: float64\n"
     ]
    }
   ],
   "source": [
    "print(my_city_series)\n",
    "\n",
    "print(my_city_series.dropna())"
   ]
  },
  {
   "cell_type": "markdown",
   "id": "d0661e00-8f7c-4f7f-b2d8-2142d400acaa",
   "metadata": {},
   "source": [
    "# FILLING IN MISSING DATA \n",
    "\n",
    "In many cases you don't want to filter out missing data, but you want to fill in appropriate data for the empty gaps. A suitable method in many situations will be fillna:"
   ]
  },
  {
   "cell_type": "code",
   "execution_count": 80,
   "id": "1b402aa2-b31a-4077-b875-6dd017b58b90",
   "metadata": {},
   "outputs": [
    {
     "name": "stdout",
     "output_type": "stream",
     "text": [
      "London       8615246.0\n",
      "Paris        2273305.0\n",
      "Zurich             0.0\n",
      "Berlin       3562166.0\n",
      "Stuttgart          0.0\n",
      "Hamburg      1760433.0\n",
      "dtype: float64\n",
      "London       8615246\n",
      "Paris        2273305\n",
      "Zurich             0\n",
      "Berlin       3562166\n",
      "Stuttgart          0\n",
      "Hamburg      1760433\n",
      "dtype: int64\n"
     ]
    }
   ],
   "source": [
    "print(my_city_series.fillna(0))\n",
    "# this will give float value of fill na so we use astype(int) to convert that float into int\n",
    "print(my_city_series.fillna(0).astype(int))"
   ]
  },
  {
   "cell_type": "code",
   "execution_count": null,
   "id": "364a66d3-0808-4873-ae8e-a762e4cf40c4",
   "metadata": {},
   "outputs": [],
   "source": []
  },
  {
   "cell_type": "code",
   "execution_count": 75,
   "id": "5d811945-da57-430e-a2d1-0c86726a00ed",
   "metadata": {},
   "outputs": [
    {
     "data": {
      "text/plain": [
       "London       8615246.0\n",
       "Paris        2273305.0\n",
       "Zurich        378884.0\n",
       "Berlin       3562166.0\n",
       "Stuttgart     597939.0\n",
       "Hamburg      1760433.0\n",
       "dtype: float64"
      ]
     },
     "execution_count": 75,
     "metadata": {},
     "output_type": "execute_result"
    }
   ],
   "source": [
    "#Okay, that's not what we call \"fill in appropriate data for the empty gaps\". If we call fillna with a dict, we can provide the appropriate data, i.e. the population of Zurich and Stuttgart:\n",
    "missing_cities = {\"Stuttgart\":597939, \"Zurich\":378884} \n",
    "my_city_series.fillna(missing_cities)\n"
   ]
  },
  {
   "cell_type": "markdown",
   "id": "9bf4364a-3343-4e2a-8f47-aa500e7e226c",
   "metadata": {},
   "source": [
    "# 2. Dataframe\n",
    "A DataFrame logically corresponds to a \"sheet\" of an Excel document. A DataFrame has both a row and a column index.\\\n",
    "Each column consists of a unique data typye, but different columns can have different types, e.g. the first column may consist of integers, while the second one consists of boolean values and so on.\\\n",
    "There is a close connection between the DataFrames and the Series of Pandas. A DataFrame can be seen as a concatenation of Series, each Series having the same index, i.e. the index of the DataFrame. "
   ]
  },
  {
   "cell_type": "code",
   "execution_count": 9,
   "id": "890f68a2-68ae-4cd4-b4d7-65c35e118c63",
   "metadata": {},
   "outputs": [
    {
     "name": "stdout",
     "output_type": "stream",
     "text": [
      "2014    2409.14\n",
      "2015    2941.01\n",
      "2016    3496.83\n",
      "2017    3119.55\n",
      "2014    1203.45\n",
      "2015    3441.62\n",
      "2016    3007.83\n",
      "2017    3619.53\n",
      "2014    3412.12\n",
      "2015    3491.16\n",
      "2016    3457.19\n",
      "2017    1963.10\n",
      "dtype: float64\n"
     ]
    }
   ],
   "source": [
    "import pandas as pd\n",
    "years = range(2014, 2018)\n",
    "shop1 = pd.Series([2409.14, 2941.01, 3496.83, 3119.55], index=years) \n",
    "shop2 = pd.Series([1203.45, 3441.62, 3007.83, 3619.53], index=years) \n",
    "shop3 = pd.Series([3412.12, 3491.16, 3457.19, 1963.10], index=years)\n",
    "print(pd.concat([shop1,shop2,shop3]))"
   ]
  },
  {
   "cell_type": "code",
   "execution_count": 10,
   "id": "977a82ba-fa17-4853-90ca-9fb2597bb33d",
   "metadata": {},
   "outputs": [
    {
     "name": "stdout",
     "output_type": "stream",
     "text": [
      "            0        1        2\n",
      "2014  2409.14  1203.45  3412.12\n",
      "2015  2941.01  3441.62  3491.16\n",
      "2016  3496.83  3007.83  3457.19\n",
      "2017  3119.55  3619.53  1963.10\n"
     ]
    }
   ],
   "source": [
    "# if we want to concat all the columns horizontally then axis will have to be passed.\n",
    "# ValueError: Length of values (3) does not match length of index (4)\n",
    "print(pd.concat([shop1,shop2,shop3],axis=1))"
   ]
  },
  {
   "cell_type": "markdown",
   "id": "b5a6a844-353c-4c9a-90db-234b69eaa37a",
   "metadata": {},
   "source": [
    "# giving names to the columns"
   ]
  },
  {
   "cell_type": "code",
   "execution_count": 13,
   "id": "caed46cc-8146-46d5-a0b1-1af749a94b3c",
   "metadata": {},
   "outputs": [
    {
     "name": "stdout",
     "output_type": "stream",
     "text": [
      "       Zürich  Winterthur  Freiburg\n",
      "2014  2409.14     1203.45   3412.12\n",
      "2015  2941.01     3441.62   3491.16\n",
      "2016  3496.83     3007.83   3457.19\n",
      "2017  3119.55     3619.53   1963.10\n"
     ]
    }
   ],
   "source": [
    "import pandas as pd\n",
    "years = range(2014, 2018)\n",
    "shop1 = pd.Series([2409.14, 2941.01, 3496.83, 3119.55], index=years) \n",
    "shop2 = pd.Series([1203.45, 3441.62, 3007.83, 3619.53], index=years) \n",
    "shop3 = pd.Series([3412.12, 3491.16, 3457.19, 1963.10], index=years)\n",
    "cities = [\"Zürich\", \"Winterthur\", \"Freiburg\"] \n",
    "shops_df = pd.concat([shop1, shop2, shop3], axis=1) \n",
    "shops_df.columns = cities \n",
    "print(shops_df) "
   ]
  },
  {
   "cell_type": "code",
   "execution_count": 14,
   "id": "af49ecfa-9aed-4309-951c-9194f3b9ceb0",
   "metadata": {},
   "outputs": [
    {
     "name": "stdout",
     "output_type": "stream",
     "text": [
      "------\n",
      "       Zürich  Winterthur  Freiburg\n",
      "2014  2409.14     1203.45   3412.12\n",
      "2015  2941.01     3441.62   3491.16\n",
      "2016  3496.83     3007.83   3457.19\n",
      "2017  3119.55     3619.53   1963.10\n"
     ]
    }
   ],
   "source": [
    "# alternative way: give names to series: \n",
    "shop1.name = \"Zürich\"\n",
    "shop2.name = \"Winterthur\" \n",
    "shop3.name = \"Freiburg\" \n",
    "print(\"------\") \n",
    "shops_df2 = pd.concat([shop1, shop2, shop3], axis=1) \n",
    "print(shops_df2)"
   ]
  },
  {
   "cell_type": "markdown",
   "id": "1ec5da67-78ad-4740-ac15-aeb2a562d4e2",
   "metadata": {},
   "source": [
    "# ways to create dataframe\n",
    "A DataFrame has a row and column index; it's like a dict of Series with a common index.\n"
   ]
  },
  {
   "cell_type": "markdown",
   "id": "b9c5117a-7c36-4375-83e8-e4a8774ca365",
   "metadata": {},
   "source": [
    "# 2.1. creating datframe with dictionaries.\n",
    "To create DataFrame from a dictionary of ndarrays /lists, all the arrays must be of the same length. If an index is passed then the length index should be equal to the length of the arrays.\n",
    "\n",
    "If no index is passed, then by default, the index will be range(n) where n is the array length."
   ]
  },
  {
   "cell_type": "code",
   "execution_count": 16,
   "id": "46e7cf20-55c1-407e-9268-5e955c34d821",
   "metadata": {},
   "outputs": [
    {
     "name": "stdout",
     "output_type": "stream",
     "text": [
      "  name   pop den\n",
      "0   qq  aaaa   q\n",
      "1   ww   sss   w\n",
      "2   ee   ddd   e\n"
     ]
    }
   ],
   "source": [
    "cities={'name': ['qq','ww','ee'],'pop': ['aaaa','sss','ddd'],'den': ['q','w','e']}\n",
    "ss=pd.DataFrame(cities)\n",
    "print(ss)"
   ]
  },
  {
   "cell_type": "code",
   "execution_count": 19,
   "id": "1712d188-e735-4b63-97ed-48bc96c3aaf4",
   "metadata": {},
   "outputs": [
    {
     "data": {
      "text/plain": [
       "array(['name', 'pop', 'den'], dtype=object)"
      ]
     },
     "execution_count": 19,
     "metadata": {},
     "output_type": "execute_result"
    }
   ],
   "source": [
    "#the list of the names of the columns\n",
    "#  It's possible to get the names of the columns as a list:\n",
    "\n",
    "ss.columns.values\n"
   ]
  },
  {
   "cell_type": "markdown",
   "id": "616dcae1-7786-4d69-94c9-d75f08f0c0ad",
   "metadata": {},
   "source": [
    "# 2.2. creating dataframewith lists inside list.\n",
    "when we use only list its elements will traverse horizotically in the dataframe.\\\n",
    "To create a Pandas DataFrame from a list of lists, you can use the pd.DataFrame() function. This function takes a list of lists as input and creates a DataFrame with the same number of rows and columns as the input list."
   ]
  },
  {
   "cell_type": "code",
   "execution_count": 21,
   "id": "815b749b-aa29-48c4-8cba-3a8893d14acf",
   "metadata": {},
   "outputs": [
    {
     "data": {
      "text/html": [
       "<div>\n",
       "<style scoped>\n",
       "    .dataframe tbody tr th:only-of-type {\n",
       "        vertical-align: middle;\n",
       "    }\n",
       "\n",
       "    .dataframe tbody tr th {\n",
       "        vertical-align: top;\n",
       "    }\n",
       "\n",
       "    .dataframe thead th {\n",
       "        text-align: right;\n",
       "    }\n",
       "</style>\n",
       "<table border=\"1\" class=\"dataframe\">\n",
       "  <thead>\n",
       "    <tr style=\"text-align: right;\">\n",
       "      <th></th>\n",
       "      <th>q</th>\n",
       "      <th>p</th>\n",
       "      <th>r</th>\n",
       "      <th>s</th>\n",
       "    </tr>\n",
       "  </thead>\n",
       "  <tbody>\n",
       "    <tr>\n",
       "      <th>0</th>\n",
       "      <td>111</td>\n",
       "      <td>333</td>\n",
       "      <td>444</td>\n",
       "      <td>555</td>\n",
       "    </tr>\n",
       "    <tr>\n",
       "      <th>1</th>\n",
       "      <td>3533</td>\n",
       "      <td>4444</td>\n",
       "      <td>5555</td>\n",
       "      <td>6666</td>\n",
       "    </tr>\n",
       "    <tr>\n",
       "      <th>2</th>\n",
       "      <td>1</td>\n",
       "      <td>2</td>\n",
       "      <td>3</td>\n",
       "      <td>4</td>\n",
       "    </tr>\n",
       "  </tbody>\n",
       "</table>\n",
       "</div>"
      ],
      "text/plain": [
       "      q     p     r     s\n",
       "0   111   333   444   555\n",
       "1  3533  4444  5555  6666\n",
       "2     1     2     3     4"
      ]
     },
     "execution_count": 21,
     "metadata": {},
     "output_type": "execute_result"
    }
   ],
   "source": [
    "data=[[111,333,444,555],[3533,4444,5555,6666],[1,2,3,4]]\n",
    "df=pd.DataFrame(data, columns=['q','p','r','s'])\n",
    "df"
   ]
  },
  {
   "cell_type": "markdown",
   "id": "07b7566f-e8be-4477-9cca-9acc286d1a5d",
   "metadata": {},
   "source": [
    "# 2.3. Create DataFrame from List of Dictionaries\n",
    "Pandas DataFrame can be created by passing lists of dictionaries as input data. By default, dictionary keys will be taken as columns."
   ]
  },
  {
   "cell_type": "code",
   "execution_count": 22,
   "id": "cb6b291b-9e50-4465-9abd-654beff1dbfb",
   "metadata": {},
   "outputs": [
    {
     "name": "stdout",
     "output_type": "stream",
     "text": [
      "    a   b   c\n",
      "0   1   2   3\n",
      "1  10  20  30\n"
     ]
    }
   ],
   "source": [
    "# Python code demonstrate how to create\n",
    "# Pandas DataFrame by lists of dicts.\n",
    "import pandas as pd\n",
    "\n",
    "# Initialize data to lists.\n",
    "data = [{'a': 1, 'b': 2, 'c': 3},\n",
    "        {'a': 10, 'b': 20, 'c': 30}]\n",
    "\n",
    "# Creates DataFrame.\n",
    "df = pd.DataFrame(data)\n",
    "\n",
    "# Print the data\n",
    "print(df)\n"
   ]
  },
  {
   "cell_type": "markdown",
   "id": "0f1b733d-fe4c-4c8f-8f13-e80ac9eecb58",
   "metadata": {},
   "source": [
    "# 2.4. Create DataFrame using the zip() function\n",
    "Two lists can be merged by using the zip() function . Now, create the Pandas DataFrame by calling pd.DataFrame() function."
   ]
  },
  {
   "cell_type": "code",
   "execution_count": 27,
   "id": "d7e4d7e8-acc3-4908-80fb-5ddde1758975",
   "metadata": {},
   "outputs": [
    {
     "name": "stdout",
     "output_type": "stream",
     "text": [
      "    Name  Age\n",
      "0    tom   25\n",
      "1  krish   30\n",
      "2   nick   26\n",
      "3   juli   22\n"
     ]
    }
   ],
   "source": [
    "# Python program to demonstrate creating\n",
    "# pandas Dataframe from lists using zip.\n",
    "\n",
    "import pandas as pd\n",
    "\n",
    "# List1\n",
    "Name = ['tom', 'krish', 'nick', 'juli']\n",
    "\n",
    "# List2\n",
    "Age = [25, 30, 26, 22]\n",
    "\n",
    "# get the list of tuples from two lists.\n",
    "# and merge them by using zip().\n",
    "list_of_tuples = list(zip(Name, Age))\n",
    "\n",
    "# Assign data to tuples.\n",
    "list_of_tuples\n",
    "\n",
    "\n",
    "# Converting lists of tuples into\n",
    "# pandas Dataframe.\n",
    "df = pd.DataFrame(list_of_tuples,\n",
    "                  columns=['Name', 'Age'])\n",
    "\n",
    "# Print data.\n",
    "print(df)\n"
   ]
  },
  {
   "cell_type": "code",
   "execution_count": 28,
   "id": "bc42bf32-6f2c-42a2-806f-0bf33174a050",
   "metadata": {},
   "outputs": [
    {
     "name": "stdout",
     "output_type": "stream",
     "text": [
      "       Name  marks\n",
      "rank1   Tom     99\n",
      "rank2  Jack     98\n",
      "rank3  nick     95\n",
      "rank4  juli     90\n"
     ]
    }
   ],
   "source": [
    "# Python code demonstrate creating\n",
    "# pandas DataFrame with indexed by\n",
    "\n",
    "# DataFrame using arrays.\n",
    "import pandas as pd\n",
    "\n",
    "# initialize data of lists.\n",
    "data = {'Name': ['Tom', 'Jack', 'nick', 'juli'],\n",
    "        'marks': [99, 98, 95, 90]}\n",
    "\n",
    "# Creates pandas DataFrame.\n",
    "df = pd.DataFrame(data, index=['rank1',\n",
    "                               'rank2',\n",
    "                               'rank3',\n",
    "                               'rank4'])\n",
    "\n",
    "# print the data\n",
    "print(df)\n"
   ]
  },
  {
   "cell_type": "code",
   "execution_count": 33,
   "id": "fde8662c-9ff5-4d31-ae91-a1fc0887735d",
   "metadata": {},
   "outputs": [
    {
     "name": "stdout",
     "output_type": "stream",
     "text": [
      "rank1     Tom\n",
      "rank2    Jack\n",
      "rank3    nick\n",
      "rank4    juli\n",
      "Name: Name, dtype: object\n"
     ]
    }
   ],
   "source": [
    "p=df.Name\n",
    "print(pd.Series(p))\n"
   ]
  },
  {
   "cell_type": "markdown",
   "id": "82d16a26-02c6-4dbd-90ef-fbce927ca2d2",
   "metadata": {},
   "source": [
    "# 2.5. REARRANGING THE ORDER OF COLUMNS \n",
    "We can also define and rearrange the order of the columns at the time of creation of the DataFrame. This makes also sure that we will have a defined ordering of our columns, if we create the DataFrame from a\n",
    "dictionary. Dictionaries are not ordered, as you have seen in our chapter onDictionariesin our Python tutorial, so we cannot know in advance what the ordering of our columns will be:"
   ]
  },
  {
   "cell_type": "code",
   "execution_count": 35,
   "id": "538fad11-b3b3-4f40-9f5e-63533733d30f",
   "metadata": {},
   "outputs": [
    {
     "data": {
      "text/html": [
       "<div>\n",
       "<style scoped>\n",
       "    .dataframe tbody tr th:only-of-type {\n",
       "        vertical-align: middle;\n",
       "    }\n",
       "\n",
       "    .dataframe tbody tr th {\n",
       "        vertical-align: top;\n",
       "    }\n",
       "\n",
       "    .dataframe thead th {\n",
       "        text-align: right;\n",
       "    }\n",
       "</style>\n",
       "<table border=\"1\" class=\"dataframe\">\n",
       "  <thead>\n",
       "    <tr style=\"text-align: right;\">\n",
       "      <th></th>\n",
       "      <th>name</th>\n",
       "      <th>country</th>\n",
       "      <th>population</th>\n",
       "      <th>idk</th>\n",
       "    </tr>\n",
       "  </thead>\n",
       "  <tbody>\n",
       "    <tr>\n",
       "      <th>0</th>\n",
       "      <td>qq</td>\n",
       "      <td>NaN</td>\n",
       "      <td>NaN</td>\n",
       "      <td>NaN</td>\n",
       "    </tr>\n",
       "    <tr>\n",
       "      <th>1</th>\n",
       "      <td>ww</td>\n",
       "      <td>NaN</td>\n",
       "      <td>NaN</td>\n",
       "      <td>NaN</td>\n",
       "    </tr>\n",
       "    <tr>\n",
       "      <th>2</th>\n",
       "      <td>ee</td>\n",
       "      <td>NaN</td>\n",
       "      <td>NaN</td>\n",
       "      <td>NaN</td>\n",
       "    </tr>\n",
       "  </tbody>\n",
       "</table>\n",
       "</div>"
      ],
      "text/plain": [
       "  name country population  idk\n",
       "0   qq     NaN        NaN  NaN\n",
       "1   ww     NaN        NaN  NaN\n",
       "2   ee     NaN        NaN  NaN"
      ]
     },
     "execution_count": 35,
     "metadata": {},
     "output_type": "execute_result"
    }
   ],
   "source": [
    "city_frame = pd.DataFrame(cities, columns=[\"name\", \"country\", \"population\",\"idk\"]) \n",
    "city_frame"
   ]
  },
  {
   "cell_type": "code",
   "execution_count": 36,
   "id": "a357e958-b7ce-4e57-86ec-b70f88dadd94",
   "metadata": {
    "collapsed": true,
    "jupyter": {
     "outputs_hidden": true
    },
    "scrolled": true
   },
   "outputs": [
    {
     "data": {
      "text/html": [
       "<div>\n",
       "<style scoped>\n",
       "    .dataframe tbody tr th:only-of-type {\n",
       "        vertical-align: middle;\n",
       "    }\n",
       "\n",
       "    .dataframe tbody tr th {\n",
       "        vertical-align: top;\n",
       "    }\n",
       "\n",
       "    .dataframe thead th {\n",
       "        text-align: right;\n",
       "    }\n",
       "</style>\n",
       "<table border=\"1\" class=\"dataframe\">\n",
       "  <thead>\n",
       "    <tr style=\"text-align: right;\">\n",
       "      <th></th>\n",
       "      <th>country</th>\n",
       "      <th>name</th>\n",
       "      <th>population</th>\n",
       "    </tr>\n",
       "  </thead>\n",
       "  <tbody>\n",
       "    <tr>\n",
       "      <th>0</th>\n",
       "      <td>NaN</td>\n",
       "      <td>qq</td>\n",
       "      <td>NaN</td>\n",
       "    </tr>\n",
       "    <tr>\n",
       "      <th>2</th>\n",
       "      <td>NaN</td>\n",
       "      <td>ee</td>\n",
       "      <td>NaN</td>\n",
       "    </tr>\n",
       "    <tr>\n",
       "      <th>4</th>\n",
       "      <td>NaN</td>\n",
       "      <td>NaN</td>\n",
       "      <td>NaN</td>\n",
       "    </tr>\n",
       "    <tr>\n",
       "      <th>6</th>\n",
       "      <td>NaN</td>\n",
       "      <td>NaN</td>\n",
       "      <td>NaN</td>\n",
       "    </tr>\n",
       "    <tr>\n",
       "      <th>8</th>\n",
       "      <td>NaN</td>\n",
       "      <td>NaN</td>\n",
       "      <td>NaN</td>\n",
       "    </tr>\n",
       "    <tr>\n",
       "      <th>10</th>\n",
       "      <td>NaN</td>\n",
       "      <td>NaN</td>\n",
       "      <td>NaN</td>\n",
       "    </tr>\n",
       "    <tr>\n",
       "      <th>12</th>\n",
       "      <td>NaN</td>\n",
       "      <td>NaN</td>\n",
       "      <td>NaN</td>\n",
       "    </tr>\n",
       "    <tr>\n",
       "      <th>1</th>\n",
       "      <td>NaN</td>\n",
       "      <td>ww</td>\n",
       "      <td>NaN</td>\n",
       "    </tr>\n",
       "    <tr>\n",
       "      <th>3</th>\n",
       "      <td>NaN</td>\n",
       "      <td>NaN</td>\n",
       "      <td>NaN</td>\n",
       "    </tr>\n",
       "    <tr>\n",
       "      <th>5</th>\n",
       "      <td>NaN</td>\n",
       "      <td>NaN</td>\n",
       "      <td>NaN</td>\n",
       "    </tr>\n",
       "    <tr>\n",
       "      <th>7</th>\n",
       "      <td>NaN</td>\n",
       "      <td>NaN</td>\n",
       "      <td>NaN</td>\n",
       "    </tr>\n",
       "    <tr>\n",
       "      <th>9</th>\n",
       "      <td>NaN</td>\n",
       "      <td>NaN</td>\n",
       "      <td>NaN</td>\n",
       "    </tr>\n",
       "    <tr>\n",
       "      <th>11</th>\n",
       "      <td>NaN</td>\n",
       "      <td>NaN</td>\n",
       "      <td>NaN</td>\n",
       "    </tr>\n",
       "  </tbody>\n",
       "</table>\n",
       "</div>"
      ],
      "text/plain": [
       "   country name population\n",
       "0      NaN   qq        NaN\n",
       "2      NaN   ee        NaN\n",
       "4      NaN  NaN        NaN\n",
       "6      NaN  NaN        NaN\n",
       "8      NaN  NaN        NaN\n",
       "10     NaN  NaN        NaN\n",
       "12     NaN  NaN        NaN\n",
       "1      NaN   ww        NaN\n",
       "3      NaN  NaN        NaN\n",
       "5      NaN  NaN        NaN\n",
       "7      NaN  NaN        NaN\n",
       "9      NaN  NaN        NaN\n",
       "11     NaN  NaN        NaN"
      ]
     },
     "execution_count": 36,
     "metadata": {},
     "output_type": "execute_result"
    }
   ],
   "source": [
    "#We change both the column order and the ordering of the index with the function reindex with the following code:\n",
    "city_frame.reindex(index=[0, 2, 4, 6, 8, 10, 12, 1, 3, 5, 7, 9, 11],\n",
    "columns=['country', 'name', 'population'])\n",
    "\n"
   ]
  },
  {
   "cell_type": "code",
   "execution_count": 38,
   "id": "c7a6bb43-4fef-4a5f-be02-82b0e27b0fb3",
   "metadata": {},
   "outputs": [
    {
     "data": {
      "text/html": [
       "<div>\n",
       "<style scoped>\n",
       "    .dataframe tbody tr th:only-of-type {\n",
       "        vertical-align: middle;\n",
       "    }\n",
       "\n",
       "    .dataframe tbody tr th {\n",
       "        vertical-align: top;\n",
       "    }\n",
       "\n",
       "    .dataframe thead th {\n",
       "        text-align: right;\n",
       "    }\n",
       "</style>\n",
       "<table border=\"1\" class=\"dataframe\">\n",
       "  <thead>\n",
       "    <tr style=\"text-align: right;\">\n",
       "      <th></th>\n",
       "      <th>Soyadı</th>\n",
       "      <th>Ülke</th>\n",
       "      <th>Nüfus</th>\n",
       "      <th>idk</th>\n",
       "    </tr>\n",
       "  </thead>\n",
       "  <tbody>\n",
       "    <tr>\n",
       "      <th>0</th>\n",
       "      <td>qq</td>\n",
       "      <td>NaN</td>\n",
       "      <td>NaN</td>\n",
       "      <td>NaN</td>\n",
       "    </tr>\n",
       "    <tr>\n",
       "      <th>1</th>\n",
       "      <td>ww</td>\n",
       "      <td>NaN</td>\n",
       "      <td>NaN</td>\n",
       "      <td>NaN</td>\n",
       "    </tr>\n",
       "    <tr>\n",
       "      <th>2</th>\n",
       "      <td>ee</td>\n",
       "      <td>NaN</td>\n",
       "      <td>NaN</td>\n",
       "      <td>NaN</td>\n",
       "    </tr>\n",
       "  </tbody>\n",
       "</table>\n",
       "</div>"
      ],
      "text/plain": [
       "  Soyadı Ülke Nüfus  idk\n",
       "0     qq  NaN   NaN  NaN\n",
       "1     ww  NaN   NaN  NaN\n",
       "2     ee  NaN   NaN  NaN"
      ]
     },
     "execution_count": 38,
     "metadata": {},
     "output_type": "execute_result"
    }
   ],
   "source": [
    "#Now, we want to rename our columns. For this purpose, we will use the DataFrame method 'rename'. This method supports two calling conventions\n",
    "city_frame.rename(columns={\"name\":\"Soyadı\", \"country\":\"Ülke\",\n",
    "\"population\":\"Nüfus\"}, \n",
    "                  inplace=True)\n",
    "city_frame"
   ]
  },
  {
   "cell_type": "markdown",
   "id": "b3185b20-1b70-44d8-9e9a-afb91b37f4c7",
   "metadata": {},
   "source": [
    "# EXISTING COLUMN AS THE INDEX OF A DATAFRAME \n",
    "We want to create a more useful index in the following example. We will use the country name as the index, i.e. the list value associated to the key \"country\" of our cities dictionary:"
   ]
  },
  {
   "cell_type": "code",
   "execution_count": 45,
   "id": "7a01b573-3c00-4d5c-ac3f-5204048aa773",
   "metadata": {
    "collapsed": true,
    "jupyter": {
     "outputs_hidden": true
    },
    "scrolled": true
   },
   "outputs": [
    {
     "data": {
      "text/html": [
       "<div>\n",
       "<style scoped>\n",
       "    .dataframe tbody tr th:only-of-type {\n",
       "        vertical-align: middle;\n",
       "    }\n",
       "\n",
       "    .dataframe tbody tr th {\n",
       "        vertical-align: top;\n",
       "    }\n",
       "\n",
       "    .dataframe thead th {\n",
       "        text-align: right;\n",
       "    }\n",
       "</style>\n",
       "<table border=\"1\" class=\"dataframe\">\n",
       "  <thead>\n",
       "    <tr style=\"text-align: right;\">\n",
       "      <th></th>\n",
       "      <th>name</th>\n",
       "      <th>population</th>\n",
       "      <th>country</th>\n",
       "    </tr>\n",
       "  </thead>\n",
       "  <tbody>\n",
       "    <tr>\n",
       "      <th>0</th>\n",
       "      <td>London</td>\n",
       "      <td>8615246</td>\n",
       "      <td>England</td>\n",
       "    </tr>\n",
       "    <tr>\n",
       "      <th>1</th>\n",
       "      <td>Berlin</td>\n",
       "      <td>3562166</td>\n",
       "      <td>Germany</td>\n",
       "    </tr>\n",
       "    <tr>\n",
       "      <th>2</th>\n",
       "      <td>Madrid</td>\n",
       "      <td>3165235</td>\n",
       "      <td>Spain</td>\n",
       "    </tr>\n",
       "    <tr>\n",
       "      <th>3</th>\n",
       "      <td>Rome</td>\n",
       "      <td>2874038</td>\n",
       "      <td>Italy</td>\n",
       "    </tr>\n",
       "    <tr>\n",
       "      <th>4</th>\n",
       "      <td>Paris</td>\n",
       "      <td>2273305</td>\n",
       "      <td>France</td>\n",
       "    </tr>\n",
       "    <tr>\n",
       "      <th>5</th>\n",
       "      <td>Vienna</td>\n",
       "      <td>1805681</td>\n",
       "      <td>Austria</td>\n",
       "    </tr>\n",
       "    <tr>\n",
       "      <th>6</th>\n",
       "      <td>Bucharest</td>\n",
       "      <td>1803425</td>\n",
       "      <td>Romania</td>\n",
       "    </tr>\n",
       "    <tr>\n",
       "      <th>7</th>\n",
       "      <td>Hamburg</td>\n",
       "      <td>1760433</td>\n",
       "      <td>Germany</td>\n",
       "    </tr>\n",
       "    <tr>\n",
       "      <th>8</th>\n",
       "      <td>Budapest</td>\n",
       "      <td>1754000</td>\n",
       "      <td>Hungary</td>\n",
       "    </tr>\n",
       "    <tr>\n",
       "      <th>9</th>\n",
       "      <td>Warsaw</td>\n",
       "      <td>1740119</td>\n",
       "      <td>Poland</td>\n",
       "    </tr>\n",
       "    <tr>\n",
       "      <th>10</th>\n",
       "      <td>Barcelona</td>\n",
       "      <td>1602386</td>\n",
       "      <td>Spain</td>\n",
       "    </tr>\n",
       "    <tr>\n",
       "      <th>11</th>\n",
       "      <td>Munich</td>\n",
       "      <td>1493900</td>\n",
       "      <td>Germany</td>\n",
       "    </tr>\n",
       "    <tr>\n",
       "      <th>12</th>\n",
       "      <td>Milan</td>\n",
       "      <td>1350680</td>\n",
       "      <td>Italy</td>\n",
       "    </tr>\n",
       "  </tbody>\n",
       "</table>\n",
       "</div>"
      ],
      "text/plain": [
       "         name  population  country\n",
       "0      London     8615246  England\n",
       "1      Berlin     3562166  Germany\n",
       "2      Madrid     3165235    Spain\n",
       "3        Rome     2874038    Italy\n",
       "4       Paris     2273305   France\n",
       "5      Vienna     1805681  Austria\n",
       "6   Bucharest     1803425  Romania\n",
       "7     Hamburg     1760433  Germany\n",
       "8    Budapest     1754000  Hungary\n",
       "9      Warsaw     1740119   Poland\n",
       "10  Barcelona     1602386    Spain\n",
       "11     Munich     1493900  Germany\n",
       "12      Milan     1350680    Italy"
      ]
     },
     "execution_count": 45,
     "metadata": {},
     "output_type": "execute_result"
    }
   ],
   "source": [
    "cities = {\"name\": [\"London\", \"Berlin\", \"Madrid\", \"Rome\", \"Paris\", \"Vienna\", \"Bucharest\", \"Hamburg\", \n",
    "                   \"Budapest\", \"Warsaw\", \"Barcelona\", \"Munich\", \"Milan\"], \"population\": \n",
    "          [8615246, 3562166, 3165235, 2874038, 2273305, 1805681, 1803425, 1760433, 1754000,\n",
    "           1740119, 1602386, 1493900, 1350680], \"country\": [\"England\", \"Germany\", \"Spain\", \n",
    "                                                            \"Italy\", \"France\", \"Austria\", \"Romania\", \"Germany\", \"Hungary\", \n",
    "                                                            \"Poland\", \"Spain\", \"Germany\", \"Italy\"]}\n",
    "city_frame = pd.DataFrame(cities)\n",
    "city_frame\n"
   ]
  },
  {
   "cell_type": "code",
   "execution_count": 43,
   "id": "7d05f033-5b4e-43b3-9640-78dfc51b9550",
   "metadata": {
    "collapsed": true,
    "jupyter": {
     "outputs_hidden": true
    }
   },
   "outputs": [
    {
     "ename": "KeyError",
     "evalue": "'country'",
     "output_type": "error",
     "traceback": [
      "\u001b[1;31m---------------------------------------------------------------------------\u001b[0m",
      "\u001b[1;31mKeyError\u001b[0m                                  Traceback (most recent call last)",
      "Cell \u001b[1;32mIn[43], line 1\u001b[0m\n\u001b[1;32m----> 1\u001b[0m city_frame \u001b[38;5;241m=\u001b[39m pd\u001b[38;5;241m.\u001b[39mDataFrame(cities, columns\u001b[38;5;241m=\u001b[39m[\u001b[38;5;124m\"\u001b[39m\u001b[38;5;124mname\u001b[39m\u001b[38;5;124m\"\u001b[39m, \u001b[38;5;124m\"\u001b[39m\u001b[38;5;124mpopulation\u001b[39m\u001b[38;5;124m\"\u001b[39m], index\u001b[38;5;241m=\u001b[39m\u001b[43mcities\u001b[49m\u001b[43m[\u001b[49m\u001b[38;5;124;43m\"\u001b[39;49m\u001b[38;5;124;43mcountry\u001b[39;49m\u001b[38;5;124;43m\"\u001b[39;49m\u001b[43m]\u001b[49m) \n\u001b[0;32m      2\u001b[0m city_frame\n",
      "\u001b[1;31mKeyError\u001b[0m: 'country'"
     ]
    }
   ],
   "source": [
    "city_frame = pd.DataFrame(cities, columns=[\"name\", \"population\"], index=cities[\"country\"]) \n",
    "city_frame"
   ]
  },
  {
   "cell_type": "code",
   "execution_count": null,
   "id": "a9ccabe2-8319-44c2-8fbb-771cb71742c8",
   "metadata": {},
   "outputs": [],
   "source": []
  },
  {
   "cell_type": "code",
   "execution_count": 46,
   "id": "a7b31e5b-1b75-4e53-ab87-18cad125f1f4",
   "metadata": {
    "collapsed": true,
    "jupyter": {
     "outputs_hidden": true
    }
   },
   "outputs": [
    {
     "name": "stdout",
     "output_type": "stream",
     "text": [
      "              name  population\n",
      "country                       \n",
      "England     London     8615246\n",
      "Germany     Berlin     3562166\n",
      "Spain       Madrid     3165235\n",
      "Italy         Rome     2874038\n",
      "France       Paris     2273305\n",
      "Austria     Vienna     1805681\n",
      "Romania  Bucharest     1803425\n",
      "Germany    Hamburg     1760433\n",
      "Hungary   Budapest     1754000\n",
      "Poland      Warsaw     1740119\n",
      "Spain    Barcelona     1602386\n",
      "Germany     Munich     1493900\n",
      "Italy        Milan     1350680\n"
     ]
    }
   ],
   "source": [
    "#Alternatively, we can change an existing DataFrame. We can us the method set_index to turn a column into an index. \"set_index\" does not work in-place, it returns a new data frame with the chosen column as the index:\n",
    "city_frame = pd.DataFrame(cities) \n",
    "city_frame2 = city_frame.set_index(\"country\") \n",
    "print(city_frame2)\n"
   ]
  },
  {
   "cell_type": "code",
   "execution_count": 47,
   "id": "e49dd084-412a-4ff3-bd10-bb7f754c9255",
   "metadata": {},
   "outputs": [
    {
     "data": {
      "text/plain": [
       "array(['name', 'population', 'country'], dtype=object)"
      ]
     },
     "execution_count": 47,
     "metadata": {},
     "output_type": "execute_result"
    }
   ],
   "source": [
    "# RETRIEVING THE COLUMN NAMES It's possible to get the names of the columns as a list:\n",
    "city_frame.columns.values"
   ]
  },
  {
   "cell_type": "code",
   "execution_count": 48,
   "id": "c4f332c4-4103-47b7-b6d0-df6855650604",
   "metadata": {
    "collapsed": true,
    "jupyter": {
     "outputs_hidden": true
    },
    "scrolled": true
   },
   "outputs": [
    {
     "data": {
      "text/html": [
       "<div>\n",
       "<style scoped>\n",
       "    .dataframe tbody tr th:only-of-type {\n",
       "        vertical-align: middle;\n",
       "    }\n",
       "\n",
       "    .dataframe tbody tr th {\n",
       "        vertical-align: top;\n",
       "    }\n",
       "\n",
       "    .dataframe thead th {\n",
       "        text-align: right;\n",
       "    }\n",
       "</style>\n",
       "<table border=\"1\" class=\"dataframe\">\n",
       "  <thead>\n",
       "    <tr style=\"text-align: right;\">\n",
       "      <th></th>\n",
       "      <th>name</th>\n",
       "      <th>population</th>\n",
       "      <th>country</th>\n",
       "    </tr>\n",
       "  </thead>\n",
       "  <tbody>\n",
       "    <tr>\n",
       "      <th>first</th>\n",
       "      <td>London</td>\n",
       "      <td>8615246</td>\n",
       "      <td>England</td>\n",
       "    </tr>\n",
       "    <tr>\n",
       "      <th>second</th>\n",
       "      <td>Berlin</td>\n",
       "      <td>3562166</td>\n",
       "      <td>Germany</td>\n",
       "    </tr>\n",
       "    <tr>\n",
       "      <th>third</th>\n",
       "      <td>Madrid</td>\n",
       "      <td>3165235</td>\n",
       "      <td>Spain</td>\n",
       "    </tr>\n",
       "    <tr>\n",
       "      <th>fourth</th>\n",
       "      <td>Rome</td>\n",
       "      <td>2874038</td>\n",
       "      <td>Italy</td>\n",
       "    </tr>\n",
       "    <tr>\n",
       "      <th>fifth</th>\n",
       "      <td>Paris</td>\n",
       "      <td>2273305</td>\n",
       "      <td>France</td>\n",
       "    </tr>\n",
       "    <tr>\n",
       "      <th>sixth</th>\n",
       "      <td>Vienna</td>\n",
       "      <td>1805681</td>\n",
       "      <td>Austria</td>\n",
       "    </tr>\n",
       "    <tr>\n",
       "      <th>seventh</th>\n",
       "      <td>Bucharest</td>\n",
       "      <td>1803425</td>\n",
       "      <td>Romania</td>\n",
       "    </tr>\n",
       "    <tr>\n",
       "      <th>eigth</th>\n",
       "      <td>Hamburg</td>\n",
       "      <td>1760433</td>\n",
       "      <td>Germany</td>\n",
       "    </tr>\n",
       "    <tr>\n",
       "      <th>ninth</th>\n",
       "      <td>Budapest</td>\n",
       "      <td>1754000</td>\n",
       "      <td>Hungary</td>\n",
       "    </tr>\n",
       "    <tr>\n",
       "      <th>tenth</th>\n",
       "      <td>Warsaw</td>\n",
       "      <td>1740119</td>\n",
       "      <td>Poland</td>\n",
       "    </tr>\n",
       "    <tr>\n",
       "      <th>eleventh</th>\n",
       "      <td>Barcelona</td>\n",
       "      <td>1602386</td>\n",
       "      <td>Spain</td>\n",
       "    </tr>\n",
       "    <tr>\n",
       "      <th>twelvth</th>\n",
       "      <td>Munich</td>\n",
       "      <td>1493900</td>\n",
       "      <td>Germany</td>\n",
       "    </tr>\n",
       "    <tr>\n",
       "      <th>thirteenth</th>\n",
       "      <td>Milan</td>\n",
       "      <td>1350680</td>\n",
       "      <td>Italy</td>\n",
       "    </tr>\n",
       "  </tbody>\n",
       "</table>\n",
       "</div>"
      ],
      "text/plain": [
       "                 name  population  country\n",
       "first          London     8615246  England\n",
       "second         Berlin     3562166  Germany\n",
       "third          Madrid     3165235    Spain\n",
       "fourth           Rome     2874038    Italy\n",
       "fifth           Paris     2273305   France\n",
       "sixth          Vienna     1805681  Austria\n",
       "seventh     Bucharest     1803425  Romania\n",
       "eigth         Hamburg     1760433  Germany\n",
       "ninth        Budapest     1754000  Hungary\n",
       "tenth          Warsaw     1740119   Poland\n",
       "eleventh    Barcelona     1602386    Spain\n",
       "twelvth        Munich     1493900  Germany\n",
       "thirteenth      Milan     1350680    Italy"
      ]
     },
     "execution_count": 48,
     "metadata": {},
     "output_type": "execute_result"
    }
   ],
   "source": [
    "# CUSTOM INDEX \n",
    "ordinals = [\"first\", \"second\", \"third\", \"fourth\", \"fifth\", \"sixth\", \"seventh\", \"eigth\", \"ninth\", \"tenth\", \"eleventh\", \"twelvth\", \"thirteenth\"] \n",
    "city_frame = pd.DataFrame(cities, index=ordinals) \n",
    "city_frame\n"
   ]
  },
  {
   "cell_type": "code",
   "execution_count": 51,
   "id": "19bd3650-3bbd-4dca-81ad-0f2f4a7c5c76",
   "metadata": {
    "collapsed": true,
    "jupyter": {
     "outputs_hidden": true
    }
   },
   "outputs": [
    {
     "name": "stdout",
     "output_type": "stream",
     "text": [
      "              name  population\n",
      "country                       \n",
      "England     London     8615246\n",
      "Germany     Berlin     3562166\n",
      "Spain       Madrid     3165235\n",
      "Italy         Rome     2874038\n",
      "France       Paris     2273305\n",
      "Austria     Vienna     1805681\n",
      "Romania  Bucharest     1803425\n",
      "Germany    Hamburg     1760433\n",
      "Hungary   Budapest     1754000\n",
      "Poland      Warsaw     1740119\n",
      "Spain    Barcelona     1602386\n",
      "Germany     Munich     1493900\n",
      "Italy        Milan     1350680\n"
     ]
    }
   ],
   "source": [
    "# Alternatively, we can change an existing DataFrame. We can us the method set_index to turn a column into an index. \n",
    "#\"set_index\" does not work in-place, it returns a new data frame with the chosen column as the index:\n",
    "city_frame = pd.DataFrame(cities) \n",
    "city_frame2 = city_frame.set_index(\"country\") \n",
    "print(city_frame2)\n",
    "#We saw in the previous example that the set_index method returns a new DataFrame object and doesn't change the original DataFrame. \n",
    "#If we set the optional parameter \"inplace\" to True, the DataFrame will be changed in place, i.e. no new object will be created:\n"
   ]
  },
  {
   "cell_type": "markdown",
   "id": "e5892fba-e5da-49a2-b0f9-0e8ed28b346f",
   "metadata": {},
   "source": [
    "# 2.6. accessing row elements (locators 'loc' and 'iloc'.)\n",
    "only works on the row index but not any other element of the index.\\\n",
    "*iloc= will only take real either vis|ible or imaginary index(2,4,5,-1)\\\n",
    "*loc= this can take the name of the row be it a numeric value or be it a name. "
   ]
  },
  {
   "cell_type": "code",
   "execution_count": 80,
   "id": "f16edb3b-c108-4a51-a33a-21d636306e7b",
   "metadata": {
    "collapsed": true,
    "jupyter": {
     "outputs_hidden": true
    }
   },
   "outputs": [
    {
     "name": "stdout",
     "output_type": "stream",
     "text": [
      "city_frame2------------------------------------------------------------------ \n",
      "              name  population\n",
      "country                       \n",
      "England     London     8615246\n",
      "Germany     Berlin     3562166\n",
      "Spain       Madrid     3165235\n",
      "Italy         Rome     2874038\n",
      "France       Paris     2273305\n",
      "Austria     Vienna     1805681\n",
      "Romania  Bucharest     1803425\n",
      "Germany    Hamburg     1760433\n",
      "Hungary   Budapest     1754000\n",
      "Poland      Warsaw     1740119\n",
      "Spain    Barcelona     1602386\n",
      "Germany     Munich     1493900\n",
      "Italy        Milan     1350680\n",
      " \n",
      "city_frame------------------------------------------------------------------\n",
      "         name  population  country\n",
      "0      London     8615246  England\n",
      "1      Berlin     3562166  Germany\n",
      "2      Madrid     3165235    Spain\n",
      "3        Rome     2874038    Italy\n",
      "4       Paris     2273305   France\n",
      "5      Vienna     1805681  Austria\n",
      "6   Bucharest     1803425  Romania\n",
      "7     Hamburg     1760433  Germany\n",
      "8    Budapest     1754000  Hungary\n",
      "9      Warsaw     1740119   Poland\n",
      "10  Barcelona     1602386    Spain\n",
      "11     Munich     1493900  Germany\n",
      "12      Milan     1350680    Italy\n",
      "------------------------------------------------------------------\n"
     ]
    }
   ],
   "source": [
    "print('city_frame2------------------------------------------------------------------ ')\n",
    "print(city_frame2)\n",
    "print(' ')\n",
    "print('city_frame------------------------------------------------------------------')\n",
    "print(city_frame)\n",
    "print('------------------------------------------------------------------')\n",
    "# print(pd.concat([city_frame2,city_frame],axis=1, index=range(1,14)))"
   ]
  },
  {
   "cell_type": "code",
   "execution_count": 138,
   "id": "dd6bdfeb-6c14-42a7-a5fb-4742d3471822",
   "metadata": {
    "scrolled": true
   },
   "outputs": [
    {
     "name": "stdout",
     "output_type": "stream",
     "text": [
      "        name  population\n",
      "country                 \n",
      "Germany   BB           0\n",
      "Germany   BB           0\n",
      "Germany   BB           0\n",
      "        name  population\n",
      "country                 \n",
      "Germany   BB           0\n",
      "Germany   BB           0\n",
      "Germany   BB           0\n"
     ]
    }
   ],
   "source": [
    "print(city_frame2.loc['Germany'])\n",
    "print(city_frame2.loc['Germany'])"
   ]
  },
  {
   "cell_type": "code",
   "execution_count": 84,
   "id": "d19a07da-a9ae-42ad-8c32-f5e31162e489",
   "metadata": {},
   "outputs": [
    {
     "name": "stdout",
     "output_type": "stream",
     "text": [
      "name           Madrid\n",
      "population    3165235\n",
      "Name: Spain, dtype: object\n"
     ]
    }
   ],
   "source": [
    "print(city_frame2.iloc[2])"
   ]
  },
  {
   "cell_type": "code",
   "execution_count": 85,
   "id": "effd8542-1a65-4db3-bdbc-56043f55f792",
   "metadata": {},
   "outputs": [
    {
     "name": "stdout",
     "output_type": "stream",
     "text": [
      "            name  population\n",
      "country                     \n",
      "Germany   Berlin     3562166\n",
      "Germany  Hamburg     1760433\n",
      "Germany   Munich     1493900\n",
      "France     Paris     2273305\n"
     ]
    }
   ],
   "source": [
    "# It is also possible to simultaneously extracting rows by chosen more than on index labels. To do this we use a list of indices:\n",
    "print(city_frame2.loc[[\"Germany\", \"France\"]])"
   ]
  },
  {
   "cell_type": "code",
   "execution_count": 90,
   "id": "a41920d2-fd41-4759-8edf-8d91838badcf",
   "metadata": {},
   "outputs": [
    {
     "name": "stdout",
     "output_type": "stream",
     "text": [
      "5\n"
     ]
    }
   ],
   "source": [
    "# We will also need to select pandas DataFrame rows based on conditions, which are applied to column values. We can use the operators '>', '=', '=', \n",
    "#'<=', '!=' for this purpose. We select all cities with a population of more than two million in the following example:\n",
    "condition = city_frame.population>2000000\n",
    "print(condition.sum())"
   ]
  },
  {
   "cell_type": "code",
   "execution_count": 91,
   "id": "6d3d2530-a3ec-4903-9a4d-4dafbbcd6d11",
   "metadata": {},
   "outputs": [
    {
     "name": "stdout",
     "output_type": "stream",
     "text": [
      "     name  population  country\n",
      "0  London     8615246  England\n",
      "1  Berlin     3562166  Germany\n",
      "2  Madrid     3165235    Spain\n",
      "3    Rome     2874038    Italy\n",
      "4   Paris     2273305   France\n"
     ]
    }
   ],
   "source": [
    "# We can use this Boolean DataFrame condition with loc to finally create the selection: \n",
    "print(city_frame.loc[condition])\n"
   ]
  },
  {
   "cell_type": "code",
   "execution_count": 92,
   "id": "cf7df206-69f0-4299-8b54-3713847e6995",
   "metadata": {},
   "outputs": [
    {
     "name": "stdout",
     "output_type": "stream",
     "text": [
      "      name  population  country\n",
      "3     Rome     2874038    Italy\n",
      "7  Hamburg     1760433  Germany\n"
     ]
    }
   ],
   "source": [
    "# It is also possible to logically combine more than one condition with & and | : \n",
    "condition1 = (city_frame.population>1500000) \n",
    "condition2 = (city_frame['name'].str.contains(\"m\")) \n",
    "print(city_frame.loc[condition1 & condition2])\n"
   ]
  },
  {
   "cell_type": "code",
   "execution_count": 93,
   "id": "bbb8b5b1-70e5-4e7d-8bcf-c8e59dfc6520",
   "metadata": {},
   "outputs": [
    {
     "name": "stdout",
     "output_type": "stream",
     "text": [
      "      name  population  country\n",
      "0   London     8615246  England\n",
      "1   Berlin     3562166  Germany\n",
      "2   Madrid     3165235    Spain\n",
      "3     Rome     2874038    Italy\n",
      "7  Hamburg     1760433  Germany\n"
     ]
    }
   ],
   "source": [
    "# We use a logical or | in the following example to see all cities of the Pandas DataFrame, where either the city name contains the letter 'm' or the population number is greater than three million:\n",
    "condition1 = (city_frame.population>3000000) \n",
    "condition2 = (city_frame['name'].str.contains(\"m\")) \n",
    "print(city_frame.loc[condition1 | condition2])\n"
   ]
  },
  {
   "cell_type": "markdown",
   "id": "587915e8-4a83-4983-a731-1b5810b003e0",
   "metadata": {},
   "source": [
    "# adding a new row to the dataframe."
   ]
  },
  {
   "cell_type": "code",
   "execution_count": 94,
   "id": "f39b2a71-9e59-43fd-bd52-5e0f1edcee9f",
   "metadata": {
    "collapsed": true,
    "jupyter": {
     "outputs_hidden": true
    }
   },
   "outputs": [
    {
     "data": {
      "text/html": [
       "<div>\n",
       "<style scoped>\n",
       "    .dataframe tbody tr th:only-of-type {\n",
       "        vertical-align: middle;\n",
       "    }\n",
       "\n",
       "    .dataframe tbody tr th {\n",
       "        vertical-align: top;\n",
       "    }\n",
       "\n",
       "    .dataframe thead th {\n",
       "        text-align: right;\n",
       "    }\n",
       "</style>\n",
       "<table border=\"1\" class=\"dataframe\">\n",
       "  <thead>\n",
       "    <tr style=\"text-align: right;\">\n",
       "      <th></th>\n",
       "      <th>name</th>\n",
       "      <th>population</th>\n",
       "      <th>country</th>\n",
       "    </tr>\n",
       "  </thead>\n",
       "  <tbody>\n",
       "    <tr>\n",
       "      <th>0</th>\n",
       "      <td>London</td>\n",
       "      <td>8615246</td>\n",
       "      <td>England</td>\n",
       "    </tr>\n",
       "    <tr>\n",
       "      <th>1</th>\n",
       "      <td>Berlin</td>\n",
       "      <td>3562166</td>\n",
       "      <td>Germany</td>\n",
       "    </tr>\n",
       "    <tr>\n",
       "      <th>2</th>\n",
       "      <td>Madrid</td>\n",
       "      <td>3165235</td>\n",
       "      <td>Spain</td>\n",
       "    </tr>\n",
       "    <tr>\n",
       "      <th>3</th>\n",
       "      <td>Rome</td>\n",
       "      <td>2874038</td>\n",
       "      <td>Italy</td>\n",
       "    </tr>\n",
       "    <tr>\n",
       "      <th>4</th>\n",
       "      <td>Paris</td>\n",
       "      <td>2273305</td>\n",
       "      <td>France</td>\n",
       "    </tr>\n",
       "    <tr>\n",
       "      <th>5</th>\n",
       "      <td>Vienna</td>\n",
       "      <td>1805681</td>\n",
       "      <td>Austria</td>\n",
       "    </tr>\n",
       "    <tr>\n",
       "      <th>6</th>\n",
       "      <td>Bucharest</td>\n",
       "      <td>1803425</td>\n",
       "      <td>Romania</td>\n",
       "    </tr>\n",
       "    <tr>\n",
       "      <th>7</th>\n",
       "      <td>Hamburg</td>\n",
       "      <td>1760433</td>\n",
       "      <td>Germany</td>\n",
       "    </tr>\n",
       "    <tr>\n",
       "      <th>8</th>\n",
       "      <td>Budapest</td>\n",
       "      <td>1754000</td>\n",
       "      <td>Hungary</td>\n",
       "    </tr>\n",
       "    <tr>\n",
       "      <th>9</th>\n",
       "      <td>Warsaw</td>\n",
       "      <td>1740119</td>\n",
       "      <td>Poland</td>\n",
       "    </tr>\n",
       "    <tr>\n",
       "      <th>10</th>\n",
       "      <td>Barcelona</td>\n",
       "      <td>1602386</td>\n",
       "      <td>Spain</td>\n",
       "    </tr>\n",
       "    <tr>\n",
       "      <th>11</th>\n",
       "      <td>Munich</td>\n",
       "      <td>1493900</td>\n",
       "      <td>Germany</td>\n",
       "    </tr>\n",
       "    <tr>\n",
       "      <th>12</th>\n",
       "      <td>Milan</td>\n",
       "      <td>1350680</td>\n",
       "      <td>Italy</td>\n",
       "    </tr>\n",
       "  </tbody>\n",
       "</table>\n",
       "</div>"
      ],
      "text/plain": [
       "         name  population  country\n",
       "0      London     8615246  England\n",
       "1      Berlin     3562166  Germany\n",
       "2      Madrid     3165235    Spain\n",
       "3        Rome     2874038    Italy\n",
       "4       Paris     2273305   France\n",
       "5      Vienna     1805681  Austria\n",
       "6   Bucharest     1803425  Romania\n",
       "7     Hamburg     1760433  Germany\n",
       "8    Budapest     1754000  Hungary\n",
       "9      Warsaw     1740119   Poland\n",
       "10  Barcelona     1602386    Spain\n",
       "11     Munich     1493900  Germany\n",
       "12      Milan     1350680    Italy"
      ]
     },
     "execution_count": 94,
     "metadata": {},
     "output_type": "execute_result"
    }
   ],
   "source": [
    "city_frame"
   ]
  },
  {
   "cell_type": "code",
   "execution_count": 109,
   "id": "9d457ebe-0f94-49f0-b00e-89a7a5dcf4f0",
   "metadata": {
    "collapsed": true,
    "jupyter": {
     "outputs_hidden": true
    }
   },
   "outputs": [
    {
     "data": {
      "text/html": [
       "<div>\n",
       "<style scoped>\n",
       "    .dataframe tbody tr th:only-of-type {\n",
       "        vertical-align: middle;\n",
       "    }\n",
       "\n",
       "    .dataframe tbody tr th {\n",
       "        vertical-align: top;\n",
       "    }\n",
       "\n",
       "    .dataframe thead th {\n",
       "        text-align: right;\n",
       "    }\n",
       "</style>\n",
       "<table border=\"1\" class=\"dataframe\">\n",
       "  <thead>\n",
       "    <tr style=\"text-align: right;\">\n",
       "      <th></th>\n",
       "      <th>name</th>\n",
       "      <th>population</th>\n",
       "      <th>country</th>\n",
       "    </tr>\n",
       "  </thead>\n",
       "  <tbody>\n",
       "    <tr>\n",
       "      <th>0</th>\n",
       "      <td>London</td>\n",
       "      <td>8615246</td>\n",
       "      <td>England</td>\n",
       "    </tr>\n",
       "    <tr>\n",
       "      <th>1</th>\n",
       "      <td>Berlin</td>\n",
       "      <td>3562166</td>\n",
       "      <td>Germany</td>\n",
       "    </tr>\n",
       "    <tr>\n",
       "      <th>2</th>\n",
       "      <td>Madrid</td>\n",
       "      <td>3165235</td>\n",
       "      <td>Spain</td>\n",
       "    </tr>\n",
       "    <tr>\n",
       "      <th>3</th>\n",
       "      <td>Rome</td>\n",
       "      <td>2874038</td>\n",
       "      <td>Italy</td>\n",
       "    </tr>\n",
       "    <tr>\n",
       "      <th>4</th>\n",
       "      <td>Paris</td>\n",
       "      <td>2273305</td>\n",
       "      <td>France</td>\n",
       "    </tr>\n",
       "    <tr>\n",
       "      <th>5</th>\n",
       "      <td>Vienna</td>\n",
       "      <td>1805681</td>\n",
       "      <td>Austria</td>\n",
       "    </tr>\n",
       "    <tr>\n",
       "      <th>6</th>\n",
       "      <td>Bucharest</td>\n",
       "      <td>1803425</td>\n",
       "      <td>Romania</td>\n",
       "    </tr>\n",
       "    <tr>\n",
       "      <th>7</th>\n",
       "      <td>Hamburg</td>\n",
       "      <td>1760433</td>\n",
       "      <td>Germany</td>\n",
       "    </tr>\n",
       "    <tr>\n",
       "      <th>8</th>\n",
       "      <td>Budapest</td>\n",
       "      <td>1754000</td>\n",
       "      <td>Hungary</td>\n",
       "    </tr>\n",
       "    <tr>\n",
       "      <th>9</th>\n",
       "      <td>Warsaw</td>\n",
       "      <td>1740119</td>\n",
       "      <td>Poland</td>\n",
       "    </tr>\n",
       "    <tr>\n",
       "      <th>10</th>\n",
       "      <td>Barcelona</td>\n",
       "      <td>1602386</td>\n",
       "      <td>Spain</td>\n",
       "    </tr>\n",
       "    <tr>\n",
       "      <th>11</th>\n",
       "      <td>Munich</td>\n",
       "      <td>1493900</td>\n",
       "      <td>Germany</td>\n",
       "    </tr>\n",
       "    <tr>\n",
       "      <th>12</th>\n",
       "      <td>hola</td>\n",
       "      <td>415215</td>\n",
       "      <td>Zurich</td>\n",
       "    </tr>\n",
       "  </tbody>\n",
       "</table>\n",
       "</div>"
      ],
      "text/plain": [
       "         name  population  country\n",
       "0      London     8615246  England\n",
       "1      Berlin     3562166  Germany\n",
       "2      Madrid     3165235    Spain\n",
       "3        Rome     2874038    Italy\n",
       "4       Paris     2273305   France\n",
       "5      Vienna     1805681  Austria\n",
       "6   Bucharest     1803425  Romania\n",
       "7     Hamburg     1760433  Germany\n",
       "8    Budapest     1754000  Hungary\n",
       "9      Warsaw     1740119   Poland\n",
       "10  Barcelona     1602386    Spain\n",
       "11     Munich     1493900  Germany\n",
       "12       hola      415215   Zurich"
      ]
     },
     "execution_count": 109,
     "metadata": {},
     "output_type": "execute_result"
    }
   ],
   "source": [
    "city_frame.iloc[-1] = ['hola', 415215, 'Zurich']\n",
    "city_frame"
   ]
  },
  {
   "cell_type": "code",
   "execution_count": 115,
   "id": "fc9c931d-0e4c-4eb8-baf5-aa96df7b8bb2",
   "metadata": {
    "collapsed": true,
    "jupyter": {
     "outputs_hidden": true
    }
   },
   "outputs": [
    {
     "data": {
      "text/html": [
       "<div>\n",
       "<style scoped>\n",
       "    .dataframe tbody tr th:only-of-type {\n",
       "        vertical-align: middle;\n",
       "    }\n",
       "\n",
       "    .dataframe tbody tr th {\n",
       "        vertical-align: top;\n",
       "    }\n",
       "\n",
       "    .dataframe thead th {\n",
       "        text-align: right;\n",
       "    }\n",
       "</style>\n",
       "<table border=\"1\" class=\"dataframe\">\n",
       "  <thead>\n",
       "    <tr style=\"text-align: right;\">\n",
       "      <th></th>\n",
       "      <th>name</th>\n",
       "      <th>population</th>\n",
       "    </tr>\n",
       "    <tr>\n",
       "      <th>country</th>\n",
       "      <th></th>\n",
       "      <th></th>\n",
       "    </tr>\n",
       "  </thead>\n",
       "  <tbody>\n",
       "    <tr>\n",
       "      <th>England</th>\n",
       "      <td>London</td>\n",
       "      <td>8615246</td>\n",
       "    </tr>\n",
       "    <tr>\n",
       "      <th>Germany</th>\n",
       "      <td>BB</td>\n",
       "      <td>0</td>\n",
       "    </tr>\n",
       "    <tr>\n",
       "      <th>Spain</th>\n",
       "      <td>Madrid</td>\n",
       "      <td>3165235</td>\n",
       "    </tr>\n",
       "    <tr>\n",
       "      <th>Italy</th>\n",
       "      <td>Rome</td>\n",
       "      <td>2874038</td>\n",
       "    </tr>\n",
       "    <tr>\n",
       "      <th>France</th>\n",
       "      <td>Paris</td>\n",
       "      <td>2273305</td>\n",
       "    </tr>\n",
       "    <tr>\n",
       "      <th>Austria</th>\n",
       "      <td>Vienna</td>\n",
       "      <td>1805681</td>\n",
       "    </tr>\n",
       "    <tr>\n",
       "      <th>Romania</th>\n",
       "      <td>Bucharest</td>\n",
       "      <td>1803425</td>\n",
       "    </tr>\n",
       "    <tr>\n",
       "      <th>Germany</th>\n",
       "      <td>BB</td>\n",
       "      <td>0</td>\n",
       "    </tr>\n",
       "    <tr>\n",
       "      <th>Hungary</th>\n",
       "      <td>Budapest</td>\n",
       "      <td>1754000</td>\n",
       "    </tr>\n",
       "    <tr>\n",
       "      <th>Poland</th>\n",
       "      <td>Warsaw</td>\n",
       "      <td>1740119</td>\n",
       "    </tr>\n",
       "    <tr>\n",
       "      <th>Spain</th>\n",
       "      <td>Barcelona</td>\n",
       "      <td>1602386</td>\n",
       "    </tr>\n",
       "    <tr>\n",
       "      <th>Germany</th>\n",
       "      <td>BB</td>\n",
       "      <td>0</td>\n",
       "    </tr>\n",
       "    <tr>\n",
       "      <th>Italy</th>\n",
       "      <td>Milan</td>\n",
       "      <td>1350680</td>\n",
       "    </tr>\n",
       "    <tr>\n",
       "      <th>Switzerland</th>\n",
       "      <td>Zurich</td>\n",
       "      <td>415215</td>\n",
       "    </tr>\n",
       "  </tbody>\n",
       "</table>\n",
       "</div>"
      ],
      "text/plain": [
       "                  name  population\n",
       "country                           \n",
       "England         London     8615246\n",
       "Germany             BB           0\n",
       "Spain           Madrid     3165235\n",
       "Italy             Rome     2874038\n",
       "France           Paris     2273305\n",
       "Austria         Vienna     1805681\n",
       "Romania      Bucharest     1803425\n",
       "Germany             BB           0\n",
       "Hungary       Budapest     1754000\n",
       "Poland          Warsaw     1740119\n",
       "Spain        Barcelona     1602386\n",
       "Germany             BB           0\n",
       "Italy            Milan     1350680\n",
       "Switzerland     Zurich      415215"
      ]
     },
     "execution_count": 115,
     "metadata": {},
     "output_type": "execute_result"
    }
   ],
   "source": [
    "# all values of germany has been displaced with new values since Germany index already exists so no new row got added. \n",
    "city_frame2.loc['Germany'] = ['BB', 0000] \n",
    "city_frame2"
   ]
  },
  {
   "cell_type": "code",
   "execution_count": 116,
   "id": "f61c756f-3a26-4563-a6db-7cc36fd92752",
   "metadata": {},
   "outputs": [
    {
     "name": "stdout",
     "output_type": "stream",
     "text": [
      "name             Rome\n",
      "population    2874038\n",
      "country         Italy\n",
      "Name: 3, dtype: object\n"
     ]
    }
   ],
   "source": [
    "#ACCESSING ROWS BY POSITION The iloc method of a Pandas DataFrame object can be used to select rows and columns by number, i.e. in the order that they appear in the data frame. iloc allows selections of the rows, as if they were numbered by integers 0 , 1 , 2 , .... We demonstrate this in the following example:\n",
    "df = city_frame.iloc[3] \n",
    "print(df)\n"
   ]
  },
  {
   "cell_type": "code",
   "execution_count": 117,
   "id": "6e8827de-3417-4e8b-bc62-3e3c1ef880eb",
   "metadata": {},
   "outputs": [
    {
     "name": "stdout",
     "output_type": "stream",
     "text": [
      "     name  population  country\n",
      "3    Rome     2874038    Italy\n",
      "2  Madrid     3165235    Spain\n",
      "0  London     8615246  England\n",
      "5  Vienna     1805681  Austria\n",
      "0  London     8615246  England\n"
     ]
    }
   ],
   "source": [
    "df = city_frame.iloc[[3, 2, 0, 5, 0]] \n",
    "print(df)\n"
   ]
  },
  {
   "cell_type": "markdown",
   "id": "050fe1e2-a52c-469a-8d51-638bda39e7ad",
   "metadata": {},
   "source": [
    "# SUM AND CUMULATIVE SUM \n",
    "The DataFrame object of Pandas provides a method to sum both columns and rows."
   ]
  },
  {
   "cell_type": "code",
   "execution_count": 124,
   "id": "b8329085-0eee-4fe1-b498-b2fe59f75e76",
   "metadata": {},
   "outputs": [
    {
     "name": "stdout",
     "output_type": "stream",
     "text": [
      "      Zürich  Freiburg  München  Konstanz  Saarbrücke n\n",
      "2014  959.98    879.51   790.61    833.86        722.71\n",
      "2015  817.78    917.12   854.59    769.95        868.12\n",
      "2016  835.92    820.23   824.61    926.29        861.93\n",
      "2017  784.41    888.28   944.49    778.11        826.40\n",
      "2018  978.66    742.14   932.32    742.05        954.29\n"
     ]
    }
   ],
   "source": [
    "import numpy as np\n",
    "years = range(2014, 2019) \n",
    "cities = [\"Zürich\", \"Freiburg\", \"München\", \"Konstanz\", \"Saarbrücke n\"] \n",
    "shops = pd.DataFrame(index=years) \n",
    "for city in cities: \n",
    "    shops.insert(loc=len(shops.columns), column=city, value=(np.random.uniform(0.7, 1, (5,)) * 1000).round(2)) \n",
    "print(shops)"
   ]
  },
  {
   "cell_type": "code",
   "execution_count": 122,
   "id": "b07a8905-7be2-41dc-8ad0-879070fbdf74",
   "metadata": {},
   "outputs": [
    {
     "data": {
      "text/plain": [
       "Zürich          3934.55\n",
       "Freiburg        4206.61\n",
       "München         4323.18\n",
       "Konstanz        4091.26\n",
       "Saarbrücke n    4075.54\n",
       "dtype: float64"
      ]
     },
     "execution_count": 122,
     "metadata": {},
     "output_type": "execute_result"
    }
   ],
   "source": [
    "#Let's apply sum to the DataFrame shops :\n",
    "shops.sum()\n",
    "# by default axis is 0"
   ]
  },
  {
   "cell_type": "code",
   "execution_count": 123,
   "id": "95b760fe-4670-4ed0-ad9f-2662bd23b074",
   "metadata": {},
   "outputs": [
    {
     "data": {
      "text/plain": [
       "2014    3930.29\n",
       "2015    3760.35\n",
       "2016    4795.26\n",
       "2017    4040.43\n",
       "2018    4104.81\n",
       "dtype: float64"
      ]
     },
     "execution_count": 123,
     "metadata": {},
     "output_type": "execute_result"
    }
   ],
   "source": [
    "shops.sum(axis=1)"
   ]
  },
  {
   "cell_type": "code",
   "execution_count": 125,
   "id": "5a411ecd-c0c8-4364-8e7e-f10765bc72c8",
   "metadata": {},
   "outputs": [
    {
     "data": {
      "text/html": [
       "<div>\n",
       "<style scoped>\n",
       "    .dataframe tbody tr th:only-of-type {\n",
       "        vertical-align: middle;\n",
       "    }\n",
       "\n",
       "    .dataframe tbody tr th {\n",
       "        vertical-align: top;\n",
       "    }\n",
       "\n",
       "    .dataframe thead th {\n",
       "        text-align: right;\n",
       "    }\n",
       "</style>\n",
       "<table border=\"1\" class=\"dataframe\">\n",
       "  <thead>\n",
       "    <tr style=\"text-align: right;\">\n",
       "      <th></th>\n",
       "      <th>Zürich</th>\n",
       "      <th>Freiburg</th>\n",
       "      <th>München</th>\n",
       "      <th>Konstanz</th>\n",
       "      <th>Saarbrücke n</th>\n",
       "    </tr>\n",
       "  </thead>\n",
       "  <tbody>\n",
       "    <tr>\n",
       "      <th>2014</th>\n",
       "      <td>959.98</td>\n",
       "      <td>879.51</td>\n",
       "      <td>790.61</td>\n",
       "      <td>833.86</td>\n",
       "      <td>722.71</td>\n",
       "    </tr>\n",
       "    <tr>\n",
       "      <th>2015</th>\n",
       "      <td>817.78</td>\n",
       "      <td>917.12</td>\n",
       "      <td>854.59</td>\n",
       "      <td>769.95</td>\n",
       "      <td>868.12</td>\n",
       "    </tr>\n",
       "    <tr>\n",
       "      <th>2016</th>\n",
       "      <td>835.92</td>\n",
       "      <td>820.23</td>\n",
       "      <td>824.61</td>\n",
       "      <td>926.29</td>\n",
       "      <td>861.93</td>\n",
       "    </tr>\n",
       "    <tr>\n",
       "      <th>2017</th>\n",
       "      <td>784.41</td>\n",
       "      <td>888.28</td>\n",
       "      <td>944.49</td>\n",
       "      <td>778.11</td>\n",
       "      <td>826.40</td>\n",
       "    </tr>\n",
       "    <tr>\n",
       "      <th>2018</th>\n",
       "      <td>978.66</td>\n",
       "      <td>742.14</td>\n",
       "      <td>932.32</td>\n",
       "      <td>742.05</td>\n",
       "      <td>954.29</td>\n",
       "    </tr>\n",
       "  </tbody>\n",
       "</table>\n",
       "</div>"
      ],
      "text/plain": [
       "      Zürich  Freiburg  München  Konstanz  Saarbrücke n\n",
       "2014  959.98    879.51   790.61    833.86        722.71\n",
       "2015  817.78    917.12   854.59    769.95        868.12\n",
       "2016  835.92    820.23   824.61    926.29        861.93\n",
       "2017  784.41    888.28   944.49    778.11        826.40\n",
       "2018  978.66    742.14   932.32    742.05        954.29"
      ]
     },
     "execution_count": 125,
     "metadata": {},
     "output_type": "execute_result"
    }
   ],
   "source": [
    "# i only want the sum of 1,3 and 5th row.\n",
    "shops"
   ]
  },
  {
   "cell_type": "code",
   "execution_count": 144,
   "id": "16f0cf87-caa7-4253-a6aa-1e499458039c",
   "metadata": {},
   "outputs": [
    {
     "data": {
      "text/html": [
       "<div>\n",
       "<style scoped>\n",
       "    .dataframe tbody tr th:only-of-type {\n",
       "        vertical-align: middle;\n",
       "    }\n",
       "\n",
       "    .dataframe tbody tr th {\n",
       "        vertical-align: top;\n",
       "    }\n",
       "\n",
       "    .dataframe thead th {\n",
       "        text-align: right;\n",
       "    }\n",
       "</style>\n",
       "<table border=\"1\" class=\"dataframe\">\n",
       "  <thead>\n",
       "    <tr style=\"text-align: right;\">\n",
       "      <th></th>\n",
       "      <th>Zürich</th>\n",
       "      <th>Freiburg</th>\n",
       "      <th>München</th>\n",
       "      <th>Konstanz</th>\n",
       "      <th>Saarbrücke n</th>\n",
       "    </tr>\n",
       "  </thead>\n",
       "  <tbody>\n",
       "    <tr>\n",
       "      <th>2015</th>\n",
       "      <td>817.78</td>\n",
       "      <td>917.12</td>\n",
       "      <td>854.59</td>\n",
       "      <td>769.95</td>\n",
       "      <td>868.12</td>\n",
       "    </tr>\n",
       "    <tr>\n",
       "      <th>2016</th>\n",
       "      <td>835.92</td>\n",
       "      <td>820.23</td>\n",
       "      <td>824.61</td>\n",
       "      <td>926.29</td>\n",
       "      <td>861.93</td>\n",
       "    </tr>\n",
       "    <tr>\n",
       "      <th>2018</th>\n",
       "      <td>978.66</td>\n",
       "      <td>742.14</td>\n",
       "      <td>932.32</td>\n",
       "      <td>742.05</td>\n",
       "      <td>954.29</td>\n",
       "    </tr>\n",
       "  </tbody>\n",
       "</table>\n",
       "</div>"
      ],
      "text/plain": [
       "      Zürich  Freiburg  München  Konstanz  Saarbrücke n\n",
       "2015  817.78    917.12   854.59    769.95        868.12\n",
       "2016  835.92    820.23   824.61    926.29        861.93\n",
       "2018  978.66    742.14   932.32    742.05        954.29"
      ]
     },
     "execution_count": 144,
     "metadata": {},
     "output_type": "execute_result"
    }
   ],
   "source": [
    "import pandas as pd\n",
    "p=shops.loc[[2015,2016,2018]]\n",
    "p"
   ]
  },
  {
   "cell_type": "code",
   "execution_count": 146,
   "id": "c1c2dfe4-85ef-4122-b1a1-ad23c4fa675a",
   "metadata": {},
   "outputs": [
    {
     "data": {
      "text/html": [
       "<div>\n",
       "<style scoped>\n",
       "    .dataframe tbody tr th:only-of-type {\n",
       "        vertical-align: middle;\n",
       "    }\n",
       "\n",
       "    .dataframe tbody tr th {\n",
       "        vertical-align: top;\n",
       "    }\n",
       "\n",
       "    .dataframe thead th {\n",
       "        text-align: right;\n",
       "    }\n",
       "</style>\n",
       "<table border=\"1\" class=\"dataframe\">\n",
       "  <thead>\n",
       "    <tr style=\"text-align: right;\">\n",
       "      <th></th>\n",
       "      <th>Zürich</th>\n",
       "      <th>Freiburg</th>\n",
       "      <th>München</th>\n",
       "      <th>Konstanz</th>\n",
       "      <th>Saarbrücke n</th>\n",
       "    </tr>\n",
       "  </thead>\n",
       "  <tbody>\n",
       "    <tr>\n",
       "      <th>2014</th>\n",
       "      <td>959.98</td>\n",
       "      <td>879.51</td>\n",
       "      <td>790.61</td>\n",
       "      <td>833.86</td>\n",
       "      <td>722.71</td>\n",
       "    </tr>\n",
       "    <tr>\n",
       "      <th>2017</th>\n",
       "      <td>784.41</td>\n",
       "      <td>888.28</td>\n",
       "      <td>944.49</td>\n",
       "      <td>778.11</td>\n",
       "      <td>826.40</td>\n",
       "    </tr>\n",
       "    <tr>\n",
       "      <th>2018</th>\n",
       "      <td>978.66</td>\n",
       "      <td>742.14</td>\n",
       "      <td>932.32</td>\n",
       "      <td>742.05</td>\n",
       "      <td>954.29</td>\n",
       "    </tr>\n",
       "  </tbody>\n",
       "</table>\n",
       "</div>"
      ],
      "text/plain": [
       "      Zürich  Freiburg  München  Konstanz  Saarbrücke n\n",
       "2014  959.98    879.51   790.61    833.86        722.71\n",
       "2017  784.41    888.28   944.49    778.11        826.40\n",
       "2018  978.66    742.14   932.32    742.05        954.29"
      ]
     },
     "execution_count": 146,
     "metadata": {},
     "output_type": "execute_result"
    }
   ],
   "source": [
    "pp=shops.iloc[[0,-2,-1]]\n",
    "pp"
   ]
  },
  {
   "cell_type": "code",
   "execution_count": 147,
   "id": "732fcca4-d7e4-4dfc-8d42-6a04941dba5f",
   "metadata": {},
   "outputs": [
    {
     "data": {
      "text/plain": [
       "Zürich          2723.05\n",
       "Freiburg        2509.93\n",
       "München         2667.42\n",
       "Konstanz        2354.02\n",
       "Saarbrücke n    2503.40\n",
       "dtype: float64"
      ]
     },
     "execution_count": 147,
     "metadata": {},
     "output_type": "execute_result"
    }
   ],
   "source": [
    "pp.sum()"
   ]
  },
  {
   "cell_type": "code",
   "execution_count": 149,
   "id": "12bb133e-ec8f-4aaf-9e7c-efb6302b2081",
   "metadata": {},
   "outputs": [
    {
     "data": {
      "text/plain": [
       "Zürich          4376.75\n",
       "München         4346.62\n",
       "Saarbrücke n    4233.45\n",
       "dtype: float64"
      ]
     },
     "execution_count": 149,
     "metadata": {},
     "output_type": "execute_result"
    }
   ],
   "source": [
    "shops[[\"Zürich\", \"München\", \"Saarbrücke n\"]].sum()"
   ]
  },
  {
   "cell_type": "code",
   "execution_count": 150,
   "id": "82b7da70-55eb-405e-84ec-f20d5c1634ee",
   "metadata": {},
   "outputs": [
    {
     "name": "stdout",
     "output_type": "stream",
     "text": [
      "       Zürich  Freiburg  München  Konstanz  Saarbrücke n\n",
      "2014   959.98    879.51   790.61    833.86        722.71\n",
      "2015  1777.76   1796.63  1645.20   1603.81       1590.83\n",
      "2016  2613.68   2616.86  2469.81   2530.10       2452.76\n",
      "2017  3398.09   3505.14  3414.30   3308.21       3279.16\n",
      "2018  4376.75   4247.28  4346.62   4050.26       4233.45\n"
     ]
    }
   ],
   "source": [
    "x = shops.cumsum() \n",
    "print(x)\n"
   ]
  },
  {
   "cell_type": "code",
   "execution_count": 157,
   "id": "e195e9fb-601c-4fc6-84e9-db6b80abd5ba",
   "metadata": {},
   "outputs": [
    {
     "data": {
      "text/html": [
       "<div>\n",
       "<style scoped>\n",
       "    .dataframe tbody tr th:only-of-type {\n",
       "        vertical-align: middle;\n",
       "    }\n",
       "\n",
       "    .dataframe tbody tr th {\n",
       "        vertical-align: top;\n",
       "    }\n",
       "\n",
       "    .dataframe thead th {\n",
       "        text-align: right;\n",
       "    }\n",
       "</style>\n",
       "<table border=\"1\" class=\"dataframe\">\n",
       "  <thead>\n",
       "    <tr style=\"text-align: right;\">\n",
       "      <th></th>\n",
       "      <th>country</th>\n",
       "      <th>population</th>\n",
       "      <th>cum_population</th>\n",
       "    </tr>\n",
       "  </thead>\n",
       "  <tbody>\n",
       "    <tr>\n",
       "      <th>2014</th>\n",
       "      <td>NaN</td>\n",
       "      <td>NaN</td>\n",
       "      <td>NaN</td>\n",
       "    </tr>\n",
       "    <tr>\n",
       "      <th>2015</th>\n",
       "      <td>NaN</td>\n",
       "      <td>NaN</td>\n",
       "      <td>NaN</td>\n",
       "    </tr>\n",
       "    <tr>\n",
       "      <th>2016</th>\n",
       "      <td>NaN</td>\n",
       "      <td>NaN</td>\n",
       "      <td>NaN</td>\n",
       "    </tr>\n",
       "    <tr>\n",
       "      <th>2017</th>\n",
       "      <td>NaN</td>\n",
       "      <td>NaN</td>\n",
       "      <td>NaN</td>\n",
       "    </tr>\n",
       "    <tr>\n",
       "      <th>2018</th>\n",
       "      <td>NaN</td>\n",
       "      <td>NaN</td>\n",
       "      <td>NaN</td>\n",
       "    </tr>\n",
       "  </tbody>\n",
       "</table>\n",
       "</div>"
      ],
      "text/plain": [
       "      country  population  cum_population\n",
       "2014      NaN         NaN             NaN\n",
       "2015      NaN         NaN             NaN\n",
       "2016      NaN         NaN             NaN\n",
       "2017      NaN         NaN             NaN\n",
       "2018      NaN         NaN             NaN"
      ]
     },
     "execution_count": 157,
     "metadata": {},
     "output_type": "execute_result"
    }
   ],
   "source": [
    "shops1 = pd.DataFrame(shops, columns=[\"country\", \"population\", \"cum_population\"], index=years) \n",
    "shops1"
   ]
  },
  {
   "cell_type": "code",
   "execution_count": 161,
   "id": "724b2c4b-f268-4ba2-b116-6cddc47e9b46",
   "metadata": {},
   "outputs": [
    {
     "data": {
      "text/html": [
       "<div>\n",
       "<style scoped>\n",
       "    .dataframe tbody tr th:only-of-type {\n",
       "        vertical-align: middle;\n",
       "    }\n",
       "\n",
       "    .dataframe tbody tr th {\n",
       "        vertical-align: top;\n",
       "    }\n",
       "\n",
       "    .dataframe thead th {\n",
       "        text-align: right;\n",
       "    }\n",
       "</style>\n",
       "<table border=\"1\" class=\"dataframe\">\n",
       "  <thead>\n",
       "    <tr style=\"text-align: right;\">\n",
       "      <th></th>\n",
       "      <th>Zürich</th>\n",
       "      <th>Freiburg</th>\n",
       "      <th>München</th>\n",
       "      <th>Konstanz</th>\n",
       "      <th>Saarbrücke n</th>\n",
       "    </tr>\n",
       "  </thead>\n",
       "  <tbody>\n",
       "    <tr>\n",
       "      <th>2014</th>\n",
       "      <td>959.98</td>\n",
       "      <td>879.51</td>\n",
       "      <td>790.61</td>\n",
       "      <td>833.86</td>\n",
       "      <td>722.71</td>\n",
       "    </tr>\n",
       "    <tr>\n",
       "      <th>2015</th>\n",
       "      <td>1777.76</td>\n",
       "      <td>1796.63</td>\n",
       "      <td>1645.20</td>\n",
       "      <td>1603.81</td>\n",
       "      <td>1590.83</td>\n",
       "    </tr>\n",
       "    <tr>\n",
       "      <th>2016</th>\n",
       "      <td>2613.68</td>\n",
       "      <td>2616.86</td>\n",
       "      <td>2469.81</td>\n",
       "      <td>2530.10</td>\n",
       "      <td>2452.76</td>\n",
       "    </tr>\n",
       "    <tr>\n",
       "      <th>2017</th>\n",
       "      <td>3398.09</td>\n",
       "      <td>3505.14</td>\n",
       "      <td>3414.30</td>\n",
       "      <td>3308.21</td>\n",
       "      <td>3279.16</td>\n",
       "    </tr>\n",
       "    <tr>\n",
       "      <th>2018</th>\n",
       "      <td>4376.75</td>\n",
       "      <td>4247.28</td>\n",
       "      <td>4346.62</td>\n",
       "      <td>4050.26</td>\n",
       "      <td>4233.45</td>\n",
       "    </tr>\n",
       "  </tbody>\n",
       "</table>\n",
       "</div>"
      ],
      "text/plain": [
       "       Zürich  Freiburg  München  Konstanz  Saarbrücke n\n",
       "2014   959.98    879.51   790.61    833.86        722.71\n",
       "2015  1777.76   1796.63  1645.20   1603.81       1590.83\n",
       "2016  2613.68   2616.86  2469.81   2530.10       2452.76\n",
       "2017  3398.09   3505.14  3414.30   3308.21       3279.16\n",
       "2018  4376.75   4247.28  4346.62   4050.26       4233.45"
      ]
     },
     "execution_count": 161,
     "metadata": {},
     "output_type": "execute_result"
    }
   ],
   "source": [
    "x"
   ]
  },
  {
   "cell_type": "code",
   "execution_count": 12,
   "id": "1021439e-da12-4b62-bb6d-6329c36c9e08",
   "metadata": {},
   "outputs": [
    {
     "name": "stdout",
     "output_type": "stream",
     "text": [
      "      Zürich  Freiburg  München  Konstanz  Saarbrücke n\n",
      "2014  912.74    779.65   938.43    802.64        794.25\n",
      "2015  872.19    978.51   922.12    939.55        789.23\n",
      "2016  765.55    751.46   797.48    959.24        834.08\n",
      "2017  710.53    887.46   714.50    977.11        920.91\n",
      "2018  969.46    804.08   838.50    948.87        857.74\n"
     ]
    }
   ],
   "source": [
    "import numpy as np\n",
    "import pandas as pd\n",
    "years = range(2014, 2019) \n",
    "cities = [\"Zürich\", \"Freiburg\", \"München\", \"Konstanz\", \"Saarbrücke n\"] \n",
    "shops = pd.DataFrame(index=years) \n",
    "for city in cities: \n",
    "    shops.insert(loc=len(shops.columns), column=city, value=(np.random.uniform(0.7, 1, (5,)) * 1000).round(2)) \n",
    "print(shops)"
   ]
  },
  {
   "cell_type": "code",
   "execution_count": 19,
   "id": "54f3ec2d-67b7-4956-82d0-dae0fcdc85f9",
   "metadata": {},
   "outputs": [
    {
     "name": "stdout",
     "output_type": "stream",
     "text": [
      "      Zürich  Freiburg  München  Konstanz  Saarbrücke n  :)\n",
      "2014  912.74    779.65   938.43    802.64        794.25 NaN\n",
      "2015  872.19    978.51   922.12    939.55        789.23 NaN\n",
      "2016  765.55    751.46   797.48    959.24        834.08 NaN\n",
      "2017  710.53    887.46   714.50    977.11        920.91 NaN\n",
      "2018  969.46    804.08   838.50    948.87        857.74 NaN\n"
     ]
    }
   ],
   "source": [
    "# We can also include a column name which is not contained in the dictionary, when we create the DataFrame from the di values of this column will be set to NaN:\n",
    "city_frame = pd.DataFrame(shops, columns=['Zürich','Freiburg','München','Konstanz','Saarbrücke n',':)'])\n",
    "print(city_frame)\n"
   ]
  },
  {
   "cell_type": "markdown",
   "id": "0734f3f9-c987-4581-aab2-25bc64aa4fe6",
   "metadata": {},
   "source": [
    "# 2.7. accessing column elements\n",
    "There are two ways to access a column of a DataFrame. The result is in both cases a Series:\n"
   ]
  },
  {
   "cell_type": "code",
   "execution_count": 22,
   "id": "e58fc97b-4226-4dc6-8b42-a82936a8f583",
   "metadata": {},
   "outputs": [
    {
     "name": "stdout",
     "output_type": "stream",
     "text": [
      "2014   NaN\n",
      "2015   NaN\n",
      "2016   NaN\n",
      "2017   NaN\n",
      "2018   NaN\n",
      "Name: :), dtype: float64\n"
     ]
    }
   ],
   "source": [
    "# in a dictionary-like way: \n",
    "print(city_frame[\":)\"])"
   ]
  },
  {
   "cell_type": "code",
   "execution_count": 24,
   "id": "2d4a4566-c56c-4b66-b2ad-2280124311e3",
   "metadata": {},
   "outputs": [
    {
     "name": "stdout",
     "output_type": "stream",
     "text": [
      "2014    779.65\n",
      "2015    978.51\n",
      "2016    751.46\n",
      "2017    887.46\n",
      "2018    804.08\n",
      "Name: Freiburg, dtype: float64\n"
     ]
    }
   ],
   "source": [
    "# as an attribute \n",
    "print(city_frame.Freiburg)\n"
   ]
  },
  {
   "attachments": {},
   "cell_type": "markdown",
   "id": "740093c3-ce55-4404-a750-46778d6070d5",
   "metadata": {},
   "source": [
    "# ASSIGNING NEW VALUES TO A COLUMN\n",
    "\n",
    "The column :) is still not defined. We can set all elements of the column to the same value:\n"
   ]
  },
  {
   "cell_type": "code",
   "execution_count": 32,
   "id": "83d72e5a-3ad5-4bee-8982-f17991e47066",
   "metadata": {},
   "outputs": [
    {
     "name": "stdout",
     "output_type": "stream",
     "text": [
      "      Zürich  Freiburg  München  Konstanz  Saarbrücke n  :)\n",
      "2014  912.74    779.65   938.43      1000        794.25  10\n",
      "2015  872.19    978.51   922.12      1000        789.23  11\n",
      "2016  765.55    751.46   797.48      1000        834.08  12\n",
      "2017  710.53    887.46   714.50      1000        920.91  13\n",
      "2018  969.46    804.08   838.50      1000        857.74  14\n"
     ]
    }
   ],
   "source": [
    "import numpy as np\n",
    "city_frame[':)']=range(10,15)\n",
    "city_frame['Konstanz']=1000\n",
    "print(city_frame)"
   ]
  },
  {
   "cell_type": "code",
   "execution_count": 35,
   "id": "528f6c3e-5b72-4a34-aeda-4e8148ba1cc4",
   "metadata": {},
   "outputs": [
    {
     "data": {
      "text/html": [
       "<div>\n",
       "<style scoped>\n",
       "    .dataframe tbody tr th:only-of-type {\n",
       "        vertical-align: middle;\n",
       "    }\n",
       "\n",
       "    .dataframe tbody tr th {\n",
       "        vertical-align: top;\n",
       "    }\n",
       "\n",
       "    .dataframe thead th {\n",
       "        text-align: right;\n",
       "    }\n",
       "</style>\n",
       "<table border=\"1\" class=\"dataframe\">\n",
       "  <thead>\n",
       "    <tr style=\"text-align: right;\">\n",
       "      <th></th>\n",
       "      <th>Zürich</th>\n",
       "      <th>Freiburg</th>\n",
       "      <th>München</th>\n",
       "      <th>Konstanz</th>\n",
       "      <th>Saarbrücke n</th>\n",
       "      <th>:)</th>\n",
       "    </tr>\n",
       "  </thead>\n",
       "  <tbody>\n",
       "    <tr>\n",
       "      <th>2014</th>\n",
       "      <td>912.74</td>\n",
       "      <td>779.65</td>\n",
       "      <td>938.43</td>\n",
       "      <td>1572.00</td>\n",
       "      <td>794.25</td>\n",
       "      <td>10</td>\n",
       "    </tr>\n",
       "    <tr>\n",
       "      <th>2015</th>\n",
       "      <td>872.19</td>\n",
       "      <td>978.51</td>\n",
       "      <td>922.12</td>\n",
       "      <td>891.85</td>\n",
       "      <td>789.23</td>\n",
       "      <td>11</td>\n",
       "    </tr>\n",
       "    <tr>\n",
       "      <th>2016</th>\n",
       "      <td>765.55</td>\n",
       "      <td>751.46</td>\n",
       "      <td>797.48</td>\n",
       "      <td>605.77</td>\n",
       "      <td>834.08</td>\n",
       "      <td>12</td>\n",
       "    </tr>\n",
       "    <tr>\n",
       "      <th>2017</th>\n",
       "      <td>710.53</td>\n",
       "      <td>887.46</td>\n",
       "      <td>714.50</td>\n",
       "      <td>1285.00</td>\n",
       "      <td>920.91</td>\n",
       "      <td>13</td>\n",
       "    </tr>\n",
       "    <tr>\n",
       "      <th>2018</th>\n",
       "      <td>969.46</td>\n",
       "      <td>804.08</td>\n",
       "      <td>838.50</td>\n",
       "      <td>105.40</td>\n",
       "      <td>857.74</td>\n",
       "      <td>14</td>\n",
       "    </tr>\n",
       "  </tbody>\n",
       "</table>\n",
       "</div>"
      ],
      "text/plain": [
       "      Zürich  Freiburg  München  Konstanz  Saarbrücke n  :)\n",
       "2014  912.74    779.65   938.43   1572.00        794.25  10\n",
       "2015  872.19    978.51   922.12    891.85        789.23  11\n",
       "2016  765.55    751.46   797.48    605.77        834.08  12\n",
       "2017  710.53    887.46   714.50   1285.00        920.91  13\n",
       "2018  969.46    804.08   838.50    105.40        857.74  14"
      ]
     },
     "execution_count": 35,
     "metadata": {},
     "output_type": "execute_result"
    }
   ],
   "source": [
    "München = [1572, 891.85, 605.77, 1285, 105.4] \n",
    "city_frame['Konstanz']=München\n",
    "city_frame"
   ]
  },
  {
   "cell_type": "markdown",
   "id": "3e09f31c-6797-438a-b1ec-9f9e7b362d63",
   "metadata": {},
   "source": [
    "# SORTING DATAFRAMES \n",
    "Let's sort our DataFrame according to the "
   ]
  },
  {
   "cell_type": "code",
   "execution_count": 36,
   "id": "f91514c4-3027-4114-a29b-0976a63e08d8",
   "metadata": {},
   "outputs": [
    {
     "name": "stdout",
     "output_type": "stream",
     "text": [
      "      Zürich  Freiburg  München  Konstanz  Saarbrücke n  :)\n",
      "2014  912.74    779.65   938.43   1572.00        794.25  10\n",
      "2015  872.19    978.51   922.12    891.85        789.23  11\n",
      "2018  969.46    804.08   838.50    105.40        857.74  14\n",
      "2016  765.55    751.46   797.48    605.77        834.08  12\n",
      "2017  710.53    887.46   714.50   1285.00        920.91  13\n"
     ]
    }
   ],
   "source": [
    "city_frame = city_frame.sort_values(by=\"München\", ascending=False) \n",
    "print(city_frame)\n"
   ]
  },
  {
   "cell_type": "markdown",
   "id": "b3ca294d-534b-4212-906a-95f0fd08d06c",
   "metadata": {},
   "source": [
    "# INSERTING NEW COLUMNS INTO EXISTING DATAFRAMES \n",
    "In the previous example we have added the column area at creation time. Quite often it will be necessary to add or insert columns into existing DataFrames. For this purpose the DataFrame class provides a method \"insert\", which allows us to insert a column into a DataFrame at a specified location: "
   ]
  },
  {
   "cell_type": "code",
   "execution_count": 40,
   "id": "7d774387-ba29-493b-80cb-454a52973cfb",
   "metadata": {},
   "outputs": [
    {
     "data": {
      "text/html": [
       "<div>\n",
       "<style scoped>\n",
       "    .dataframe tbody tr th:only-of-type {\n",
       "        vertical-align: middle;\n",
       "    }\n",
       "\n",
       "    .dataframe tbody tr th {\n",
       "        vertical-align: top;\n",
       "    }\n",
       "\n",
       "    .dataframe thead th {\n",
       "        text-align: right;\n",
       "    }\n",
       "</style>\n",
       "<table border=\"1\" class=\"dataframe\">\n",
       "  <thead>\n",
       "    <tr style=\"text-align: right;\">\n",
       "      <th></th>\n",
       "      <th>Zürich</th>\n",
       "      <th>Freiburg</th>\n",
       "      <th>München</th>\n",
       "      <th>Konstanz</th>\n",
       "      <th>Saarbrücke n</th>\n",
       "      <th>:)</th>\n",
       "      <th>area</th>\n",
       "    </tr>\n",
       "  </thead>\n",
       "  <tbody>\n",
       "    <tr>\n",
       "      <th>2014</th>\n",
       "      <td>912.74</td>\n",
       "      <td>779.65</td>\n",
       "      <td>938.43</td>\n",
       "      <td>1572.00</td>\n",
       "      <td>794.25</td>\n",
       "      <td>10</td>\n",
       "      <td>11</td>\n",
       "    </tr>\n",
       "    <tr>\n",
       "      <th>2015</th>\n",
       "      <td>872.19</td>\n",
       "      <td>978.51</td>\n",
       "      <td>922.12</td>\n",
       "      <td>891.85</td>\n",
       "      <td>789.23</td>\n",
       "      <td>11</td>\n",
       "      <td>12</td>\n",
       "    </tr>\n",
       "    <tr>\n",
       "      <th>2018</th>\n",
       "      <td>969.46</td>\n",
       "      <td>804.08</td>\n",
       "      <td>838.50</td>\n",
       "      <td>105.40</td>\n",
       "      <td>857.74</td>\n",
       "      <td>14</td>\n",
       "      <td>13</td>\n",
       "    </tr>\n",
       "    <tr>\n",
       "      <th>2016</th>\n",
       "      <td>765.55</td>\n",
       "      <td>751.46</td>\n",
       "      <td>797.48</td>\n",
       "      <td>605.77</td>\n",
       "      <td>834.08</td>\n",
       "      <td>12</td>\n",
       "      <td>14</td>\n",
       "    </tr>\n",
       "    <tr>\n",
       "      <th>2017</th>\n",
       "      <td>710.53</td>\n",
       "      <td>887.46</td>\n",
       "      <td>714.50</td>\n",
       "      <td>1285.00</td>\n",
       "      <td>920.91</td>\n",
       "      <td>13</td>\n",
       "      <td>15</td>\n",
       "    </tr>\n",
       "  </tbody>\n",
       "</table>\n",
       "</div>"
      ],
      "text/plain": [
       "      Zürich  Freiburg  München  Konstanz  Saarbrücke n  :)  area\n",
       "2014  912.74    779.65   938.43   1572.00        794.25  10    11\n",
       "2015  872.19    978.51   922.12    891.85        789.23  11    12\n",
       "2018  969.46    804.08   838.50    105.40        857.74  14    13\n",
       "2016  765.55    751.46   797.48    605.77        834.08  12    14\n",
       "2017  710.53    887.46   714.50   1285.00        920.91  13    15"
      ]
     },
     "execution_count": 40,
     "metadata": {},
     "output_type": "execute_result"
    }
   ],
   "source": [
    "idx = 6 \n",
    "city_frame.insert(loc=idx, column='area',value=range(11,16))\n",
    "city_frame"
   ]
  },
  {
   "cell_type": "markdown",
   "id": "c11cb488-bfc2-4134-90b0-db8ee4a1c627",
   "metadata": {},
   "source": [
    "# FILLING A DATAFRAME WITH RANDOM VALUES: "
   ]
  },
  {
   "cell_type": "code",
   "execution_count": 37,
   "id": "6661074c-ae24-4adb-8788-c3a576150e94",
   "metadata": {
    "scrolled": true
   },
   "outputs": [
    {
     "data": {
      "text/html": [
       "<div>\n",
       "<style scoped>\n",
       "    .dataframe tbody tr th:only-of-type {\n",
       "        vertical-align: middle;\n",
       "    }\n",
       "\n",
       "    .dataframe tbody tr th {\n",
       "        vertical-align: top;\n",
       "    }\n",
       "\n",
       "    .dataframe thead th {\n",
       "        text-align: right;\n",
       "    }\n",
       "</style>\n",
       "<table border=\"1\" class=\"dataframe\">\n",
       "  <thead>\n",
       "    <tr style=\"text-align: right;\">\n",
       "      <th></th>\n",
       "      <th>Frank</th>\n",
       "      <th>Eve</th>\n",
       "      <th>Stella</th>\n",
       "      <th>Guido</th>\n",
       "      <th>Lara</th>\n",
       "    </tr>\n",
       "  </thead>\n",
       "  <tbody>\n",
       "    <tr>\n",
       "      <th>January</th>\n",
       "      <td>46.55</td>\n",
       "      <td>270.63</td>\n",
       "      <td>289.86</td>\n",
       "      <td>951.86</td>\n",
       "      <td>1360.89</td>\n",
       "    </tr>\n",
       "    <tr>\n",
       "      <th>February</th>\n",
       "      <td>-515.67</td>\n",
       "      <td>-885.16</td>\n",
       "      <td>26.64</td>\n",
       "      <td>-447.91</td>\n",
       "      <td>207.36</td>\n",
       "    </tr>\n",
       "    <tr>\n",
       "      <th>March</th>\n",
       "      <td>-1496.88</td>\n",
       "      <td>1494.73</td>\n",
       "      <td>2256.85</td>\n",
       "      <td>1114.70</td>\n",
       "      <td>-37.56</td>\n",
       "    </tr>\n",
       "    <tr>\n",
       "      <th>April</th>\n",
       "      <td>2325.28</td>\n",
       "      <td>-1398.63</td>\n",
       "      <td>288.66</td>\n",
       "      <td>-2287.56</td>\n",
       "      <td>305.45</td>\n",
       "    </tr>\n",
       "    <tr>\n",
       "      <th>May</th>\n",
       "      <td>131.27</td>\n",
       "      <td>233.05</td>\n",
       "      <td>-679.40</td>\n",
       "      <td>-2111.34</td>\n",
       "      <td>404.73</td>\n",
       "    </tr>\n",
       "    <tr>\n",
       "      <th>June</th>\n",
       "      <td>1430.54</td>\n",
       "      <td>670.91</td>\n",
       "      <td>1985.18</td>\n",
       "      <td>471.81</td>\n",
       "      <td>-194.26</td>\n",
       "    </tr>\n",
       "    <tr>\n",
       "      <th>July</th>\n",
       "      <td>-937.10</td>\n",
       "      <td>1422.69</td>\n",
       "      <td>-1654.08</td>\n",
       "      <td>-966.35</td>\n",
       "      <td>-1549.67</td>\n",
       "    </tr>\n",
       "    <tr>\n",
       "      <th>August</th>\n",
       "      <td>1566.27</td>\n",
       "      <td>-953.95</td>\n",
       "      <td>1140.25</td>\n",
       "      <td>1016.89</td>\n",
       "      <td>-57.34</td>\n",
       "    </tr>\n",
       "    <tr>\n",
       "      <th>September</th>\n",
       "      <td>1783.20</td>\n",
       "      <td>-1345.21</td>\n",
       "      <td>420.88</td>\n",
       "      <td>-762.99</td>\n",
       "      <td>-260.71</td>\n",
       "    </tr>\n",
       "    <tr>\n",
       "      <th>October</th>\n",
       "      <td>696.52</td>\n",
       "      <td>-266.45</td>\n",
       "      <td>-1186.85</td>\n",
       "      <td>-842.81</td>\n",
       "      <td>324.39</td>\n",
       "    </tr>\n",
       "    <tr>\n",
       "      <th>November</th>\n",
       "      <td>-584.00</td>\n",
       "      <td>64.06</td>\n",
       "      <td>-1163.81</td>\n",
       "      <td>-632.31</td>\n",
       "      <td>395.82</td>\n",
       "    </tr>\n",
       "    <tr>\n",
       "      <th>December</th>\n",
       "      <td>-203.27</td>\n",
       "      <td>-1089.85</td>\n",
       "      <td>1472.37</td>\n",
       "      <td>-1666.38</td>\n",
       "      <td>1814.58</td>\n",
       "    </tr>\n",
       "  </tbody>\n",
       "</table>\n",
       "</div>"
      ],
      "text/plain": [
       "             Frank      Eve   Stella    Guido     Lara\n",
       "January      46.55   270.63   289.86   951.86  1360.89\n",
       "February   -515.67  -885.16    26.64  -447.91   207.36\n",
       "March     -1496.88  1494.73  2256.85  1114.70   -37.56\n",
       "April      2325.28 -1398.63   288.66 -2287.56   305.45\n",
       "May         131.27   233.05  -679.40 -2111.34   404.73\n",
       "June       1430.54   670.91  1985.18   471.81  -194.26\n",
       "July       -937.10  1422.69 -1654.08  -966.35 -1549.67\n",
       "August     1566.27  -953.95  1140.25  1016.89   -57.34\n",
       "September  1783.20 -1345.21   420.88  -762.99  -260.71\n",
       "October     696.52  -266.45 -1186.85  -842.81   324.39\n",
       "November   -584.00    64.06 -1163.81  -632.31   395.82\n",
       "December   -203.27 -1089.85  1472.37 -1666.38  1814.58"
      ]
     },
     "execution_count": 37,
     "metadata": {},
     "output_type": "execute_result"
    }
   ],
   "source": [
    "import numpy as np \n",
    "names = ['Frank', 'Eve', 'Stella', 'Guido', 'Lara'] \n",
    "index = [\"January\", \"February\", \"March\", \"April\", \"May\", \"June\", \"July\", \"August\", \"September\", \"October\", \"November\", \"December\"] \n",
    "df = pd.DataFrame((np.random.randn(12, 5)*1000).round(2), columns=names, index=index)\n",
    "df"
   ]
  },
  {
   "cell_type": "code",
   "execution_count": 44,
   "id": "31fe4363-eb16-4f8d-b57a-0c14c5ca208c",
   "metadata": {},
   "outputs": [
    {
     "data": {
      "text/html": [
       "<div>\n",
       "<style scoped>\n",
       "    .dataframe tbody tr th:only-of-type {\n",
       "        vertical-align: middle;\n",
       "    }\n",
       "\n",
       "    .dataframe tbody tr th {\n",
       "        vertical-align: top;\n",
       "    }\n",
       "\n",
       "    .dataframe thead th {\n",
       "        text-align: right;\n",
       "    }\n",
       "</style>\n",
       "<table border=\"1\" class=\"dataframe\">\n",
       "  <thead>\n",
       "    <tr style=\"text-align: right;\">\n",
       "      <th></th>\n",
       "      <th>January</th>\n",
       "      <th>February</th>\n",
       "      <th>March</th>\n",
       "      <th>April</th>\n",
       "      <th>May</th>\n",
       "      <th>June</th>\n",
       "      <th>July</th>\n",
       "      <th>August</th>\n",
       "      <th>September</th>\n",
       "      <th>October</th>\n",
       "      <th>November</th>\n",
       "      <th>December</th>\n",
       "    </tr>\n",
       "  </thead>\n",
       "  <tbody>\n",
       "    <tr>\n",
       "      <th>Frank</th>\n",
       "      <td>46.55</td>\n",
       "      <td>-515.67</td>\n",
       "      <td>-1496.88</td>\n",
       "      <td>2325.28</td>\n",
       "      <td>131.27</td>\n",
       "      <td>1430.54</td>\n",
       "      <td>-937.10</td>\n",
       "      <td>1566.27</td>\n",
       "      <td>1783.20</td>\n",
       "      <td>696.52</td>\n",
       "      <td>-584.00</td>\n",
       "      <td>-203.27</td>\n",
       "    </tr>\n",
       "    <tr>\n",
       "      <th>Eve</th>\n",
       "      <td>270.63</td>\n",
       "      <td>-885.16</td>\n",
       "      <td>1494.73</td>\n",
       "      <td>-1398.63</td>\n",
       "      <td>233.05</td>\n",
       "      <td>670.91</td>\n",
       "      <td>1422.69</td>\n",
       "      <td>-953.95</td>\n",
       "      <td>-1345.21</td>\n",
       "      <td>-266.45</td>\n",
       "      <td>64.06</td>\n",
       "      <td>-1089.85</td>\n",
       "    </tr>\n",
       "    <tr>\n",
       "      <th>Stella</th>\n",
       "      <td>289.86</td>\n",
       "      <td>26.64</td>\n",
       "      <td>2256.85</td>\n",
       "      <td>288.66</td>\n",
       "      <td>-679.40</td>\n",
       "      <td>1985.18</td>\n",
       "      <td>-1654.08</td>\n",
       "      <td>1140.25</td>\n",
       "      <td>420.88</td>\n",
       "      <td>-1186.85</td>\n",
       "      <td>-1163.81</td>\n",
       "      <td>1472.37</td>\n",
       "    </tr>\n",
       "    <tr>\n",
       "      <th>Guido</th>\n",
       "      <td>951.86</td>\n",
       "      <td>-447.91</td>\n",
       "      <td>1114.70</td>\n",
       "      <td>-2287.56</td>\n",
       "      <td>-2111.34</td>\n",
       "      <td>471.81</td>\n",
       "      <td>-966.35</td>\n",
       "      <td>1016.89</td>\n",
       "      <td>-762.99</td>\n",
       "      <td>-842.81</td>\n",
       "      <td>-632.31</td>\n",
       "      <td>-1666.38</td>\n",
       "    </tr>\n",
       "    <tr>\n",
       "      <th>Lara</th>\n",
       "      <td>1360.89</td>\n",
       "      <td>207.36</td>\n",
       "      <td>-37.56</td>\n",
       "      <td>305.45</td>\n",
       "      <td>404.73</td>\n",
       "      <td>-194.26</td>\n",
       "      <td>-1549.67</td>\n",
       "      <td>-57.34</td>\n",
       "      <td>-260.71</td>\n",
       "      <td>324.39</td>\n",
       "      <td>395.82</td>\n",
       "      <td>1814.58</td>\n",
       "    </tr>\n",
       "  </tbody>\n",
       "</table>\n",
       "</div>"
      ],
      "text/plain": [
       "        January  February    March    April      May     June     July  \\\n",
       "Frank     46.55   -515.67 -1496.88  2325.28   131.27  1430.54  -937.10   \n",
       "Eve      270.63   -885.16  1494.73 -1398.63   233.05   670.91  1422.69   \n",
       "Stella   289.86     26.64  2256.85   288.66  -679.40  1985.18 -1654.08   \n",
       "Guido    951.86   -447.91  1114.70 -2287.56 -2111.34   471.81  -966.35   \n",
       "Lara    1360.89    207.36   -37.56   305.45   404.73  -194.26 -1549.67   \n",
       "\n",
       "         August  September  October  November  December  \n",
       "Frank   1566.27    1783.20   696.52   -584.00   -203.27  \n",
       "Eve     -953.95   -1345.21  -266.45     64.06  -1089.85  \n",
       "Stella  1140.25     420.88 -1186.85  -1163.81   1472.37  \n",
       "Guido   1016.89    -762.99  -842.81   -632.31  -1666.38  \n",
       "Lara     -57.34    -260.71   324.39    395.82   1814.58  "
      ]
     },
     "execution_count": 44,
     "metadata": {},
     "output_type": "execute_result"
    }
   ],
   "source": [
    "# transposing a dataframe\n",
    "o=df.T\n",
    "o"
   ]
  },
  {
   "cell_type": "code",
   "execution_count": 45,
   "id": "1966d4dd-ccbc-47a6-af6f-7a2d0a87fb14",
   "metadata": {},
   "outputs": [
    {
     "name": "stdout",
     "output_type": "stream",
     "text": [
      "         January  February  March   April     May    June     July  August  \\\n",
      "Lara     1360.89    207.36 -37.56  305.45  404.73 -194.26 -1549.67  -57.34   \n",
      "Italy        NaN       NaN    NaN     NaN     NaN     NaN      NaN     NaN   \n",
      "Germany      NaN       NaN    NaN     NaN     NaN     NaN      NaN     NaN   \n",
      "Greece       NaN       NaN    NaN     NaN     NaN     NaN      NaN     NaN   \n",
      "\n",
      "         September  October  November  December  \n",
      "Lara       -260.71   324.39    395.82   1814.58  \n",
      "Italy          NaN      NaN       NaN       NaN  \n",
      "Germany        NaN      NaN       NaN       NaN  \n",
      "Greece         NaN      NaN       NaN       NaN  \n"
     ]
    }
   ],
   "source": [
    "growth_frame2 = o.reindex([\"Lara\", \"Italy\", \"Germany\", \"Greece\"]) \n",
    "print(growth_frame2)"
   ]
  },
  {
   "cell_type": "markdown",
   "id": "63c83bdc-99e4-4f0a-a91f-85db3ca7a4ea",
   "metadata": {},
   "source": [
    "# 3. Accessing and Changing values of DataFrames[ loc , at and replace ]\n",
    " This chapter of our Pandas and Python tutorial will show various ways to access and change selectively values in Pandas DataFrames and Series. We will show ways how to change single value or values matching strings or regular expressions. "
   ]
  },
  {
   "cell_type": "code",
   "execution_count": 48,
   "id": "bccbcd41-68b2-4726-b217-5a7f366926e9",
   "metadata": {},
   "outputs": [
    {
     "data": {
      "text/html": [
       "<div>\n",
       "<style scoped>\n",
       "    .dataframe tbody tr th:only-of-type {\n",
       "        vertical-align: middle;\n",
       "    }\n",
       "\n",
       "    .dataframe tbody tr th {\n",
       "        vertical-align: top;\n",
       "    }\n",
       "\n",
       "    .dataframe thead th {\n",
       "        text-align: right;\n",
       "    }\n",
       "</style>\n",
       "<table border=\"1\" class=\"dataframe\">\n",
       "  <thead>\n",
       "    <tr style=\"text-align: right;\">\n",
       "      <th></th>\n",
       "      <th>last</th>\n",
       "      <th>job</th>\n",
       "      <th>language</th>\n",
       "    </tr>\n",
       "  </thead>\n",
       "  <tbody>\n",
       "    <tr>\n",
       "      <th>Mike</th>\n",
       "      <td>Meyer</td>\n",
       "      <td>data analyst</td>\n",
       "      <td>Python</td>\n",
       "    </tr>\n",
       "    <tr>\n",
       "      <th>Dorothee</th>\n",
       "      <td>Maier</td>\n",
       "      <td>programmer</td>\n",
       "      <td>Perl</td>\n",
       "    </tr>\n",
       "    <tr>\n",
       "      <th>To m</th>\n",
       "      <td>Meyer</td>\n",
       "      <td>computer scientist</td>\n",
       "      <td>Java</td>\n",
       "    </tr>\n",
       "    <tr>\n",
       "      <th>Bill</th>\n",
       "      <td>Mayer</td>\n",
       "      <td>data scientist</td>\n",
       "      <td>Java</td>\n",
       "    </tr>\n",
       "    <tr>\n",
       "      <th>Pete</th>\n",
       "      <td>Meyr</td>\n",
       "      <td>accountant</td>\n",
       "      <td>Cobol</td>\n",
       "    </tr>\n",
       "    <tr>\n",
       "      <th>Kate</th>\n",
       "      <td>Mair</td>\n",
       "      <td>psychiatrist</td>\n",
       "      <td>Brainfuc k</td>\n",
       "    </tr>\n",
       "  </tbody>\n",
       "</table>\n",
       "</div>"
      ],
      "text/plain": [
       "           last                 job    language\n",
       "Mike      Meyer        data analyst      Python\n",
       "Dorothee  Maier          programmer        Perl\n",
       "To m      Meyer  computer scientist        Java\n",
       "Bill      Mayer      data scientist        Java\n",
       "Pete       Meyr          accountant       Cobol\n",
       "Kate       Mair        psychiatrist  Brainfuc k"
      ]
     },
     "execution_count": 48,
     "metadata": {},
     "output_type": "execute_result"
    }
   ],
   "source": [
    "import pandas as pd \n",
    "first = ('Mike', 'Dorothee', 'To m', 'Bill', 'Pete', 'Kate') \n",
    "last = ('Meyer', 'Maier', 'Meyer', 'Mayer', 'Meyr', 'Mair') \n",
    "job = ('data analyst', 'programmer', 'computer scientist', 'data scientist', 'accountant', 'psychiatrist') \n",
    "language = ('Python', 'Perl', 'Java', 'Java', 'Cobol', 'Brainfuc k') \n",
    "df = pd.DataFrame(list(zip(last, job, language)), columns =['last', 'job', 'language'], index=first) \n",
    "df\n"
   ]
  },
  {
   "cell_type": "markdown",
   "id": "700a8f47-cfda-4914-9be5-ebb18b26adff",
   "metadata": {},
   "source": [
    "# changing adat in the dataframe"
   ]
  },
  {
   "cell_type": "code",
   "execution_count": 52,
   "id": "2de4f0a9-2cbb-4e7c-a421-4f919877acdd",
   "metadata": {},
   "outputs": [
    {
     "data": {
      "text/plain": [
       "'accountant'"
      ]
     },
     "execution_count": 52,
     "metadata": {},
     "output_type": "execute_result"
    }
   ],
   "source": [
    "# Pandas provides two ways, i.e. loc and at , to access or change a single value of a DataFrame. \n",
    "# We will experiment with the height of Bill in the following Python code:\n",
    "# When it comes to speed the answer is clear: we should definitely use at .\n",
    "df.at['Pete','job']"
   ]
  },
  {
   "cell_type": "code",
   "execution_count": 53,
   "id": "9fd712cd-2903-4aef-9098-ddc3a97376c1",
   "metadata": {},
   "outputs": [
    {
     "data": {
      "text/plain": [
       "'Java'"
      ]
     },
     "execution_count": 53,
     "metadata": {},
     "output_type": "execute_result"
    }
   ],
   "source": [
    "df.loc['Bill','language']"
   ]
  },
  {
   "cell_type": "code",
   "execution_count": 57,
   "id": "3a89f13e-26fa-414f-a781-2cc73d6299da",
   "metadata": {},
   "outputs": [
    {
     "data": {
      "text/html": [
       "<div>\n",
       "<style scoped>\n",
       "    .dataframe tbody tr th:only-of-type {\n",
       "        vertical-align: middle;\n",
       "    }\n",
       "\n",
       "    .dataframe tbody tr th {\n",
       "        vertical-align: top;\n",
       "    }\n",
       "\n",
       "    .dataframe thead th {\n",
       "        text-align: right;\n",
       "    }\n",
       "</style>\n",
       "<table border=\"1\" class=\"dataframe\">\n",
       "  <thead>\n",
       "    <tr style=\"text-align: right;\">\n",
       "      <th></th>\n",
       "      <th>last</th>\n",
       "      <th>job</th>\n",
       "      <th>language</th>\n",
       "    </tr>\n",
       "  </thead>\n",
       "  <tbody>\n",
       "    <tr>\n",
       "      <th>Mike</th>\n",
       "      <td>Meyer</td>\n",
       "      <td>data analyst</td>\n",
       "      <td>Python</td>\n",
       "    </tr>\n",
       "    <tr>\n",
       "      <th>Dorothee</th>\n",
       "      <td>Maier</td>\n",
       "      <td>programmer</td>\n",
       "      <td>Perl</td>\n",
       "    </tr>\n",
       "    <tr>\n",
       "      <th>To m</th>\n",
       "      <td>Meyer</td>\n",
       "      <td>computer scientist</td>\n",
       "      <td>Java</td>\n",
       "    </tr>\n",
       "    <tr>\n",
       "      <th>Bill</th>\n",
       "      <td>Mayer</td>\n",
       "      <td>data scientist</td>\n",
       "      <td>Java</td>\n",
       "    </tr>\n",
       "    <tr>\n",
       "      <th>Pete</th>\n",
       "      <td>Meyr</td>\n",
       "      <td>accountant</td>\n",
       "      <td>sanskrit</td>\n",
       "    </tr>\n",
       "    <tr>\n",
       "      <th>Kate</th>\n",
       "      <td>Mair</td>\n",
       "      <td>psychiatrist</td>\n",
       "      <td>Brainfuc k</td>\n",
       "    </tr>\n",
       "  </tbody>\n",
       "</table>\n",
       "</div>"
      ],
      "text/plain": [
       "           last                 job    language\n",
       "Mike      Meyer        data analyst      Python\n",
       "Dorothee  Maier          programmer        Perl\n",
       "To m      Meyer  computer scientist        Java\n",
       "Bill      Mayer      data scientist        Java\n",
       "Pete       Meyr          accountant    sanskrit\n",
       "Kate       Mair        psychiatrist  Brainfuc k"
      ]
     },
     "execution_count": 57,
     "metadata": {},
     "output_type": "execute_result"
    }
   ],
   "source": [
    "df.loc['Pete','language']='sanskrit'\n",
    "#or df.at['Pete','language']='sanskrit'\n",
    "df"
   ]
  },
  {
   "cell_type": "markdown",
   "id": "1a1cd17f-9adb-4e62-b761-3609005260d8",
   "metadata": {},
   "source": [
    "# REPLACE\n",
    "This method replaces values given in to_replace with value . This differs from updating with .loc or .iloc , which requires you to specify a location to update with some value. With replace it is possible to replace values in a Series or DataFrame without knowing where they occur.\\\n",
    "replace works both with Series and DataFrames.\\\n",
    "We will explain the way of working of the method replace by discussing the different data types of the parameter to_replace individually:\n"
   ]
  },
  {
   "cell_type": "code",
   "execution_count": 76,
   "id": "010f59f9-57d0-427c-a813-426e0f0b02e7",
   "metadata": {},
   "outputs": [
    {
     "data": {
      "text/plain": [
       "0    27\n",
       "1    33\n",
       "2    42\n",
       "3    19\n",
       "dtype: int64"
      ]
     },
     "execution_count": 76,
     "metadata": {},
     "output_type": "execute_result"
    }
   ],
   "source": [
    "s = pd.Series([27, 33, 13, 19]) \n",
    "s.replace(13, 42)\n"
   ]
  },
  {
   "cell_type": "code",
   "execution_count": 77,
   "id": "dd81125f-e8c5-4a29-bb9a-1f15b1639c7e",
   "metadata": {},
   "outputs": [
    {
     "data": {
      "text/plain": [
       "0    27\n",
       "1    33\n",
       "2    42\n",
       "3    19\n",
       "dtype: int64"
      ]
     },
     "execution_count": 77,
     "metadata": {},
     "output_type": "execute_result"
    }
   ],
   "source": [
    "# If we really want to change the object s is referencing, we should set the inplace parameter to True : \n",
    "s = pd.Series([27, 33, 13, 19]) \n",
    "s.replace(13, 42, inplace=True) \n",
    "s\n"
   ]
  },
  {
   "cell_type": "code",
   "execution_count": 78,
   "id": "4785f40e-27ab-4844-a06d-b4b3cfd667e3",
   "metadata": {},
   "outputs": [
    {
     "data": {
      "text/plain": [
       "0    42\n",
       "1    42\n",
       "2    42\n",
       "3     3\n",
       "4     4\n",
       "dtype: int64"
      ]
     },
     "execution_count": 78,
     "metadata": {},
     "output_type": "execute_result"
    }
   ],
   "source": [
    "# We can also change multiple values into one single value, as you can see in the following example.\n",
    "s = pd.Series([0, 1, 2, 3, 4]) \n",
    "s.replace([0, 1, 2], 42, inplace=True) \n",
    "s"
   ]
  },
  {
   "cell_type": "markdown",
   "id": "aedd0c80-db59-4332-b436-59c19b1f3fed",
   "metadata": {},
   "source": [
    "# to_replace\n",
    " If both the values of to_replace and value are both lists, they must be the same length. "
   ]
  },
  {
   "cell_type": "code",
   "execution_count": 83,
   "id": "7753bbef-07c4-418a-8608-f1543b796372",
   "metadata": {},
   "outputs": [
    {
     "data": {
      "text/html": [
       "<div>\n",
       "<style scoped>\n",
       "    .dataframe tbody tr th:only-of-type {\n",
       "        vertical-align: middle;\n",
       "    }\n",
       "\n",
       "    .dataframe tbody tr th {\n",
       "        vertical-align: top;\n",
       "    }\n",
       "\n",
       "    .dataframe thead th {\n",
       "        text-align: right;\n",
       "    }\n",
       "</style>\n",
       "<table border=\"1\" class=\"dataframe\">\n",
       "  <thead>\n",
       "    <tr style=\"text-align: right;\">\n",
       "      <th></th>\n",
       "      <th>last</th>\n",
       "      <th>job</th>\n",
       "      <th>language</th>\n",
       "    </tr>\n",
       "  </thead>\n",
       "  <tbody>\n",
       "    <tr>\n",
       "      <th>Mike</th>\n",
       "      <td>Meyer</td>\n",
       "      <td>data analyst</td>\n",
       "      <td>Python</td>\n",
       "    </tr>\n",
       "    <tr>\n",
       "      <th>Dorothee</th>\n",
       "      <td>Maier</td>\n",
       "      <td>programmer</td>\n",
       "      <td>Perl</td>\n",
       "    </tr>\n",
       "    <tr>\n",
       "      <th>Tom</th>\n",
       "      <td>Meyer</td>\n",
       "      <td>computer scientist</td>\n",
       "      <td>Java</td>\n",
       "    </tr>\n",
       "    <tr>\n",
       "      <th>Bill</th>\n",
       "      <td>Mayer</td>\n",
       "      <td>data scientist</td>\n",
       "      <td>Pithon</td>\n",
       "    </tr>\n",
       "    <tr>\n",
       "      <th>Pete</th>\n",
       "      <td>Meyr</td>\n",
       "      <td>programmer</td>\n",
       "      <td>Pythen</td>\n",
       "    </tr>\n",
       "    <tr>\n",
       "      <th>Kate</th>\n",
       "      <td>Mair</td>\n",
       "      <td>psychiatrist</td>\n",
       "      <td>Brainfu ck</td>\n",
       "    </tr>\n",
       "  </tbody>\n",
       "</table>\n",
       "</div>"
      ],
      "text/plain": [
       "           last                 job    language\n",
       "Mike      Meyer        data analyst      Python\n",
       "Dorothee  Maier          programmer        Perl\n",
       "Tom       Meyer  computer scientist        Java\n",
       "Bill      Mayer      data scientist      Pithon\n",
       "Pete       Meyr          programmer      Pythen\n",
       "Kate       Mair        psychiatrist  Brainfu ck"
      ]
     },
     "execution_count": 83,
     "metadata": {},
     "output_type": "execute_result"
    }
   ],
   "source": [
    "import pandas as pd \n",
    "first = ('Mike', 'Dorothee', 'Tom', 'Bill', 'Pete', 'Kate') \n",
    "last = ('Meyer', 'Maier', 'Meyer', 'Mayer', 'Meyr', 'Mair') \n",
    "job = ('data analyst', 'programmer', 'computer scientist', 'data scientist', 'programmer', 'psychiatrist') \n",
    "language = ('Python', 'Perl', 'Java', 'Pithon', 'Pythen', 'Brainfu ck')\n",
    "df = pd.DataFrame(list(zip(last, job, language)), columns =['last', 'job', 'language'], index=first) \n",
    "df"
   ]
  },
  {
   "cell_type": "code",
   "execution_count": 84,
   "id": "da62eaa7-c145-431a-a13b-830fe50b4383",
   "metadata": {},
   "outputs": [
    {
     "data": {
      "text/html": [
       "<div>\n",
       "<style scoped>\n",
       "    .dataframe tbody tr th:only-of-type {\n",
       "        vertical-align: middle;\n",
       "    }\n",
       "\n",
       "    .dataframe tbody tr th {\n",
       "        vertical-align: top;\n",
       "    }\n",
       "\n",
       "    .dataframe thead th {\n",
       "        text-align: right;\n",
       "    }\n",
       "</style>\n",
       "<table border=\"1\" class=\"dataframe\">\n",
       "  <thead>\n",
       "    <tr style=\"text-align: right;\">\n",
       "      <th></th>\n",
       "      <th>last</th>\n",
       "      <th>job</th>\n",
       "      <th>language</th>\n",
       "    </tr>\n",
       "  </thead>\n",
       "  <tbody>\n",
       "    <tr>\n",
       "      <th>Mike</th>\n",
       "      <td>Meyer</td>\n",
       "      <td>data analyst</td>\n",
       "      <td>Python</td>\n",
       "    </tr>\n",
       "    <tr>\n",
       "      <th>Dorothee</th>\n",
       "      <td>Michael</td>\n",
       "      <td>programmer</td>\n",
       "      <td>Perl</td>\n",
       "    </tr>\n",
       "    <tr>\n",
       "      <th>Tom</th>\n",
       "      <td>Meyer</td>\n",
       "      <td>computer scientist</td>\n",
       "      <td>Java</td>\n",
       "    </tr>\n",
       "    <tr>\n",
       "      <th>Bill</th>\n",
       "      <td>Mayer</td>\n",
       "      <td>data scientist</td>\n",
       "      <td>Pithon</td>\n",
       "    </tr>\n",
       "    <tr>\n",
       "      <th>Pete</th>\n",
       "      <td>Thomas</td>\n",
       "      <td>programmer</td>\n",
       "      <td>Pythen</td>\n",
       "    </tr>\n",
       "    <tr>\n",
       "      <th>Kate</th>\n",
       "      <td>Python</td>\n",
       "      <td>psychiatrist</td>\n",
       "      <td>Brainfu ck</td>\n",
       "    </tr>\n",
       "  </tbody>\n",
       "</table>\n",
       "</div>"
      ],
      "text/plain": [
       "             last                 job    language\n",
       "Mike        Meyer        data analyst      Python\n",
       "Dorothee  Michael          programmer        Perl\n",
       "Tom         Meyer  computer scientist        Java\n",
       "Bill        Mayer      data scientist      Pithon\n",
       "Pete       Thomas          programmer      Pythen\n",
       "Kate       Python        psychiatrist  Brainfu ck"
      ]
     },
     "execution_count": 84,
     "metadata": {},
     "output_type": "execute_result"
    }
   ],
   "source": [
    "df.replace(to_replace=['Maier','Meyr','Mair'], value=['Michael', 'Thomas', 'Python'], inplace=True)\n",
    "df\n"
   ]
  },
  {
   "cell_type": "markdown",
   "id": "e2b65065-bd03-4e9d-a058-155cfc4a7715",
   "metadata": {},
   "source": [
    "# pad , ffill , bfill , None \n",
    "ffill= forward fill\\\n",
    "bfill= backward fill"
   ]
  },
  {
   "cell_type": "code",
   "execution_count": 85,
   "id": "c5868d1c-75c0-4292-9c3b-85546c176a2f",
   "metadata": {},
   "outputs": [
    {
     "data": {
      "text/html": [
       "<div>\n",
       "<style scoped>\n",
       "    .dataframe tbody tr th:only-of-type {\n",
       "        vertical-align: middle;\n",
       "    }\n",
       "\n",
       "    .dataframe tbody tr th {\n",
       "        vertical-align: top;\n",
       "    }\n",
       "\n",
       "    .dataframe thead th {\n",
       "        text-align: right;\n",
       "    }\n",
       "</style>\n",
       "<table border=\"1\" class=\"dataframe\">\n",
       "  <thead>\n",
       "    <tr style=\"text-align: right;\">\n",
       "      <th></th>\n",
       "      <th>name</th>\n",
       "      <th>job</th>\n",
       "      <th>language</th>\n",
       "    </tr>\n",
       "  </thead>\n",
       "  <tbody>\n",
       "    <tr>\n",
       "      <th>0</th>\n",
       "      <td>Ben</td>\n",
       "      <td>programmer</td>\n",
       "      <td>Java</td>\n",
       "    </tr>\n",
       "    <tr>\n",
       "      <th>1</th>\n",
       "      <td>Kate</td>\n",
       "      <td>NN</td>\n",
       "      <td>Python</td>\n",
       "    </tr>\n",
       "    <tr>\n",
       "      <th>2</th>\n",
       "      <td>Agnes</td>\n",
       "      <td>NN</td>\n",
       "      <td>LN</td>\n",
       "    </tr>\n",
       "    <tr>\n",
       "      <th>3</th>\n",
       "      <td>Ashleigh</td>\n",
       "      <td>engineer</td>\n",
       "      <td>LN</td>\n",
       "    </tr>\n",
       "    <tr>\n",
       "      <th>4</th>\n",
       "      <td>Tom</td>\n",
       "      <td>teacher</td>\n",
       "      <td>C</td>\n",
       "    </tr>\n",
       "  </tbody>\n",
       "</table>\n",
       "</div>"
      ],
      "text/plain": [
       "       name         job language\n",
       "0       Ben  programmer     Java\n",
       "1      Kate          NN   Python\n",
       "2     Agnes          NN       LN\n",
       "3  Ashleigh    engineer       LN\n",
       "4       Tom     teacher        C"
      ]
     },
     "execution_count": 85,
     "metadata": {},
     "output_type": "execute_result"
    }
   ],
   "source": [
    "import pandas as pd \n",
    "fdf = pd.DataFrame({ 'name':['Ben', 'Kate', 'Agnes', 'Ashleigh', 'Tom'], 'job':['programmer', 'NN', 'NN', 'engineer', 'teacher'], 'language':['Java', 'Python', 'LN', 'LN', 'C']})\n",
    "fdf"
   ]
  },
  {
   "cell_type": "code",
   "execution_count": 96,
   "id": "0fd27af3-8ea9-467f-8d0b-1e01f165e1f1",
   "metadata": {},
   "outputs": [
    {
     "name": "stderr",
     "output_type": "stream",
     "text": [
      "C:\\Users\\Education\\AppData\\Local\\Temp\\ipykernel_101672\\3509581906.py:1: FutureWarning: The 'method' keyword in DataFrame.replace is deprecated and will be removed in a future version.\n",
      "  fdf.replace(to_replace=['NN','LN'], value=None, method='bfill')\n"
     ]
    },
    {
     "data": {
      "text/html": [
       "<div>\n",
       "<style scoped>\n",
       "    .dataframe tbody tr th:only-of-type {\n",
       "        vertical-align: middle;\n",
       "    }\n",
       "\n",
       "    .dataframe tbody tr th {\n",
       "        vertical-align: top;\n",
       "    }\n",
       "\n",
       "    .dataframe thead th {\n",
       "        text-align: right;\n",
       "    }\n",
       "</style>\n",
       "<table border=\"1\" class=\"dataframe\">\n",
       "  <thead>\n",
       "    <tr style=\"text-align: right;\">\n",
       "      <th></th>\n",
       "      <th>name</th>\n",
       "      <th>job</th>\n",
       "      <th>language</th>\n",
       "    </tr>\n",
       "  </thead>\n",
       "  <tbody>\n",
       "    <tr>\n",
       "      <th>0</th>\n",
       "      <td>Ben</td>\n",
       "      <td>programmer</td>\n",
       "      <td>Java</td>\n",
       "    </tr>\n",
       "    <tr>\n",
       "      <th>1</th>\n",
       "      <td>Kate</td>\n",
       "      <td>engineer</td>\n",
       "      <td>Python</td>\n",
       "    </tr>\n",
       "    <tr>\n",
       "      <th>2</th>\n",
       "      <td>Agnes</td>\n",
       "      <td>engineer</td>\n",
       "      <td>C</td>\n",
       "    </tr>\n",
       "    <tr>\n",
       "      <th>3</th>\n",
       "      <td>Ashleigh</td>\n",
       "      <td>engineer</td>\n",
       "      <td>C</td>\n",
       "    </tr>\n",
       "    <tr>\n",
       "      <th>4</th>\n",
       "      <td>Tom</td>\n",
       "      <td>teacher</td>\n",
       "      <td>C</td>\n",
       "    </tr>\n",
       "  </tbody>\n",
       "</table>\n",
       "</div>"
      ],
      "text/plain": [
       "       name         job language\n",
       "0       Ben  programmer     Java\n",
       "1      Kate    engineer   Python\n",
       "2     Agnes    engineer        C\n",
       "3  Ashleigh    engineer        C\n",
       "4       Tom     teacher        C"
      ]
     },
     "execution_count": 96,
     "metadata": {},
     "output_type": "execute_result"
    }
   ],
   "source": [
    "fdf.replace(to_replace=['NN','LN'], value=None, method='bfill')"
   ]
  },
  {
   "cell_type": "markdown",
   "id": "e74cd9e5-885b-4760-8442-d2bda14fe9c3",
   "metadata": {},
   "source": [
    "# OTHER EXAMPLES \n",
    "We will present some more examples, which are taken from the help file of loc : "
   ]
  },
  {
   "cell_type": "code",
   "execution_count": 71,
   "id": "8cb1f785-3961-4a99-b201-e889e239a337",
   "metadata": {},
   "outputs": [
    {
     "data": {
      "text/html": [
       "<div>\n",
       "<style scoped>\n",
       "    .dataframe tbody tr th:only-of-type {\n",
       "        vertical-align: middle;\n",
       "    }\n",
       "\n",
       "    .dataframe tbody tr th {\n",
       "        vertical-align: top;\n",
       "    }\n",
       "\n",
       "    .dataframe thead th {\n",
       "        text-align: right;\n",
       "    }\n",
       "</style>\n",
       "<table border=\"1\" class=\"dataframe\">\n",
       "  <thead>\n",
       "    <tr style=\"text-align: right;\">\n",
       "      <th></th>\n",
       "      <th>max_speed</th>\n",
       "      <th>shield</th>\n",
       "    </tr>\n",
       "  </thead>\n",
       "  <tbody>\n",
       "    <tr>\n",
       "      <th>cobra</th>\n",
       "      <td>1</td>\n",
       "      <td>2</td>\n",
       "    </tr>\n",
       "    <tr>\n",
       "      <th>viper</th>\n",
       "      <td>4</td>\n",
       "      <td>5</td>\n",
       "    </tr>\n",
       "    <tr>\n",
       "      <th>sidewinder</th>\n",
       "      <td>7</td>\n",
       "      <td>8</td>\n",
       "    </tr>\n",
       "  </tbody>\n",
       "</table>\n",
       "</div>"
      ],
      "text/plain": [
       "            max_speed  shield\n",
       "cobra               1       2\n",
       "viper               4       5\n",
       "sidewinder          7       8"
      ]
     },
     "execution_count": 71,
     "metadata": {},
     "output_type": "execute_result"
    }
   ],
   "source": [
    "df1 = pd.DataFrame([[1, 2], [4, 5], [7, 8]], index=['cobra', 'viper', 'sidewinder'], columns=['max_speed', 'shield'])\n",
    "df1"
   ]
  },
  {
   "cell_type": "code",
   "execution_count": 59,
   "id": "8c09c369-e6ec-4c8f-be18-71a2b0c7d84f",
   "metadata": {},
   "outputs": [
    {
     "data": {
      "text/plain": [
       "max_speed    4\n",
       "shield       5\n",
       "Name: viper, dtype: int64"
      ]
     },
     "execution_count": 59,
     "metadata": {},
     "output_type": "execute_result"
    }
   ],
   "source": [
    "df.loc['viper']\n"
   ]
  },
  {
   "cell_type": "code",
   "execution_count": 60,
   "id": "96772f0b-3326-46cf-8f93-8b6449cfd7ef",
   "metadata": {},
   "outputs": [
    {
     "data": {
      "text/html": [
       "<div>\n",
       "<style scoped>\n",
       "    .dataframe tbody tr th:only-of-type {\n",
       "        vertical-align: middle;\n",
       "    }\n",
       "\n",
       "    .dataframe tbody tr th {\n",
       "        vertical-align: top;\n",
       "    }\n",
       "\n",
       "    .dataframe thead th {\n",
       "        text-align: right;\n",
       "    }\n",
       "</style>\n",
       "<table border=\"1\" class=\"dataframe\">\n",
       "  <thead>\n",
       "    <tr style=\"text-align: right;\">\n",
       "      <th></th>\n",
       "      <th>max_speed</th>\n",
       "      <th>shield</th>\n",
       "    </tr>\n",
       "  </thead>\n",
       "  <tbody>\n",
       "    <tr>\n",
       "      <th>viper</th>\n",
       "      <td>4</td>\n",
       "      <td>5</td>\n",
       "    </tr>\n",
       "    <tr>\n",
       "      <th>sidewinder</th>\n",
       "      <td>7</td>\n",
       "      <td>8</td>\n",
       "    </tr>\n",
       "  </tbody>\n",
       "</table>\n",
       "</div>"
      ],
      "text/plain": [
       "            max_speed  shield\n",
       "viper               4       5\n",
       "sidewinder          7       8"
      ]
     },
     "execution_count": 60,
     "metadata": {},
     "output_type": "execute_result"
    }
   ],
   "source": [
    "df.loc[['viper', 'sidewinder']]\n"
   ]
  },
  {
   "cell_type": "code",
   "execution_count": 61,
   "id": "ee2f5273-4151-4b2e-81eb-a802f8096dec",
   "metadata": {},
   "outputs": [
    {
     "data": {
      "text/plain": [
       "np.int64(2)"
      ]
     },
     "execution_count": 61,
     "metadata": {},
     "output_type": "execute_result"
    }
   ],
   "source": [
    "df.loc['cobra', 'shield']\n"
   ]
  },
  {
   "cell_type": "code",
   "execution_count": 62,
   "id": "ef13b8c2-6dab-4312-aecc-c4ff95e38aab",
   "metadata": {},
   "outputs": [
    {
     "data": {
      "text/plain": [
       "cobra         1\n",
       "viper         4\n",
       "sidewinder    7\n",
       "Name: max_speed, dtype: int64"
      ]
     },
     "execution_count": 62,
     "metadata": {},
     "output_type": "execute_result"
    }
   ],
   "source": [
    "df.loc['cobra':'sidewinder', 'max_speed'] \n",
    "#Slice with labels for row and single label for column. As mentioned above, note that both the start and stop of the slice are included.\n"
   ]
  },
  {
   "cell_type": "code",
   "execution_count": 67,
   "id": "483b56ae-00ba-4c48-b1bb-0b1d2dc73ea8",
   "metadata": {},
   "outputs": [
    {
     "data": {
      "text/html": [
       "<div>\n",
       "<style scoped>\n",
       "    .dataframe tbody tr th:only-of-type {\n",
       "        vertical-align: middle;\n",
       "    }\n",
       "\n",
       "    .dataframe tbody tr th {\n",
       "        vertical-align: top;\n",
       "    }\n",
       "\n",
       "    .dataframe thead th {\n",
       "        text-align: right;\n",
       "    }\n",
       "</style>\n",
       "<table border=\"1\" class=\"dataframe\">\n",
       "  <thead>\n",
       "    <tr style=\"text-align: right;\">\n",
       "      <th></th>\n",
       "      <th>max_speed</th>\n",
       "      <th>shield</th>\n",
       "    </tr>\n",
       "  </thead>\n",
       "  <tbody>\n",
       "    <tr>\n",
       "      <th>cobra</th>\n",
       "      <td>1</td>\n",
       "      <td>2</td>\n",
       "    </tr>\n",
       "    <tr>\n",
       "      <th>viper</th>\n",
       "      <td>0</td>\n",
       "      <td>0</td>\n",
       "    </tr>\n",
       "    <tr>\n",
       "      <th>sidewinder</th>\n",
       "      <td>0</td>\n",
       "      <td>0</td>\n",
       "    </tr>\n",
       "  </tbody>\n",
       "</table>\n",
       "</div>"
      ],
      "text/plain": [
       "            max_speed  shield\n",
       "cobra               1       2\n",
       "viper               0       0\n",
       "sidewinder          0       0"
      ]
     },
     "execution_count": 67,
     "metadata": {},
     "output_type": "execute_result"
    }
   ],
   "source": [
    "# Set value for rows matching callable condition\n",
    "df.loc[df['shield'] > 35] = 0 \n",
    "df"
   ]
  },
  {
   "cell_type": "code",
   "execution_count": 69,
   "id": "a712d48f-2607-4711-9785-72603acf4d06",
   "metadata": {},
   "outputs": [
    {
     "data": {
      "text/html": [
       "<div>\n",
       "<style scoped>\n",
       "    .dataframe tbody tr th:only-of-type {\n",
       "        vertical-align: middle;\n",
       "    }\n",
       "\n",
       "    .dataframe tbody tr th {\n",
       "        vertical-align: top;\n",
       "    }\n",
       "\n",
       "    .dataframe thead th {\n",
       "        text-align: right;\n",
       "    }\n",
       "</style>\n",
       "<table border=\"1\" class=\"dataframe\">\n",
       "  <thead>\n",
       "    <tr style=\"text-align: right;\">\n",
       "      <th></th>\n",
       "      <th>max_speed</th>\n",
       "      <th>shield</th>\n",
       "    </tr>\n",
       "  </thead>\n",
       "  <tbody>\n",
       "    <tr>\n",
       "      <th>cobra</th>\n",
       "      <td>10</td>\n",
       "      <td>10</td>\n",
       "    </tr>\n",
       "    <tr>\n",
       "      <th>viper</th>\n",
       "      <td>0</td>\n",
       "      <td>0</td>\n",
       "    </tr>\n",
       "    <tr>\n",
       "      <th>sidewinder</th>\n",
       "      <td>0</td>\n",
       "      <td>0</td>\n",
       "    </tr>\n",
       "  </tbody>\n",
       "</table>\n",
       "</div>"
      ],
      "text/plain": [
       "            max_speed  shield\n",
       "cobra              10      10\n",
       "viper               0       0\n",
       "sidewinder          0       0"
      ]
     },
     "execution_count": 69,
     "metadata": {},
     "output_type": "execute_result"
    }
   ],
   "source": [
    "df.loc['cobra'] = 10 \n",
    "df\n"
   ]
  },
  {
   "cell_type": "code",
   "execution_count": 72,
   "id": "1a756578-d0b8-41ea-ab3f-d40c8b11fc0a",
   "metadata": {},
   "outputs": [
    {
     "data": {
      "text/html": [
       "<div>\n",
       "<style scoped>\n",
       "    .dataframe tbody tr th:only-of-type {\n",
       "        vertical-align: middle;\n",
       "    }\n",
       "\n",
       "    .dataframe tbody tr th {\n",
       "        vertical-align: top;\n",
       "    }\n",
       "\n",
       "    .dataframe thead th {\n",
       "        text-align: right;\n",
       "    }\n",
       "</style>\n",
       "<table border=\"1\" class=\"dataframe\">\n",
       "  <thead>\n",
       "    <tr style=\"text-align: right;\">\n",
       "      <th></th>\n",
       "      <th>max_speed</th>\n",
       "      <th>shield</th>\n",
       "    </tr>\n",
       "  </thead>\n",
       "  <tbody>\n",
       "    <tr>\n",
       "      <th>cobra</th>\n",
       "      <td>1</td>\n",
       "      <td>2</td>\n",
       "    </tr>\n",
       "    <tr>\n",
       "      <th>viper</th>\n",
       "      <td>4</td>\n",
       "      <td>5</td>\n",
       "    </tr>\n",
       "    <tr>\n",
       "      <th>sidewinder</th>\n",
       "      <td>7</td>\n",
       "      <td>8</td>\n",
       "    </tr>\n",
       "  </tbody>\n",
       "</table>\n",
       "</div>"
      ],
      "text/plain": [
       "            max_speed  shield\n",
       "cobra               1       2\n",
       "viper               4       5\n",
       "sidewinder          7       8"
      ]
     },
     "execution_count": 72,
     "metadata": {},
     "output_type": "execute_result"
    }
   ],
   "source": [
    "df1"
   ]
  },
  {
   "cell_type": "code",
   "execution_count": 75,
   "id": "ed1d5b3c-359a-435c-93af-9e5d25b6705f",
   "metadata": {},
   "outputs": [
    {
     "data": {
      "text/html": [
       "<div>\n",
       "<style scoped>\n",
       "    .dataframe tbody tr th:only-of-type {\n",
       "        vertical-align: middle;\n",
       "    }\n",
       "\n",
       "    .dataframe tbody tr th {\n",
       "        vertical-align: top;\n",
       "    }\n",
       "\n",
       "    .dataframe thead th {\n",
       "        text-align: right;\n",
       "    }\n",
       "</style>\n",
       "<table border=\"1\" class=\"dataframe\">\n",
       "  <thead>\n",
       "    <tr style=\"text-align: right;\">\n",
       "      <th></th>\n",
       "      <th>max_speed</th>\n",
       "      <th>shield</th>\n",
       "    </tr>\n",
       "  </thead>\n",
       "  <tbody>\n",
       "    <tr>\n",
       "      <th>sidewinder</th>\n",
       "      <td>7</td>\n",
       "      <td>8</td>\n",
       "    </tr>\n",
       "  </tbody>\n",
       "</table>\n",
       "</div>"
      ],
      "text/plain": [
       "            max_speed  shield\n",
       "sidewinder          7       8"
      ]
     },
     "execution_count": 75,
     "metadata": {},
     "output_type": "execute_result"
    }
   ],
   "source": [
    "df1.loc[lambda df1: df1['shield'] == 8]\n"
   ]
  },
  {
   "cell_type": "markdown",
   "id": "b236a372-f95e-4991-b155-ef6e53f8af04",
   "metadata": {},
   "source": [
    "# 4. Pandas: groupby\n",
    "Pandas groupby operation involves some combination of splitting the object, applying a function, and combining the results. We can split a DataFrame object into groups based on various criteria and row and column-wise, i.e. using axis .\n",
    "'Applying' means\\\n",
    "• to filter the data,\\\n",
    "• transform the data or\\\n",
    "• aggregate the data.\\\n",
    "groupby can be applied to Pandas Series objects and DataFrame objects! \n"
   ]
  },
  {
   "cell_type": "code",
   "execution_count": 106,
   "id": "3597441e-ac6f-4908-9fec-283ecf70c832",
   "metadata": {},
   "outputs": [
    {
     "data": {
      "text/html": [
       "<div>\n",
       "<style scoped>\n",
       "    .dataframe tbody tr th:only-of-type {\n",
       "        vertical-align: middle;\n",
       "    }\n",
       "\n",
       "    .dataframe tbody tr th {\n",
       "        vertical-align: top;\n",
       "    }\n",
       "\n",
       "    .dataframe thead th {\n",
       "        text-align: right;\n",
       "    }\n",
       "</style>\n",
       "<table border=\"1\" class=\"dataframe\">\n",
       "  <thead>\n",
       "    <tr style=\"text-align: right;\">\n",
       "      <th></th>\n",
       "      <th>Name</th>\n",
       "      <th>Coffee</th>\n",
       "      <th>Tea</th>\n",
       "    </tr>\n",
       "  </thead>\n",
       "  <tbody>\n",
       "    <tr>\n",
       "      <th>0</th>\n",
       "      <td>Roberta</td>\n",
       "      <td>3</td>\n",
       "      <td>0</td>\n",
       "    </tr>\n",
       "    <tr>\n",
       "      <th>1</th>\n",
       "      <td>Melinda</td>\n",
       "      <td>0</td>\n",
       "      <td>4</td>\n",
       "    </tr>\n",
       "    <tr>\n",
       "      <th>2</th>\n",
       "      <td>Brenda</td>\n",
       "      <td>2</td>\n",
       "      <td>2</td>\n",
       "    </tr>\n",
       "    <tr>\n",
       "      <th>3</th>\n",
       "      <td>Samantha</td>\n",
       "      <td>2</td>\n",
       "      <td>0</td>\n",
       "    </tr>\n",
       "    <tr>\n",
       "      <th>4</th>\n",
       "      <td>Melinda</td>\n",
       "      <td>0</td>\n",
       "      <td>3</td>\n",
       "    </tr>\n",
       "    <tr>\n",
       "      <th>5</th>\n",
       "      <td>Roberta</td>\n",
       "      <td>2</td>\n",
       "      <td>0</td>\n",
       "    </tr>\n",
       "    <tr>\n",
       "      <th>6</th>\n",
       "      <td>Melinda</td>\n",
       "      <td>0</td>\n",
       "      <td>3</td>\n",
       "    </tr>\n",
       "    <tr>\n",
       "      <th>7</th>\n",
       "      <td>Brenda</td>\n",
       "      <td>1</td>\n",
       "      <td>2</td>\n",
       "    </tr>\n",
       "    <tr>\n",
       "      <th>8</th>\n",
       "      <td>Samantha</td>\n",
       "      <td>3</td>\n",
       "      <td>0</td>\n",
       "    </tr>\n",
       "  </tbody>\n",
       "</table>\n",
       "</div>"
      ],
      "text/plain": [
       "       Name  Coffee  Tea\n",
       "0   Roberta       3    0\n",
       "1   Melinda       0    4\n",
       "2    Brenda       2    2\n",
       "3  Samantha       2    0\n",
       "4   Melinda       0    3\n",
       "5   Roberta       2    0\n",
       "6   Melinda       0    3\n",
       "7    Brenda       1    2\n",
       "8  Samantha       3    0"
      ]
     },
     "execution_count": 106,
     "metadata": {},
     "output_type": "execute_result"
    }
   ],
   "source": [
    "import pandas as pd \n",
    "beverages = pd.DataFrame({'Name': ['Roberta', 'Melinda', 'Brenda', 'Samantha', 'Melinda', 'Roberta', 'Melinda', 'Brenda', 'Samantha'], \n",
    "                          'Coffee': [3, 0, 2, 2, 0, 2, 0, 1, 3], 'Tea': [0, 4, 2, 0, 3, 0, 3, 2, 0]}) \n",
    "beverages"
   ]
  },
  {
   "cell_type": "code",
   "execution_count": 109,
   "id": "9317b8fe-fcb8-4179-a060-b958b7cf97b2",
   "metadata": {},
   "outputs": [
    {
     "data": {
      "text/plain": [
       "np.int64(13)"
      ]
     },
     "execution_count": 109,
     "metadata": {},
     "output_type": "execute_result"
    }
   ],
   "source": [
    "# total coffee\n",
    "beverages['Coffee'].sum()"
   ]
  },
  {
   "cell_type": "code",
   "execution_count": 110,
   "id": "4c072f9f-781b-4011-b7fc-61f619823cce",
   "metadata": {},
   "outputs": [
    {
     "data": {
      "text/plain": [
       "Coffee    13\n",
       "Tea       14\n",
       "dtype: int64"
      ]
     },
     "execution_count": 110,
     "metadata": {},
     "output_type": "execute_result"
    }
   ],
   "source": [
    "beverages[['Coffee', 'Tea']].sum()\n"
   ]
  },
  {
   "cell_type": "code",
   "execution_count": 112,
   "id": "9499c2b2-08ba-4860-b515-bf5c44acfe73",
   "metadata": {},
   "outputs": [
    {
     "data": {
      "text/html": [
       "<div>\n",
       "<style scoped>\n",
       "    .dataframe tbody tr th:only-of-type {\n",
       "        vertical-align: middle;\n",
       "    }\n",
       "\n",
       "    .dataframe tbody tr th {\n",
       "        vertical-align: top;\n",
       "    }\n",
       "\n",
       "    .dataframe thead th {\n",
       "        text-align: right;\n",
       "    }\n",
       "</style>\n",
       "<table border=\"1\" class=\"dataframe\">\n",
       "  <thead>\n",
       "    <tr style=\"text-align: right;\">\n",
       "      <th></th>\n",
       "      <th>Coffee</th>\n",
       "      <th>Tea</th>\n",
       "    </tr>\n",
       "    <tr>\n",
       "      <th>Name</th>\n",
       "      <th></th>\n",
       "      <th></th>\n",
       "    </tr>\n",
       "  </thead>\n",
       "  <tbody>\n",
       "    <tr>\n",
       "      <th>Brenda</th>\n",
       "      <td>3</td>\n",
       "      <td>4</td>\n",
       "    </tr>\n",
       "    <tr>\n",
       "      <th>Melinda</th>\n",
       "      <td>0</td>\n",
       "      <td>10</td>\n",
       "    </tr>\n",
       "    <tr>\n",
       "      <th>Roberta</th>\n",
       "      <td>5</td>\n",
       "      <td>0</td>\n",
       "    </tr>\n",
       "    <tr>\n",
       "      <th>Samantha</th>\n",
       "      <td>5</td>\n",
       "      <td>0</td>\n",
       "    </tr>\n",
       "  </tbody>\n",
       "</table>\n",
       "</div>"
      ],
      "text/plain": [
       "          Coffee  Tea\n",
       "Name                 \n",
       "Brenda         3    4\n",
       "Melinda        0   10\n",
       "Roberta        5    0\n",
       "Samantha       5    0"
      ]
     },
     "execution_count": 112,
     "metadata": {},
     "output_type": "execute_result"
    }
   ],
   "source": [
    "beverages.groupby([\"Name\"]).sum()\n"
   ]
  },
  {
   "cell_type": "code",
   "execution_count": 113,
   "id": "1991902f-f2a2-41bd-95b9-65b54432ef72",
   "metadata": {},
   "outputs": [
    {
     "data": {
      "text/html": [
       "<div>\n",
       "<style scoped>\n",
       "    .dataframe tbody tr th:only-of-type {\n",
       "        vertical-align: middle;\n",
       "    }\n",
       "\n",
       "    .dataframe tbody tr th {\n",
       "        vertical-align: top;\n",
       "    }\n",
       "\n",
       "    .dataframe thead th {\n",
       "        text-align: right;\n",
       "    }\n",
       "</style>\n",
       "<table border=\"1\" class=\"dataframe\">\n",
       "  <thead>\n",
       "    <tr style=\"text-align: right;\">\n",
       "      <th></th>\n",
       "      <th>Coffee</th>\n",
       "      <th>Tea</th>\n",
       "    </tr>\n",
       "    <tr>\n",
       "      <th>Name</th>\n",
       "      <th></th>\n",
       "      <th></th>\n",
       "    </tr>\n",
       "  </thead>\n",
       "  <tbody>\n",
       "    <tr>\n",
       "      <th>Brenda</th>\n",
       "      <td>1.5</td>\n",
       "      <td>2.000000</td>\n",
       "    </tr>\n",
       "    <tr>\n",
       "      <th>Melinda</th>\n",
       "      <td>0.0</td>\n",
       "      <td>3.333333</td>\n",
       "    </tr>\n",
       "    <tr>\n",
       "      <th>Roberta</th>\n",
       "      <td>2.5</td>\n",
       "      <td>0.000000</td>\n",
       "    </tr>\n",
       "    <tr>\n",
       "      <th>Samantha</th>\n",
       "      <td>2.5</td>\n",
       "      <td>0.000000</td>\n",
       "    </tr>\n",
       "  </tbody>\n",
       "</table>\n",
       "</div>"
      ],
      "text/plain": [
       "          Coffee       Tea\n",
       "Name                      \n",
       "Brenda       1.5  2.000000\n",
       "Melinda      0.0  3.333333\n",
       "Roberta      2.5  0.000000\n",
       "Samantha     2.5  0.000000"
      ]
     },
     "execution_count": 113,
     "metadata": {},
     "output_type": "execute_result"
    }
   ],
   "source": [
    "beverages.groupby([\"Name\"]).mean()\n"
   ]
  },
  {
   "cell_type": "code",
   "execution_count": 115,
   "id": "07e411fb-2900-4467-9a36-deb2ec4918d6",
   "metadata": {},
   "outputs": [
    {
     "data": {
      "text/html": [
       "<div>\n",
       "<style scoped>\n",
       "    .dataframe tbody tr th:only-of-type {\n",
       "        vertical-align: middle;\n",
       "    }\n",
       "\n",
       "    .dataframe tbody tr th {\n",
       "        vertical-align: top;\n",
       "    }\n",
       "\n",
       "    .dataframe thead th {\n",
       "        text-align: right;\n",
       "    }\n",
       "</style>\n",
       "<table border=\"1\" class=\"dataframe\">\n",
       "  <thead>\n",
       "    <tr style=\"text-align: right;\">\n",
       "      <th></th>\n",
       "      <th>products</th>\n",
       "      <th>colours</th>\n",
       "      <th>customer_price</th>\n",
       "      <th>non_customer_price</th>\n",
       "    </tr>\n",
       "  </thead>\n",
       "  <tbody>\n",
       "    <tr>\n",
       "      <th>0</th>\n",
       "      <td>Oppilume</td>\n",
       "      <td>blue</td>\n",
       "      <td>2345.89</td>\n",
       "      <td>2445.89</td>\n",
       "    </tr>\n",
       "    <tr>\n",
       "      <th>1</th>\n",
       "      <td>Dreaker</td>\n",
       "      <td>blue</td>\n",
       "      <td>2390.50</td>\n",
       "      <td>2495.50</td>\n",
       "    </tr>\n",
       "    <tr>\n",
       "      <th>2</th>\n",
       "      <td>Lotadilo</td>\n",
       "      <td>blue</td>\n",
       "      <td>1820.00</td>\n",
       "      <td>1980.00</td>\n",
       "    </tr>\n",
       "    <tr>\n",
       "      <th>3</th>\n",
       "      <td>Crosteron</td>\n",
       "      <td>green</td>\n",
       "      <td>3100.00</td>\n",
       "      <td>3400.00</td>\n",
       "    </tr>\n",
       "    <tr>\n",
       "      <th>4</th>\n",
       "      <td>Wazzasoft</td>\n",
       "      <td>blue</td>\n",
       "      <td>1784.50</td>\n",
       "      <td>1921.00</td>\n",
       "    </tr>\n",
       "    <tr>\n",
       "      <th>5</th>\n",
       "      <td>Oppilume</td>\n",
       "      <td>green</td>\n",
       "      <td>2545.89</td>\n",
       "      <td>2645.89</td>\n",
       "    </tr>\n",
       "    <tr>\n",
       "      <th>6</th>\n",
       "      <td>Dreaker</td>\n",
       "      <td>green</td>\n",
       "      <td>2590.50</td>\n",
       "      <td>2655.50</td>\n",
       "    </tr>\n",
       "    <tr>\n",
       "      <th>7</th>\n",
       "      <td>Lotadilo</td>\n",
       "      <td>green</td>\n",
       "      <td>2220.00</td>\n",
       "      <td>2140.00</td>\n",
       "    </tr>\n",
       "    <tr>\n",
       "      <th>8</th>\n",
       "      <td>Wazzasoft</td>\n",
       "      <td>red</td>\n",
       "      <td>2084.50</td>\n",
       "      <td>2190.00</td>\n",
       "    </tr>\n",
       "  </tbody>\n",
       "</table>\n",
       "</div>"
      ],
      "text/plain": [
       "    products colours  customer_price  non_customer_price\n",
       "0   Oppilume    blue         2345.89             2445.89\n",
       "1    Dreaker    blue         2390.50             2495.50\n",
       "2   Lotadilo    blue         1820.00             1980.00\n",
       "3  Crosteron   green         3100.00             3400.00\n",
       "4  Wazzasoft    blue         1784.50             1921.00\n",
       "5   Oppilume   green         2545.89             2645.89\n",
       "6    Dreaker   green         2590.50             2655.50\n",
       "7   Lotadilo   green         2220.00             2140.00\n",
       "8  Wazzasoft     red         2084.50             2190.00"
      ]
     },
     "execution_count": 115,
     "metadata": {},
     "output_type": "execute_result"
    }
   ],
   "source": [
    "import pandas as pd \n",
    "d = {\"products\": [\"Oppilume\", \"Dreaker\", \"Lotadilo\", \"Crosteron\", \"Wazzasoft\", \"Oppilume\", \"Dreaker\", \"Lotadilo\", \"Wazzasoft\"], \n",
    "     \"colours\": [\"blue\", \"blue\", \"blue\", \"green\", \"blue\", \"green\", \"green\", \"green\", \"red\"], \"customer_price\": \n",
    "     [2345.89, 2390.50, 1820.00, 3100.00, 1784.50, 2545.89, 2590.50, 2220.00, 2084.50], \"non_customer_price\": \n",
    "     [2445.89, 2495.50, 1980.00, 3400.00, 1921.00, 2645.89,2655.50, 2140.00, 2190.00]} \n",
    "product_prices = pd.DataFrame(d) \n",
    "product_prices\n",
    "\n"
   ]
  },
  {
   "cell_type": "code",
   "execution_count": 122,
   "id": "62ac66eb-0cb8-45d8-b1ec-7753b970f784",
   "metadata": {
    "collapsed": true,
    "jupyter": {
     "outputs_hidden": true
    },
    "scrolled": true
   },
   "outputs": [
    {
     "ename": "TypeError",
     "evalue": "agg function failed [how->mean,dtype->object]",
     "output_type": "error",
     "traceback": [
      "\u001b[1;31m---------------------------------------------------------------------------\u001b[0m",
      "\u001b[1;31mTypeError\u001b[0m                                 Traceback (most recent call last)",
      "File \u001b[1;32m~\\AppData\\Roaming\\Python\\Python312\\site-packages\\pandas\\core\\groupby\\groupby.py:1942\u001b[0m, in \u001b[0;36mGroupBy._agg_py_fallback\u001b[1;34m(self, how, values, ndim, alt)\u001b[0m\n\u001b[0;32m   1941\u001b[0m \u001b[38;5;28;01mtry\u001b[39;00m:\n\u001b[1;32m-> 1942\u001b[0m     res_values \u001b[38;5;241m=\u001b[39m \u001b[38;5;28;43mself\u001b[39;49m\u001b[38;5;241;43m.\u001b[39;49m\u001b[43m_grouper\u001b[49m\u001b[38;5;241;43m.\u001b[39;49m\u001b[43magg_series\u001b[49m\u001b[43m(\u001b[49m\u001b[43mser\u001b[49m\u001b[43m,\u001b[49m\u001b[43m \u001b[49m\u001b[43malt\u001b[49m\u001b[43m,\u001b[49m\u001b[43m \u001b[49m\u001b[43mpreserve_dtype\u001b[49m\u001b[38;5;241;43m=\u001b[39;49m\u001b[38;5;28;43;01mTrue\u001b[39;49;00m\u001b[43m)\u001b[49m\n\u001b[0;32m   1943\u001b[0m \u001b[38;5;28;01mexcept\u001b[39;00m \u001b[38;5;167;01mException\u001b[39;00m \u001b[38;5;28;01mas\u001b[39;00m err:\n",
      "File \u001b[1;32m~\\AppData\\Roaming\\Python\\Python312\\site-packages\\pandas\\core\\groupby\\ops.py:864\u001b[0m, in \u001b[0;36mBaseGrouper.agg_series\u001b[1;34m(self, obj, func, preserve_dtype)\u001b[0m\n\u001b[0;32m    862\u001b[0m     preserve_dtype \u001b[38;5;241m=\u001b[39m \u001b[38;5;28;01mTrue\u001b[39;00m\n\u001b[1;32m--> 864\u001b[0m result \u001b[38;5;241m=\u001b[39m \u001b[38;5;28;43mself\u001b[39;49m\u001b[38;5;241;43m.\u001b[39;49m\u001b[43m_aggregate_series_pure_python\u001b[49m\u001b[43m(\u001b[49m\u001b[43mobj\u001b[49m\u001b[43m,\u001b[49m\u001b[43m \u001b[49m\u001b[43mfunc\u001b[49m\u001b[43m)\u001b[49m\n\u001b[0;32m    866\u001b[0m npvalues \u001b[38;5;241m=\u001b[39m lib\u001b[38;5;241m.\u001b[39mmaybe_convert_objects(result, try_float\u001b[38;5;241m=\u001b[39m\u001b[38;5;28;01mFalse\u001b[39;00m)\n",
      "File \u001b[1;32m~\\AppData\\Roaming\\Python\\Python312\\site-packages\\pandas\\core\\groupby\\ops.py:885\u001b[0m, in \u001b[0;36mBaseGrouper._aggregate_series_pure_python\u001b[1;34m(self, obj, func)\u001b[0m\n\u001b[0;32m    884\u001b[0m \u001b[38;5;28;01mfor\u001b[39;00m i, group \u001b[38;5;129;01min\u001b[39;00m \u001b[38;5;28menumerate\u001b[39m(splitter):\n\u001b[1;32m--> 885\u001b[0m     res \u001b[38;5;241m=\u001b[39m \u001b[43mfunc\u001b[49m\u001b[43m(\u001b[49m\u001b[43mgroup\u001b[49m\u001b[43m)\u001b[49m\n\u001b[0;32m    886\u001b[0m     res \u001b[38;5;241m=\u001b[39m extract_result(res)\n",
      "File \u001b[1;32m~\\AppData\\Roaming\\Python\\Python312\\site-packages\\pandas\\core\\groupby\\groupby.py:2454\u001b[0m, in \u001b[0;36mGroupBy.mean.<locals>.<lambda>\u001b[1;34m(x)\u001b[0m\n\u001b[0;32m   2451\u001b[0m \u001b[38;5;28;01melse\u001b[39;00m:\n\u001b[0;32m   2452\u001b[0m     result \u001b[38;5;241m=\u001b[39m \u001b[38;5;28mself\u001b[39m\u001b[38;5;241m.\u001b[39m_cython_agg_general(\n\u001b[0;32m   2453\u001b[0m         \u001b[38;5;124m\"\u001b[39m\u001b[38;5;124mmean\u001b[39m\u001b[38;5;124m\"\u001b[39m,\n\u001b[1;32m-> 2454\u001b[0m         alt\u001b[38;5;241m=\u001b[39m\u001b[38;5;28;01mlambda\u001b[39;00m x: \u001b[43mSeries\u001b[49m\u001b[43m(\u001b[49m\u001b[43mx\u001b[49m\u001b[43m,\u001b[49m\u001b[43m \u001b[49m\u001b[43mcopy\u001b[49m\u001b[38;5;241;43m=\u001b[39;49m\u001b[38;5;28;43;01mFalse\u001b[39;49;00m\u001b[43m)\u001b[49m\u001b[38;5;241;43m.\u001b[39;49m\u001b[43mmean\u001b[49m\u001b[43m(\u001b[49m\u001b[43mnumeric_only\u001b[49m\u001b[38;5;241;43m=\u001b[39;49m\u001b[43mnumeric_only\u001b[49m\u001b[43m)\u001b[49m,\n\u001b[0;32m   2455\u001b[0m         numeric_only\u001b[38;5;241m=\u001b[39mnumeric_only,\n\u001b[0;32m   2456\u001b[0m     )\n\u001b[0;32m   2457\u001b[0m     \u001b[38;5;28;01mreturn\u001b[39;00m result\u001b[38;5;241m.\u001b[39m__finalize__(\u001b[38;5;28mself\u001b[39m\u001b[38;5;241m.\u001b[39mobj, method\u001b[38;5;241m=\u001b[39m\u001b[38;5;124m\"\u001b[39m\u001b[38;5;124mgroupby\u001b[39m\u001b[38;5;124m\"\u001b[39m)\n",
      "File \u001b[1;32m~\\AppData\\Roaming\\Python\\Python312\\site-packages\\pandas\\core\\series.py:6549\u001b[0m, in \u001b[0;36mSeries.mean\u001b[1;34m(self, axis, skipna, numeric_only, **kwargs)\u001b[0m\n\u001b[0;32m   6541\u001b[0m \u001b[38;5;129m@doc\u001b[39m(make_doc(\u001b[38;5;124m\"\u001b[39m\u001b[38;5;124mmean\u001b[39m\u001b[38;5;124m\"\u001b[39m, ndim\u001b[38;5;241m=\u001b[39m\u001b[38;5;241m1\u001b[39m))\n\u001b[0;32m   6542\u001b[0m \u001b[38;5;28;01mdef\u001b[39;00m \u001b[38;5;21mmean\u001b[39m(\n\u001b[0;32m   6543\u001b[0m     \u001b[38;5;28mself\u001b[39m,\n\u001b[1;32m   (...)\u001b[0m\n\u001b[0;32m   6547\u001b[0m     \u001b[38;5;241m*\u001b[39m\u001b[38;5;241m*\u001b[39mkwargs,\n\u001b[0;32m   6548\u001b[0m ):\n\u001b[1;32m-> 6549\u001b[0m     \u001b[38;5;28;01mreturn\u001b[39;00m \u001b[43mNDFrame\u001b[49m\u001b[38;5;241;43m.\u001b[39;49m\u001b[43mmean\u001b[49m\u001b[43m(\u001b[49m\u001b[38;5;28;43mself\u001b[39;49m\u001b[43m,\u001b[49m\u001b[43m \u001b[49m\u001b[43maxis\u001b[49m\u001b[43m,\u001b[49m\u001b[43m \u001b[49m\u001b[43mskipna\u001b[49m\u001b[43m,\u001b[49m\u001b[43m \u001b[49m\u001b[43mnumeric_only\u001b[49m\u001b[43m,\u001b[49m\u001b[43m \u001b[49m\u001b[38;5;241;43m*\u001b[39;49m\u001b[38;5;241;43m*\u001b[39;49m\u001b[43mkwargs\u001b[49m\u001b[43m)\u001b[49m\n",
      "File \u001b[1;32m~\\AppData\\Roaming\\Python\\Python312\\site-packages\\pandas\\core\\generic.py:12420\u001b[0m, in \u001b[0;36mNDFrame.mean\u001b[1;34m(self, axis, skipna, numeric_only, **kwargs)\u001b[0m\n\u001b[0;32m  12413\u001b[0m \u001b[38;5;28;01mdef\u001b[39;00m \u001b[38;5;21mmean\u001b[39m(\n\u001b[0;32m  12414\u001b[0m     \u001b[38;5;28mself\u001b[39m,\n\u001b[0;32m  12415\u001b[0m     axis: Axis \u001b[38;5;241m|\u001b[39m \u001b[38;5;28;01mNone\u001b[39;00m \u001b[38;5;241m=\u001b[39m \u001b[38;5;241m0\u001b[39m,\n\u001b[1;32m   (...)\u001b[0m\n\u001b[0;32m  12418\u001b[0m     \u001b[38;5;241m*\u001b[39m\u001b[38;5;241m*\u001b[39mkwargs,\n\u001b[0;32m  12419\u001b[0m ) \u001b[38;5;241m-\u001b[39m\u001b[38;5;241m>\u001b[39m Series \u001b[38;5;241m|\u001b[39m \u001b[38;5;28mfloat\u001b[39m:\n\u001b[1;32m> 12420\u001b[0m     \u001b[38;5;28;01mreturn\u001b[39;00m \u001b[38;5;28;43mself\u001b[39;49m\u001b[38;5;241;43m.\u001b[39;49m\u001b[43m_stat_function\u001b[49m\u001b[43m(\u001b[49m\n\u001b[0;32m  12421\u001b[0m \u001b[43m        \u001b[49m\u001b[38;5;124;43m\"\u001b[39;49m\u001b[38;5;124;43mmean\u001b[39;49m\u001b[38;5;124;43m\"\u001b[39;49m\u001b[43m,\u001b[49m\u001b[43m \u001b[49m\u001b[43mnanops\u001b[49m\u001b[38;5;241;43m.\u001b[39;49m\u001b[43mnanmean\u001b[49m\u001b[43m,\u001b[49m\u001b[43m \u001b[49m\u001b[43maxis\u001b[49m\u001b[43m,\u001b[49m\u001b[43m \u001b[49m\u001b[43mskipna\u001b[49m\u001b[43m,\u001b[49m\u001b[43m \u001b[49m\u001b[43mnumeric_only\u001b[49m\u001b[43m,\u001b[49m\u001b[43m \u001b[49m\u001b[38;5;241;43m*\u001b[39;49m\u001b[38;5;241;43m*\u001b[39;49m\u001b[43mkwargs\u001b[49m\n\u001b[0;32m  12422\u001b[0m \u001b[43m    \u001b[49m\u001b[43m)\u001b[49m\n",
      "File \u001b[1;32m~\\AppData\\Roaming\\Python\\Python312\\site-packages\\pandas\\core\\generic.py:12377\u001b[0m, in \u001b[0;36mNDFrame._stat_function\u001b[1;34m(self, name, func, axis, skipna, numeric_only, **kwargs)\u001b[0m\n\u001b[0;32m  12375\u001b[0m validate_bool_kwarg(skipna, \u001b[38;5;124m\"\u001b[39m\u001b[38;5;124mskipna\u001b[39m\u001b[38;5;124m\"\u001b[39m, none_allowed\u001b[38;5;241m=\u001b[39m\u001b[38;5;28;01mFalse\u001b[39;00m)\n\u001b[1;32m> 12377\u001b[0m \u001b[38;5;28;01mreturn\u001b[39;00m \u001b[38;5;28;43mself\u001b[39;49m\u001b[38;5;241;43m.\u001b[39;49m\u001b[43m_reduce\u001b[49m\u001b[43m(\u001b[49m\n\u001b[0;32m  12378\u001b[0m \u001b[43m    \u001b[49m\u001b[43mfunc\u001b[49m\u001b[43m,\u001b[49m\u001b[43m \u001b[49m\u001b[43mname\u001b[49m\u001b[38;5;241;43m=\u001b[39;49m\u001b[43mname\u001b[49m\u001b[43m,\u001b[49m\u001b[43m \u001b[49m\u001b[43maxis\u001b[49m\u001b[38;5;241;43m=\u001b[39;49m\u001b[43maxis\u001b[49m\u001b[43m,\u001b[49m\u001b[43m \u001b[49m\u001b[43mskipna\u001b[49m\u001b[38;5;241;43m=\u001b[39;49m\u001b[43mskipna\u001b[49m\u001b[43m,\u001b[49m\u001b[43m \u001b[49m\u001b[43mnumeric_only\u001b[49m\u001b[38;5;241;43m=\u001b[39;49m\u001b[43mnumeric_only\u001b[49m\n\u001b[0;32m  12379\u001b[0m \u001b[43m\u001b[49m\u001b[43m)\u001b[49m\n",
      "File \u001b[1;32m~\\AppData\\Roaming\\Python\\Python312\\site-packages\\pandas\\core\\series.py:6457\u001b[0m, in \u001b[0;36mSeries._reduce\u001b[1;34m(self, op, name, axis, skipna, numeric_only, filter_type, **kwds)\u001b[0m\n\u001b[0;32m   6453\u001b[0m     \u001b[38;5;28;01mraise\u001b[39;00m \u001b[38;5;167;01mTypeError\u001b[39;00m(\n\u001b[0;32m   6454\u001b[0m         \u001b[38;5;124mf\u001b[39m\u001b[38;5;124m\"\u001b[39m\u001b[38;5;124mSeries.\u001b[39m\u001b[38;5;132;01m{\u001b[39;00mname\u001b[38;5;132;01m}\u001b[39;00m\u001b[38;5;124m does not allow \u001b[39m\u001b[38;5;132;01m{\u001b[39;00mkwd_name\u001b[38;5;132;01m}\u001b[39;00m\u001b[38;5;124m=\u001b[39m\u001b[38;5;132;01m{\u001b[39;00mnumeric_only\u001b[38;5;132;01m}\u001b[39;00m\u001b[38;5;124m \u001b[39m\u001b[38;5;124m\"\u001b[39m\n\u001b[0;32m   6455\u001b[0m         \u001b[38;5;124m\"\u001b[39m\u001b[38;5;124mwith non-numeric dtypes.\u001b[39m\u001b[38;5;124m\"\u001b[39m\n\u001b[0;32m   6456\u001b[0m     )\n\u001b[1;32m-> 6457\u001b[0m \u001b[38;5;28;01mreturn\u001b[39;00m \u001b[43mop\u001b[49m\u001b[43m(\u001b[49m\u001b[43mdelegate\u001b[49m\u001b[43m,\u001b[49m\u001b[43m \u001b[49m\u001b[43mskipna\u001b[49m\u001b[38;5;241;43m=\u001b[39;49m\u001b[43mskipna\u001b[49m\u001b[43m,\u001b[49m\u001b[43m \u001b[49m\u001b[38;5;241;43m*\u001b[39;49m\u001b[38;5;241;43m*\u001b[39;49m\u001b[43mkwds\u001b[49m\u001b[43m)\u001b[49m\n",
      "File \u001b[1;32m~\\AppData\\Roaming\\Python\\Python312\\site-packages\\pandas\\core\\nanops.py:147\u001b[0m, in \u001b[0;36mbottleneck_switch.__call__.<locals>.f\u001b[1;34m(values, axis, skipna, **kwds)\u001b[0m\n\u001b[0;32m    146\u001b[0m \u001b[38;5;28;01melse\u001b[39;00m:\n\u001b[1;32m--> 147\u001b[0m     result \u001b[38;5;241m=\u001b[39m \u001b[43malt\u001b[49m\u001b[43m(\u001b[49m\u001b[43mvalues\u001b[49m\u001b[43m,\u001b[49m\u001b[43m \u001b[49m\u001b[43maxis\u001b[49m\u001b[38;5;241;43m=\u001b[39;49m\u001b[43maxis\u001b[49m\u001b[43m,\u001b[49m\u001b[43m \u001b[49m\u001b[43mskipna\u001b[49m\u001b[38;5;241;43m=\u001b[39;49m\u001b[43mskipna\u001b[49m\u001b[43m,\u001b[49m\u001b[43m \u001b[49m\u001b[38;5;241;43m*\u001b[39;49m\u001b[38;5;241;43m*\u001b[39;49m\u001b[43mkwds\u001b[49m\u001b[43m)\u001b[49m\n\u001b[0;32m    149\u001b[0m \u001b[38;5;28;01mreturn\u001b[39;00m result\n",
      "File \u001b[1;32m~\\AppData\\Roaming\\Python\\Python312\\site-packages\\pandas\\core\\nanops.py:404\u001b[0m, in \u001b[0;36m_datetimelike_compat.<locals>.new_func\u001b[1;34m(values, axis, skipna, mask, **kwargs)\u001b[0m\n\u001b[0;32m    402\u001b[0m     mask \u001b[38;5;241m=\u001b[39m isna(values)\n\u001b[1;32m--> 404\u001b[0m result \u001b[38;5;241m=\u001b[39m \u001b[43mfunc\u001b[49m\u001b[43m(\u001b[49m\u001b[43mvalues\u001b[49m\u001b[43m,\u001b[49m\u001b[43m \u001b[49m\u001b[43maxis\u001b[49m\u001b[38;5;241;43m=\u001b[39;49m\u001b[43maxis\u001b[49m\u001b[43m,\u001b[49m\u001b[43m \u001b[49m\u001b[43mskipna\u001b[49m\u001b[38;5;241;43m=\u001b[39;49m\u001b[43mskipna\u001b[49m\u001b[43m,\u001b[49m\u001b[43m \u001b[49m\u001b[43mmask\u001b[49m\u001b[38;5;241;43m=\u001b[39;49m\u001b[43mmask\u001b[49m\u001b[43m,\u001b[49m\u001b[43m \u001b[49m\u001b[38;5;241;43m*\u001b[39;49m\u001b[38;5;241;43m*\u001b[39;49m\u001b[43mkwargs\u001b[49m\u001b[43m)\u001b[49m\n\u001b[0;32m    406\u001b[0m \u001b[38;5;28;01mif\u001b[39;00m datetimelike:\n",
      "File \u001b[1;32m~\\AppData\\Roaming\\Python\\Python312\\site-packages\\pandas\\core\\nanops.py:720\u001b[0m, in \u001b[0;36mnanmean\u001b[1;34m(values, axis, skipna, mask)\u001b[0m\n\u001b[0;32m    719\u001b[0m the_sum \u001b[38;5;241m=\u001b[39m values\u001b[38;5;241m.\u001b[39msum(axis, dtype\u001b[38;5;241m=\u001b[39mdtype_sum)\n\u001b[1;32m--> 720\u001b[0m the_sum \u001b[38;5;241m=\u001b[39m \u001b[43m_ensure_numeric\u001b[49m\u001b[43m(\u001b[49m\u001b[43mthe_sum\u001b[49m\u001b[43m)\u001b[49m\n\u001b[0;32m    722\u001b[0m \u001b[38;5;28;01mif\u001b[39;00m axis \u001b[38;5;129;01mis\u001b[39;00m \u001b[38;5;129;01mnot\u001b[39;00m \u001b[38;5;28;01mNone\u001b[39;00m \u001b[38;5;129;01mand\u001b[39;00m \u001b[38;5;28mgetattr\u001b[39m(the_sum, \u001b[38;5;124m\"\u001b[39m\u001b[38;5;124mndim\u001b[39m\u001b[38;5;124m\"\u001b[39m, \u001b[38;5;28;01mFalse\u001b[39;00m):\n",
      "File \u001b[1;32m~\\AppData\\Roaming\\Python\\Python312\\site-packages\\pandas\\core\\nanops.py:1701\u001b[0m, in \u001b[0;36m_ensure_numeric\u001b[1;34m(x)\u001b[0m\n\u001b[0;32m   1699\u001b[0m \u001b[38;5;28;01mif\u001b[39;00m \u001b[38;5;28misinstance\u001b[39m(x, \u001b[38;5;28mstr\u001b[39m):\n\u001b[0;32m   1700\u001b[0m     \u001b[38;5;66;03m# GH#44008, GH#36703 avoid casting e.g. strings to numeric\u001b[39;00m\n\u001b[1;32m-> 1701\u001b[0m     \u001b[38;5;28;01mraise\u001b[39;00m \u001b[38;5;167;01mTypeError\u001b[39;00m(\u001b[38;5;124mf\u001b[39m\u001b[38;5;124m\"\u001b[39m\u001b[38;5;124mCould not convert string \u001b[39m\u001b[38;5;124m'\u001b[39m\u001b[38;5;132;01m{\u001b[39;00mx\u001b[38;5;132;01m}\u001b[39;00m\u001b[38;5;124m'\u001b[39m\u001b[38;5;124m to numeric\u001b[39m\u001b[38;5;124m\"\u001b[39m)\n\u001b[0;32m   1702\u001b[0m \u001b[38;5;28;01mtry\u001b[39;00m:\n",
      "\u001b[1;31mTypeError\u001b[0m: Could not convert string 'green' to numeric",
      "\nThe above exception was the direct cause of the following exception:\n",
      "\u001b[1;31mTypeError\u001b[0m                                 Traceback (most recent call last)",
      "Cell \u001b[1;32mIn[122], line 2\u001b[0m\n\u001b[0;32m      1\u001b[0m \u001b[38;5;66;03m#Calculate the average prices of the products of the following DataFrame:\u001b[39;00m\n\u001b[1;32m----> 2\u001b[0m \u001b[43mproduct_prices\u001b[49m\u001b[38;5;241;43m.\u001b[39;49m\u001b[43mgroupby\u001b[49m\u001b[43m(\u001b[49m\u001b[38;5;124;43m\"\u001b[39;49m\u001b[38;5;124;43mproducts\u001b[39;49m\u001b[38;5;124;43m\"\u001b[39;49m\u001b[43m)\u001b[49m\u001b[38;5;241;43m.\u001b[39;49m\u001b[43mmean\u001b[49m\u001b[43m(\u001b[49m\u001b[43m)\u001b[49m \n",
      "File \u001b[1;32m~\\AppData\\Roaming\\Python\\Python312\\site-packages\\pandas\\core\\groupby\\groupby.py:2452\u001b[0m, in \u001b[0;36mGroupBy.mean\u001b[1;34m(self, numeric_only, engine, engine_kwargs)\u001b[0m\n\u001b[0;32m   2445\u001b[0m     \u001b[38;5;28;01mreturn\u001b[39;00m \u001b[38;5;28mself\u001b[39m\u001b[38;5;241m.\u001b[39m_numba_agg_general(\n\u001b[0;32m   2446\u001b[0m         grouped_mean,\n\u001b[0;32m   2447\u001b[0m         executor\u001b[38;5;241m.\u001b[39mfloat_dtype_mapping,\n\u001b[0;32m   2448\u001b[0m         engine_kwargs,\n\u001b[0;32m   2449\u001b[0m         min_periods\u001b[38;5;241m=\u001b[39m\u001b[38;5;241m0\u001b[39m,\n\u001b[0;32m   2450\u001b[0m     )\n\u001b[0;32m   2451\u001b[0m \u001b[38;5;28;01melse\u001b[39;00m:\n\u001b[1;32m-> 2452\u001b[0m     result \u001b[38;5;241m=\u001b[39m \u001b[38;5;28;43mself\u001b[39;49m\u001b[38;5;241;43m.\u001b[39;49m\u001b[43m_cython_agg_general\u001b[49m\u001b[43m(\u001b[49m\n\u001b[0;32m   2453\u001b[0m \u001b[43m        \u001b[49m\u001b[38;5;124;43m\"\u001b[39;49m\u001b[38;5;124;43mmean\u001b[39;49m\u001b[38;5;124;43m\"\u001b[39;49m\u001b[43m,\u001b[49m\n\u001b[0;32m   2454\u001b[0m \u001b[43m        \u001b[49m\u001b[43malt\u001b[49m\u001b[38;5;241;43m=\u001b[39;49m\u001b[38;5;28;43;01mlambda\u001b[39;49;00m\u001b[43m \u001b[49m\u001b[43mx\u001b[49m\u001b[43m:\u001b[49m\u001b[43m \u001b[49m\u001b[43mSeries\u001b[49m\u001b[43m(\u001b[49m\u001b[43mx\u001b[49m\u001b[43m,\u001b[49m\u001b[43m \u001b[49m\u001b[43mcopy\u001b[49m\u001b[38;5;241;43m=\u001b[39;49m\u001b[38;5;28;43;01mFalse\u001b[39;49;00m\u001b[43m)\u001b[49m\u001b[38;5;241;43m.\u001b[39;49m\u001b[43mmean\u001b[49m\u001b[43m(\u001b[49m\u001b[43mnumeric_only\u001b[49m\u001b[38;5;241;43m=\u001b[39;49m\u001b[43mnumeric_only\u001b[49m\u001b[43m)\u001b[49m\u001b[43m,\u001b[49m\n\u001b[0;32m   2455\u001b[0m \u001b[43m        \u001b[49m\u001b[43mnumeric_only\u001b[49m\u001b[38;5;241;43m=\u001b[39;49m\u001b[43mnumeric_only\u001b[49m\u001b[43m,\u001b[49m\n\u001b[0;32m   2456\u001b[0m \u001b[43m    \u001b[49m\u001b[43m)\u001b[49m\n\u001b[0;32m   2457\u001b[0m     \u001b[38;5;28;01mreturn\u001b[39;00m result\u001b[38;5;241m.\u001b[39m__finalize__(\u001b[38;5;28mself\u001b[39m\u001b[38;5;241m.\u001b[39mobj, method\u001b[38;5;241m=\u001b[39m\u001b[38;5;124m\"\u001b[39m\u001b[38;5;124mgroupby\u001b[39m\u001b[38;5;124m\"\u001b[39m)\n",
      "File \u001b[1;32m~\\AppData\\Roaming\\Python\\Python312\\site-packages\\pandas\\core\\groupby\\groupby.py:1998\u001b[0m, in \u001b[0;36mGroupBy._cython_agg_general\u001b[1;34m(self, how, alt, numeric_only, min_count, **kwargs)\u001b[0m\n\u001b[0;32m   1995\u001b[0m     result \u001b[38;5;241m=\u001b[39m \u001b[38;5;28mself\u001b[39m\u001b[38;5;241m.\u001b[39m_agg_py_fallback(how, values, ndim\u001b[38;5;241m=\u001b[39mdata\u001b[38;5;241m.\u001b[39mndim, alt\u001b[38;5;241m=\u001b[39malt)\n\u001b[0;32m   1996\u001b[0m     \u001b[38;5;28;01mreturn\u001b[39;00m result\n\u001b[1;32m-> 1998\u001b[0m new_mgr \u001b[38;5;241m=\u001b[39m \u001b[43mdata\u001b[49m\u001b[38;5;241;43m.\u001b[39;49m\u001b[43mgrouped_reduce\u001b[49m\u001b[43m(\u001b[49m\u001b[43marray_func\u001b[49m\u001b[43m)\u001b[49m\n\u001b[0;32m   1999\u001b[0m res \u001b[38;5;241m=\u001b[39m \u001b[38;5;28mself\u001b[39m\u001b[38;5;241m.\u001b[39m_wrap_agged_manager(new_mgr)\n\u001b[0;32m   2000\u001b[0m \u001b[38;5;28;01mif\u001b[39;00m how \u001b[38;5;129;01min\u001b[39;00m [\u001b[38;5;124m\"\u001b[39m\u001b[38;5;124midxmin\u001b[39m\u001b[38;5;124m\"\u001b[39m, \u001b[38;5;124m\"\u001b[39m\u001b[38;5;124midxmax\u001b[39m\u001b[38;5;124m\"\u001b[39m]:\n",
      "File \u001b[1;32m~\\AppData\\Roaming\\Python\\Python312\\site-packages\\pandas\\core\\internals\\managers.py:1469\u001b[0m, in \u001b[0;36mBlockManager.grouped_reduce\u001b[1;34m(self, func)\u001b[0m\n\u001b[0;32m   1465\u001b[0m \u001b[38;5;28;01mif\u001b[39;00m blk\u001b[38;5;241m.\u001b[39mis_object:\n\u001b[0;32m   1466\u001b[0m     \u001b[38;5;66;03m# split on object-dtype blocks bc some columns may raise\u001b[39;00m\n\u001b[0;32m   1467\u001b[0m     \u001b[38;5;66;03m#  while others do not.\u001b[39;00m\n\u001b[0;32m   1468\u001b[0m     \u001b[38;5;28;01mfor\u001b[39;00m sb \u001b[38;5;129;01min\u001b[39;00m blk\u001b[38;5;241m.\u001b[39m_split():\n\u001b[1;32m-> 1469\u001b[0m         applied \u001b[38;5;241m=\u001b[39m \u001b[43msb\u001b[49m\u001b[38;5;241;43m.\u001b[39;49m\u001b[43mapply\u001b[49m\u001b[43m(\u001b[49m\u001b[43mfunc\u001b[49m\u001b[43m)\u001b[49m\n\u001b[0;32m   1470\u001b[0m         result_blocks \u001b[38;5;241m=\u001b[39m extend_blocks(applied, result_blocks)\n\u001b[0;32m   1471\u001b[0m \u001b[38;5;28;01melse\u001b[39;00m:\n",
      "File \u001b[1;32m~\\AppData\\Roaming\\Python\\Python312\\site-packages\\pandas\\core\\internals\\blocks.py:393\u001b[0m, in \u001b[0;36mBlock.apply\u001b[1;34m(self, func, **kwargs)\u001b[0m\n\u001b[0;32m    387\u001b[0m \u001b[38;5;129m@final\u001b[39m\n\u001b[0;32m    388\u001b[0m \u001b[38;5;28;01mdef\u001b[39;00m \u001b[38;5;21mapply\u001b[39m(\u001b[38;5;28mself\u001b[39m, func, \u001b[38;5;241m*\u001b[39m\u001b[38;5;241m*\u001b[39mkwargs) \u001b[38;5;241m-\u001b[39m\u001b[38;5;241m>\u001b[39m \u001b[38;5;28mlist\u001b[39m[Block]:\n\u001b[0;32m    389\u001b[0m \u001b[38;5;250m    \u001b[39m\u001b[38;5;124;03m\"\"\"\u001b[39;00m\n\u001b[0;32m    390\u001b[0m \u001b[38;5;124;03m    apply the function to my values; return a block if we are not\u001b[39;00m\n\u001b[0;32m    391\u001b[0m \u001b[38;5;124;03m    one\u001b[39;00m\n\u001b[0;32m    392\u001b[0m \u001b[38;5;124;03m    \"\"\"\u001b[39;00m\n\u001b[1;32m--> 393\u001b[0m     result \u001b[38;5;241m=\u001b[39m \u001b[43mfunc\u001b[49m\u001b[43m(\u001b[49m\u001b[38;5;28;43mself\u001b[39;49m\u001b[38;5;241;43m.\u001b[39;49m\u001b[43mvalues\u001b[49m\u001b[43m,\u001b[49m\u001b[43m \u001b[49m\u001b[38;5;241;43m*\u001b[39;49m\u001b[38;5;241;43m*\u001b[39;49m\u001b[43mkwargs\u001b[49m\u001b[43m)\u001b[49m\n\u001b[0;32m    395\u001b[0m     result \u001b[38;5;241m=\u001b[39m maybe_coerce_values(result)\n\u001b[0;32m    396\u001b[0m     \u001b[38;5;28;01mreturn\u001b[39;00m \u001b[38;5;28mself\u001b[39m\u001b[38;5;241m.\u001b[39m_split_op_result(result)\n",
      "File \u001b[1;32m~\\AppData\\Roaming\\Python\\Python312\\site-packages\\pandas\\core\\groupby\\groupby.py:1995\u001b[0m, in \u001b[0;36mGroupBy._cython_agg_general.<locals>.array_func\u001b[1;34m(values)\u001b[0m\n\u001b[0;32m   1992\u001b[0m     \u001b[38;5;28;01mreturn\u001b[39;00m result\n\u001b[0;32m   1994\u001b[0m \u001b[38;5;28;01massert\u001b[39;00m alt \u001b[38;5;129;01mis\u001b[39;00m \u001b[38;5;129;01mnot\u001b[39;00m \u001b[38;5;28;01mNone\u001b[39;00m\n\u001b[1;32m-> 1995\u001b[0m result \u001b[38;5;241m=\u001b[39m \u001b[38;5;28;43mself\u001b[39;49m\u001b[38;5;241;43m.\u001b[39;49m\u001b[43m_agg_py_fallback\u001b[49m\u001b[43m(\u001b[49m\u001b[43mhow\u001b[49m\u001b[43m,\u001b[49m\u001b[43m \u001b[49m\u001b[43mvalues\u001b[49m\u001b[43m,\u001b[49m\u001b[43m \u001b[49m\u001b[43mndim\u001b[49m\u001b[38;5;241;43m=\u001b[39;49m\u001b[43mdata\u001b[49m\u001b[38;5;241;43m.\u001b[39;49m\u001b[43mndim\u001b[49m\u001b[43m,\u001b[49m\u001b[43m \u001b[49m\u001b[43malt\u001b[49m\u001b[38;5;241;43m=\u001b[39;49m\u001b[43malt\u001b[49m\u001b[43m)\u001b[49m\n\u001b[0;32m   1996\u001b[0m \u001b[38;5;28;01mreturn\u001b[39;00m result\n",
      "File \u001b[1;32m~\\AppData\\Roaming\\Python\\Python312\\site-packages\\pandas\\core\\groupby\\groupby.py:1946\u001b[0m, in \u001b[0;36mGroupBy._agg_py_fallback\u001b[1;34m(self, how, values, ndim, alt)\u001b[0m\n\u001b[0;32m   1944\u001b[0m     msg \u001b[38;5;241m=\u001b[39m \u001b[38;5;124mf\u001b[39m\u001b[38;5;124m\"\u001b[39m\u001b[38;5;124magg function failed [how->\u001b[39m\u001b[38;5;132;01m{\u001b[39;00mhow\u001b[38;5;132;01m}\u001b[39;00m\u001b[38;5;124m,dtype->\u001b[39m\u001b[38;5;132;01m{\u001b[39;00mser\u001b[38;5;241m.\u001b[39mdtype\u001b[38;5;132;01m}\u001b[39;00m\u001b[38;5;124m]\u001b[39m\u001b[38;5;124m\"\u001b[39m\n\u001b[0;32m   1945\u001b[0m     \u001b[38;5;66;03m# preserve the kind of exception that raised\u001b[39;00m\n\u001b[1;32m-> 1946\u001b[0m     \u001b[38;5;28;01mraise\u001b[39;00m \u001b[38;5;28mtype\u001b[39m(err)(msg) \u001b[38;5;28;01mfrom\u001b[39;00m \u001b[38;5;21;01merr\u001b[39;00m\n\u001b[0;32m   1948\u001b[0m \u001b[38;5;28;01mif\u001b[39;00m ser\u001b[38;5;241m.\u001b[39mdtype \u001b[38;5;241m==\u001b[39m \u001b[38;5;28mobject\u001b[39m:\n\u001b[0;32m   1949\u001b[0m     res_values \u001b[38;5;241m=\u001b[39m res_values\u001b[38;5;241m.\u001b[39mastype(\u001b[38;5;28mobject\u001b[39m, copy\u001b[38;5;241m=\u001b[39m\u001b[38;5;28;01mFalse\u001b[39;00m)\n",
      "\u001b[1;31mTypeError\u001b[0m: agg function failed [how->mean,dtype->object]"
     ]
    }
   ],
   "source": [
    "#Calculate the average prices of the products of the following DataFrame:\n",
    "product_prices.groupby(\"products\").mean() "
   ]
  },
  {
   "cell_type": "code",
   "execution_count": 123,
   "id": "783d6ba6-e5d3-4a1e-9db2-ae30bdc657f5",
   "metadata": {},
   "outputs": [
    {
     "data": {
      "text/html": [
       "<div>\n",
       "<style scoped>\n",
       "    .dataframe tbody tr th:only-of-type {\n",
       "        vertical-align: middle;\n",
       "    }\n",
       "\n",
       "    .dataframe tbody tr th {\n",
       "        vertical-align: top;\n",
       "    }\n",
       "\n",
       "    .dataframe thead th {\n",
       "        text-align: right;\n",
       "    }\n",
       "</style>\n",
       "<table border=\"1\" class=\"dataframe\">\n",
       "  <thead>\n",
       "    <tr style=\"text-align: right;\">\n",
       "      <th></th>\n",
       "      <th>products</th>\n",
       "      <th>customer_price</th>\n",
       "      <th>non_customer_price</th>\n",
       "    </tr>\n",
       "    <tr>\n",
       "      <th>colours</th>\n",
       "      <th></th>\n",
       "      <th></th>\n",
       "      <th></th>\n",
       "    </tr>\n",
       "  </thead>\n",
       "  <tbody>\n",
       "    <tr>\n",
       "      <th>blue</th>\n",
       "      <td>OppilumeDreakerLotadiloWazzasoft</td>\n",
       "      <td>8340.89</td>\n",
       "      <td>8842.39</td>\n",
       "    </tr>\n",
       "    <tr>\n",
       "      <th>green</th>\n",
       "      <td>CrosteronOppilumeDreakerLotadilo</td>\n",
       "      <td>10456.39</td>\n",
       "      <td>10841.39</td>\n",
       "    </tr>\n",
       "    <tr>\n",
       "      <th>red</th>\n",
       "      <td>Wazzasoft</td>\n",
       "      <td>2084.50</td>\n",
       "      <td>2190.00</td>\n",
       "    </tr>\n",
       "  </tbody>\n",
       "</table>\n",
       "</div>"
      ],
      "text/plain": [
       "                                 products  customer_price  non_customer_price\n",
       "colours                                                                      \n",
       "blue     OppilumeDreakerLotadiloWazzasoft         8340.89             8842.39\n",
       "green    CrosteronOppilumeDreakerLotadilo        10456.39            10841.39\n",
       "red                             Wazzasoft         2084.50             2190.00"
      ]
     },
     "execution_count": 123,
     "metadata": {},
     "output_type": "execute_result"
    }
   ],
   "source": [
    "product_prices.groupby(\"colours\").sum() "
   ]
  },
  {
   "cell_type": "code",
   "execution_count": 124,
   "id": "d71264cb-c869-4839-bb29-38837752caa8",
   "metadata": {},
   "outputs": [],
   "source": [
    "# if we have an index column and we want to group it by index then we'll use (df.index) inside groupby function."
   ]
  },
  {
   "cell_type": "code",
   "execution_count": 125,
   "id": "a8504516-2b9b-4cf1-b1bf-932c9e858690",
   "metadata": {},
   "outputs": [
    {
     "data": {
      "text/html": [
       "<div>\n",
       "<style scoped>\n",
       "    .dataframe tbody tr th:only-of-type {\n",
       "        vertical-align: middle;\n",
       "    }\n",
       "\n",
       "    .dataframe tbody tr th {\n",
       "        vertical-align: top;\n",
       "    }\n",
       "\n",
       "    .dataframe thead th {\n",
       "        text-align: right;\n",
       "    }\n",
       "</style>\n",
       "<table border=\"1\" class=\"dataframe\">\n",
       "  <thead>\n",
       "    <tr style=\"text-align: right;\">\n",
       "      <th></th>\n",
       "      <th></th>\n",
       "      <th>customer_price</th>\n",
       "      <th>non_customer_price</th>\n",
       "    </tr>\n",
       "    <tr>\n",
       "      <th>colours</th>\n",
       "      <th>products</th>\n",
       "      <th></th>\n",
       "      <th></th>\n",
       "    </tr>\n",
       "  </thead>\n",
       "  <tbody>\n",
       "    <tr>\n",
       "      <th rowspan=\"4\" valign=\"top\">blue</th>\n",
       "      <th>Dreaker</th>\n",
       "      <td>2390.50</td>\n",
       "      <td>2495.50</td>\n",
       "    </tr>\n",
       "    <tr>\n",
       "      <th>Lotadilo</th>\n",
       "      <td>1820.00</td>\n",
       "      <td>1980.00</td>\n",
       "    </tr>\n",
       "    <tr>\n",
       "      <th>Oppilume</th>\n",
       "      <td>2345.89</td>\n",
       "      <td>2445.89</td>\n",
       "    </tr>\n",
       "    <tr>\n",
       "      <th>Wazzasoft</th>\n",
       "      <td>1784.50</td>\n",
       "      <td>1921.00</td>\n",
       "    </tr>\n",
       "    <tr>\n",
       "      <th rowspan=\"4\" valign=\"top\">green</th>\n",
       "      <th>Crosteron</th>\n",
       "      <td>3100.00</td>\n",
       "      <td>3400.00</td>\n",
       "    </tr>\n",
       "    <tr>\n",
       "      <th>Dreaker</th>\n",
       "      <td>2590.50</td>\n",
       "      <td>2655.50</td>\n",
       "    </tr>\n",
       "    <tr>\n",
       "      <th>Lotadilo</th>\n",
       "      <td>2220.00</td>\n",
       "      <td>2140.00</td>\n",
       "    </tr>\n",
       "    <tr>\n",
       "      <th>Oppilume</th>\n",
       "      <td>2545.89</td>\n",
       "      <td>2645.89</td>\n",
       "    </tr>\n",
       "    <tr>\n",
       "      <th>red</th>\n",
       "      <th>Wazzasoft</th>\n",
       "      <td>2084.50</td>\n",
       "      <td>2190.00</td>\n",
       "    </tr>\n",
       "  </tbody>\n",
       "</table>\n",
       "</div>"
      ],
      "text/plain": [
       "                   customer_price  non_customer_price\n",
       "colours products                                     \n",
       "blue    Dreaker           2390.50             2495.50\n",
       "        Lotadilo          1820.00             1980.00\n",
       "        Oppilume          2345.89             2445.89\n",
       "        Wazzasoft         1784.50             1921.00\n",
       "green   Crosteron         3100.00             3400.00\n",
       "        Dreaker           2590.50             2655.50\n",
       "        Lotadilo          2220.00             2140.00\n",
       "        Oppilume          2545.89             2645.89\n",
       "red     Wazzasoft         2084.50             2190.00"
      ]
     },
     "execution_count": 125,
     "metadata": {},
     "output_type": "execute_result"
    }
   ],
   "source": [
    "# we can pass multiple values inside groupby function whoch will be a list.\n",
    "product_prices.groupby([\"colours\",\"products\"]).sum() "
   ]
  },
  {
   "cell_type": "markdown",
   "id": "daa4d353-802a-49ff-9b3d-0206419af50a",
   "metadata": {},
   "source": [
    "# 5. READING AND WRITING DATA\n",
    " it also needs functions which support the most important data formats like \\\n",
    " • Delimiter-separated files, like e.g. csv\\\n",
    " • Microsoft Excel files\\\n",
    " • HTML\\\n",
    " • XML \\\n",
    " • JSON\n"
   ]
  },
  {
   "cell_type": "markdown",
   "id": "09f92ddf-757e-405e-81e3-32f3979478b1",
   "metadata": {},
   "source": [
    "# 5.1 DELIMITER-SEPARATED VALUES \n",
    "Most people take csv files as a synonym for delimterseparated values files. They leave the fact out of account that csv is an acronym for \"comma separated values\", which is not the case in many situations. Pandas also uses \"csv\" and contexts, in which \"dsv\" would be more appropriate. \n",
    " They leave the fact out of account that csv is an acronym for \"comma separated values\", which is not the case in many situations. Pandas also uses \"csv\" and contexts, in which \"dsv\" would be more appropriate. "
   ]
  },
  {
   "cell_type": "markdown",
   "id": "4335a260-702a-48f2-a150-964e77a156ba",
   "metadata": {},
   "source": [
    "# READING CSV AND DSV FILES Pandas\n",
    "offers two ways to read in CSV or DSV files to be precise: \\\n",
    "• DataFrame.from_csv \\\n",
    "• read_csv\\\n",
    "We will focus on read_csv, because DataFrame.from_csv is kept inside Pandas for reasons of backwards compatibility.\n"
   ]
  },
  {
   "cell_type": "code",
   "execution_count": 7,
   "id": "0cfaeee3-c261-4a2e-b2c8-15573dcf38ee",
   "metadata": {},
   "outputs": [
    {
     "data": {
      "text/html": [
       "<div>\n",
       "<style scoped>\n",
       "    .dataframe tbody tr th:only-of-type {\n",
       "        vertical-align: middle;\n",
       "    }\n",
       "\n",
       "    .dataframe tbody tr th {\n",
       "        vertical-align: top;\n",
       "    }\n",
       "\n",
       "    .dataframe thead th {\n",
       "        text-align: right;\n",
       "    }\n",
       "</style>\n",
       "<table border=\"1\" class=\"dataframe\">\n",
       "  <thead>\n",
       "    <tr style=\"text-align: right;\">\n",
       "      <th></th>\n",
       "      <th>course_id</th>\n",
       "      <th>course_title</th>\n",
       "      <th>is_paid</th>\n",
       "      <th>price</th>\n",
       "      <th>num_subscribers</th>\n",
       "      <th>num_reviews</th>\n",
       "      <th>num_lectures</th>\n",
       "      <th>level</th>\n",
       "      <th>content_duration</th>\n",
       "      <th>published_timestamp</th>\n",
       "      <th>subject</th>\n",
       "    </tr>\n",
       "  </thead>\n",
       "  <tbody>\n",
       "    <tr>\n",
       "      <th>0</th>\n",
       "      <td>288942</td>\n",
       "      <td>#1 Piano Hand Coordination: Play 10th Ballad i...</td>\n",
       "      <td>True</td>\n",
       "      <td>35</td>\n",
       "      <td>3137</td>\n",
       "      <td>18</td>\n",
       "      <td>68</td>\n",
       "      <td>All Levels</td>\n",
       "      <td>1.5 hours</td>\n",
       "      <td>2014-09-18T05:07:05Z</td>\n",
       "      <td>Musical Instruments</td>\n",
       "    </tr>\n",
       "    <tr>\n",
       "      <th>1</th>\n",
       "      <td>1170074</td>\n",
       "      <td>#10 Hand Coordination - Transfer Chord Ballad ...</td>\n",
       "      <td>True</td>\n",
       "      <td>75</td>\n",
       "      <td>1593</td>\n",
       "      <td>1</td>\n",
       "      <td>41</td>\n",
       "      <td>Intermediate Level</td>\n",
       "      <td>1 hour</td>\n",
       "      <td>2017-04-12T19:06:34Z</td>\n",
       "      <td>Musical Instruments</td>\n",
       "    </tr>\n",
       "    <tr>\n",
       "      <th>2</th>\n",
       "      <td>1193886</td>\n",
       "      <td>#12 Hand Coordination: Let your Hands dance wi...</td>\n",
       "      <td>True</td>\n",
       "      <td>75</td>\n",
       "      <td>482</td>\n",
       "      <td>1</td>\n",
       "      <td>47</td>\n",
       "      <td>Intermediate Level</td>\n",
       "      <td>1.5 hours</td>\n",
       "      <td>2017-04-26T18:34:57Z</td>\n",
       "      <td>Musical Instruments</td>\n",
       "    </tr>\n",
       "    <tr>\n",
       "      <th>3</th>\n",
       "      <td>1116700</td>\n",
       "      <td>#4 Piano Hand Coordination: Fun Piano Runs in ...</td>\n",
       "      <td>True</td>\n",
       "      <td>75</td>\n",
       "      <td>850</td>\n",
       "      <td>3</td>\n",
       "      <td>43</td>\n",
       "      <td>Intermediate Level</td>\n",
       "      <td>1 hour</td>\n",
       "      <td>2017-02-21T23:48:18Z</td>\n",
       "      <td>Musical Instruments</td>\n",
       "    </tr>\n",
       "    <tr>\n",
       "      <th>4</th>\n",
       "      <td>1120410</td>\n",
       "      <td>#5  Piano Hand Coordination:  Piano Runs in 2 ...</td>\n",
       "      <td>True</td>\n",
       "      <td>75</td>\n",
       "      <td>940</td>\n",
       "      <td>3</td>\n",
       "      <td>32</td>\n",
       "      <td>Intermediate Level</td>\n",
       "      <td>37 mins</td>\n",
       "      <td>2017-02-21T23:44:49Z</td>\n",
       "      <td>Musical Instruments</td>\n",
       "    </tr>\n",
       "  </tbody>\n",
       "</table>\n",
       "</div>"
      ],
      "text/plain": [
       "   course_id                                       course_title  is_paid  \\\n",
       "0     288942  #1 Piano Hand Coordination: Play 10th Ballad i...     True   \n",
       "1    1170074  #10 Hand Coordination - Transfer Chord Ballad ...     True   \n",
       "2    1193886  #12 Hand Coordination: Let your Hands dance wi...     True   \n",
       "3    1116700  #4 Piano Hand Coordination: Fun Piano Runs in ...     True   \n",
       "4    1120410  #5  Piano Hand Coordination:  Piano Runs in 2 ...     True   \n",
       "\n",
       "  price  num_subscribers  num_reviews  num_lectures               level  \\\n",
       "0    35             3137           18            68          All Levels   \n",
       "1    75             1593            1            41  Intermediate Level   \n",
       "2    75              482            1            47  Intermediate Level   \n",
       "3    75              850            3            43  Intermediate Level   \n",
       "4    75              940            3            32  Intermediate Level   \n",
       "\n",
       "  content_duration   published_timestamp              subject  \n",
       "0        1.5 hours  2014-09-18T05:07:05Z  Musical Instruments  \n",
       "1           1 hour  2017-04-12T19:06:34Z  Musical Instruments  \n",
       "2        1.5 hours  2017-04-26T18:34:57Z  Musical Instruments  \n",
       "3           1 hour  2017-02-21T23:48:18Z  Musical Instruments  \n",
       "4          37 mins  2017-02-21T23:44:49Z  Musical Instruments  "
      ]
     },
     "execution_count": 7,
     "metadata": {},
     "output_type": "execute_result"
    }
   ],
   "source": [
    "import pandas as pd \n",
    "example = pd.read_csv(r\"C:\\Users\\Education\\Downloads\\project_7_python_data.csv\") \n",
    "example.head()\n"
   ]
  },
  {
   "cell_type": "markdown",
   "id": "e9570add-22d6-4769-91f5-20c6a1139ebb",
   "metadata": {},
   "source": [
    "As we can see, read_csv used automatically the first line as the names for the columns. It is possible to give other names to the columns. For this purpose, we have to skip the first line by setting the parameter \"header\" to 0 and we have to assign a list with the column names to the parameter \"names\": "
   ]
  },
  {
   "cell_type": "code",
   "execution_count": 8,
   "id": "20260bb4-f655-4b56-ab8c-e72b8e244d77",
   "metadata": {},
   "outputs": [],
   "source": [
    "example = pd.read_csv(r\"C:\\Users\\Education\\Downloads\\project_7_python_data.csv\",header=0,names=['o','p','q','r','s','t','u','v','w','x','y']) \n"
   ]
  },
  {
   "cell_type": "code",
   "execution_count": 9,
   "id": "afb96f09-2057-42f1-ae94-331f8252e74a",
   "metadata": {},
   "outputs": [
    {
     "data": {
      "text/html": [
       "<div>\n",
       "<style scoped>\n",
       "    .dataframe tbody tr th:only-of-type {\n",
       "        vertical-align: middle;\n",
       "    }\n",
       "\n",
       "    .dataframe tbody tr th {\n",
       "        vertical-align: top;\n",
       "    }\n",
       "\n",
       "    .dataframe thead th {\n",
       "        text-align: right;\n",
       "    }\n",
       "</style>\n",
       "<table border=\"1\" class=\"dataframe\">\n",
       "  <thead>\n",
       "    <tr style=\"text-align: right;\">\n",
       "      <th></th>\n",
       "      <th>o</th>\n",
       "      <th>p</th>\n",
       "      <th>q</th>\n",
       "      <th>r</th>\n",
       "      <th>s</th>\n",
       "      <th>t</th>\n",
       "      <th>u</th>\n",
       "      <th>v</th>\n",
       "      <th>w</th>\n",
       "      <th>x</th>\n",
       "      <th>y</th>\n",
       "    </tr>\n",
       "  </thead>\n",
       "  <tbody>\n",
       "    <tr>\n",
       "      <th>0</th>\n",
       "      <td>288942</td>\n",
       "      <td>#1 Piano Hand Coordination: Play 10th Ballad i...</td>\n",
       "      <td>True</td>\n",
       "      <td>35</td>\n",
       "      <td>3137</td>\n",
       "      <td>18</td>\n",
       "      <td>68</td>\n",
       "      <td>All Levels</td>\n",
       "      <td>1.5 hours</td>\n",
       "      <td>2014-09-18T05:07:05Z</td>\n",
       "      <td>Musical Instruments</td>\n",
       "    </tr>\n",
       "    <tr>\n",
       "      <th>1</th>\n",
       "      <td>1170074</td>\n",
       "      <td>#10 Hand Coordination - Transfer Chord Ballad ...</td>\n",
       "      <td>True</td>\n",
       "      <td>75</td>\n",
       "      <td>1593</td>\n",
       "      <td>1</td>\n",
       "      <td>41</td>\n",
       "      <td>Intermediate Level</td>\n",
       "      <td>1 hour</td>\n",
       "      <td>2017-04-12T19:06:34Z</td>\n",
       "      <td>Musical Instruments</td>\n",
       "    </tr>\n",
       "    <tr>\n",
       "      <th>2</th>\n",
       "      <td>1193886</td>\n",
       "      <td>#12 Hand Coordination: Let your Hands dance wi...</td>\n",
       "      <td>True</td>\n",
       "      <td>75</td>\n",
       "      <td>482</td>\n",
       "      <td>1</td>\n",
       "      <td>47</td>\n",
       "      <td>Intermediate Level</td>\n",
       "      <td>1.5 hours</td>\n",
       "      <td>2017-04-26T18:34:57Z</td>\n",
       "      <td>Musical Instruments</td>\n",
       "    </tr>\n",
       "    <tr>\n",
       "      <th>3</th>\n",
       "      <td>1116700</td>\n",
       "      <td>#4 Piano Hand Coordination: Fun Piano Runs in ...</td>\n",
       "      <td>True</td>\n",
       "      <td>75</td>\n",
       "      <td>850</td>\n",
       "      <td>3</td>\n",
       "      <td>43</td>\n",
       "      <td>Intermediate Level</td>\n",
       "      <td>1 hour</td>\n",
       "      <td>2017-02-21T23:48:18Z</td>\n",
       "      <td>Musical Instruments</td>\n",
       "    </tr>\n",
       "    <tr>\n",
       "      <th>4</th>\n",
       "      <td>1120410</td>\n",
       "      <td>#5  Piano Hand Coordination:  Piano Runs in 2 ...</td>\n",
       "      <td>True</td>\n",
       "      <td>75</td>\n",
       "      <td>940</td>\n",
       "      <td>3</td>\n",
       "      <td>32</td>\n",
       "      <td>Intermediate Level</td>\n",
       "      <td>37 mins</td>\n",
       "      <td>2017-02-21T23:44:49Z</td>\n",
       "      <td>Musical Instruments</td>\n",
       "    </tr>\n",
       "  </tbody>\n",
       "</table>\n",
       "</div>"
      ],
      "text/plain": [
       "         o                                                  p     q   r     s  \\\n",
       "0   288942  #1 Piano Hand Coordination: Play 10th Ballad i...  True  35  3137   \n",
       "1  1170074  #10 Hand Coordination - Transfer Chord Ballad ...  True  75  1593   \n",
       "2  1193886  #12 Hand Coordination: Let your Hands dance wi...  True  75   482   \n",
       "3  1116700  #4 Piano Hand Coordination: Fun Piano Runs in ...  True  75   850   \n",
       "4  1120410  #5  Piano Hand Coordination:  Piano Runs in 2 ...  True  75   940   \n",
       "\n",
       "    t   u                   v          w                     x  \\\n",
       "0  18  68          All Levels  1.5 hours  2014-09-18T05:07:05Z   \n",
       "1   1  41  Intermediate Level     1 hour  2017-04-12T19:06:34Z   \n",
       "2   1  47  Intermediate Level  1.5 hours  2017-04-26T18:34:57Z   \n",
       "3   3  43  Intermediate Level     1 hour  2017-02-21T23:48:18Z   \n",
       "4   3  32  Intermediate Level    37 mins  2017-02-21T23:44:49Z   \n",
       "\n",
       "                     y  \n",
       "0  Musical Instruments  \n",
       "1  Musical Instruments  \n",
       "2  Musical Instruments  \n",
       "3  Musical Instruments  \n",
       "4  Musical Instruments  "
      ]
     },
     "execution_count": 9,
     "metadata": {},
     "output_type": "execute_result"
    }
   ],
   "source": [
    "example.head(5)"
   ]
  },
  {
   "attachments": {},
   "cell_type": "markdown",
   "id": "05012ec6-7c28-4041-95f5-bbdf8878db8d",
   "metadata": {},
   "source": [
    "#pop = pd.read_csv(\"data1/countries_population.csv\", header=None, names=[\"Country\", \"Population\"], index_col=0, quotechar=\"'\", sep=\" \", thousands=\",\")\n",
    "# saving a csv file\n",
    "\n",
    "We can create csv (or dsv) files with the method \"to_csv\"."
   ]
  },
  {
   "cell_type": "code",
   "execution_count": null,
   "id": "9f5b4a42-9a61-4637-beda-483dc22ff778",
   "metadata": {},
   "outputs": [],
   "source": [
    "# population.to_csv(\"data1/countries_total_population.csv\")\n"
   ]
  },
  {
   "cell_type": "code",
   "execution_count": 11,
   "id": "9cf34fd4-bdd8-4d7c-b30a-7f31a608494c",
   "metadata": {},
   "outputs": [
    {
     "name": "stdout",
     "output_type": "stream",
     "text": [
      "Sales of shop1:\n",
      "       foo  bar\n",
      "2010   23   13\n",
      "2011   25   29\n",
      "\n",
      "Sales of both shops\n",
      "       foo  bar\n",
      "2010  246  226\n",
      "2011  250  258\n"
     ]
    }
   ],
   "source": [
    "import pandas as pd \n",
    "shop1 = {\"foo\":{2010:23, 2011:25}, \"bar\":{2010:13, 2011:29}} \n",
    "shop2 = {\"foo\":{2010:223, 2011:225}, \"bar\":{2010:213, 2011:229}} \n",
    "shop1 = pd.DataFrame(shop1) \n",
    "shop2 = pd.DataFrame(shop2)\n",
    "both_shops = shop1 + shop2 \n",
    "print(\"Sales of shop1:\\n\", shop1) \n",
    "print(\"\\nSales of both shops\\n\", both_shops)\n"
   ]
  },
  {
   "cell_type": "code",
   "execution_count": 12,
   "id": "0383acf9-587a-410b-870e-a0e22ed1666d",
   "metadata": {},
   "outputs": [
    {
     "data": {
      "text/html": [
       "<div>\n",
       "<style scoped>\n",
       "    .dataframe tbody tr th:only-of-type {\n",
       "        vertical-align: middle;\n",
       "    }\n",
       "\n",
       "    .dataframe tbody tr th {\n",
       "        vertical-align: top;\n",
       "    }\n",
       "\n",
       "    .dataframe thead th {\n",
       "        text-align: right;\n",
       "    }\n",
       "</style>\n",
       "<table border=\"1\" class=\"dataframe\">\n",
       "  <thead>\n",
       "    <tr style=\"text-align: right;\">\n",
       "      <th></th>\n",
       "      <th>foo</th>\n",
       "      <th>bar</th>\n",
       "      <th>foo</th>\n",
       "      <th>bar</th>\n",
       "    </tr>\n",
       "  </thead>\n",
       "  <tbody>\n",
       "    <tr>\n",
       "      <th>2010</th>\n",
       "      <td>23</td>\n",
       "      <td>13</td>\n",
       "      <td>223</td>\n",
       "      <td>213</td>\n",
       "    </tr>\n",
       "    <tr>\n",
       "      <th>2011</th>\n",
       "      <td>25</td>\n",
       "      <td>29</td>\n",
       "      <td>225</td>\n",
       "      <td>229</td>\n",
       "    </tr>\n",
       "  </tbody>\n",
       "</table>\n",
       "</div>"
      ],
      "text/plain": [
       "      foo  bar  foo  bar\n",
       "2010   23   13  223  213\n",
       "2011   25   29  225  229"
      ]
     },
     "execution_count": 12,
     "metadata": {},
     "output_type": "execute_result"
    }
   ],
   "source": [
    "shops = pd.concat([shop1, shop2], axis=1) \n",
    "shops\n"
   ]
  },
  {
   "cell_type": "code",
   "execution_count": 15,
   "id": "c954ef41-9427-47e6-a46a-3740001b3e68",
   "metadata": {},
   "outputs": [],
   "source": [
    "shops.to_csv(\"data1countries_total_population.csv\") \n",
    "#file successfully saved"
   ]
  },
  {
   "cell_type": "markdown",
   "id": "e975e2b4-169d-41cb-97ca-f78ea3fd2a51",
   "metadata": {},
   "source": [
    "# 5.2 reading and writing excel file\n",
    "It is also possible to read and write Microsoft Excel files. The Pandas functionalities to read and write Excel files use the modules 'xlrd' and 'openpyxl'. These modules are not automatically installed by Pandas, so you may have to install them manually! "
   ]
  },
  {
   "cell_type": "code",
   "execution_count": 21,
   "id": "719a7399-d714-4fc1-9a34-48cf95fd2739",
   "metadata": {
    "collapsed": true,
    "jupyter": {
     "outputs_hidden": true
    },
    "scrolled": true
   },
   "outputs": [
    {
     "ename": "ValueError",
     "evalue": "Excel file format cannot be determined, you must specify an engine manually.",
     "output_type": "error",
     "traceback": [
      "\u001b[1;31m---------------------------------------------------------------------------\u001b[0m",
      "\u001b[1;31mValueError\u001b[0m                                Traceback (most recent call last)",
      "Cell \u001b[1;32mIn[21], line 1\u001b[0m\n\u001b[1;32m----> 1\u001b[0m excel_file \u001b[38;5;241m=\u001b[39m \u001b[43mpd\u001b[49m\u001b[38;5;241;43m.\u001b[39;49m\u001b[43mExcelFile\u001b[49m\u001b[43m(\u001b[49m\u001b[38;5;124;43mr\u001b[39;49m\u001b[38;5;124;43m\"\u001b[39;49m\u001b[38;5;124;43mC:\u001b[39;49m\u001b[38;5;124;43m\\\u001b[39;49m\u001b[38;5;124;43mUsers\u001b[39;49m\u001b[38;5;124;43m\\\u001b[39;49m\u001b[38;5;124;43mEducation\u001b[39;49m\u001b[38;5;124;43m\\\u001b[39;49m\u001b[38;5;124;43mDocuments\u001b[39;49m\u001b[38;5;124;43m\\\u001b[39;49m\u001b[38;5;124;43mBook1.csv\u001b[39;49m\u001b[38;5;124;43m\"\u001b[39;49m\u001b[43m)\u001b[49m \n\u001b[0;32m      2\u001b[0m sheet \u001b[38;5;241m=\u001b[39m pd\u001b[38;5;241m.\u001b[39mread_excel(excel_file) \n\u001b[0;32m      3\u001b[0m sheet\n",
      "File \u001b[1;32m~\\AppData\\Roaming\\Python\\Python312\\site-packages\\pandas\\io\\excel\\_base.py:1554\u001b[0m, in \u001b[0;36mExcelFile.__init__\u001b[1;34m(self, path_or_buffer, engine, storage_options, engine_kwargs)\u001b[0m\n\u001b[0;32m   1550\u001b[0m     ext \u001b[38;5;241m=\u001b[39m inspect_excel_format(\n\u001b[0;32m   1551\u001b[0m         content_or_path\u001b[38;5;241m=\u001b[39mpath_or_buffer, storage_options\u001b[38;5;241m=\u001b[39mstorage_options\n\u001b[0;32m   1552\u001b[0m     )\n\u001b[0;32m   1553\u001b[0m     \u001b[38;5;28;01mif\u001b[39;00m ext \u001b[38;5;129;01mis\u001b[39;00m \u001b[38;5;28;01mNone\u001b[39;00m:\n\u001b[1;32m-> 1554\u001b[0m         \u001b[38;5;28;01mraise\u001b[39;00m \u001b[38;5;167;01mValueError\u001b[39;00m(\n\u001b[0;32m   1555\u001b[0m             \u001b[38;5;124m\"\u001b[39m\u001b[38;5;124mExcel file format cannot be determined, you must specify \u001b[39m\u001b[38;5;124m\"\u001b[39m\n\u001b[0;32m   1556\u001b[0m             \u001b[38;5;124m\"\u001b[39m\u001b[38;5;124man engine manually.\u001b[39m\u001b[38;5;124m\"\u001b[39m\n\u001b[0;32m   1557\u001b[0m         )\n\u001b[0;32m   1559\u001b[0m engine \u001b[38;5;241m=\u001b[39m config\u001b[38;5;241m.\u001b[39mget_option(\u001b[38;5;124mf\u001b[39m\u001b[38;5;124m\"\u001b[39m\u001b[38;5;124mio.excel.\u001b[39m\u001b[38;5;132;01m{\u001b[39;00mext\u001b[38;5;132;01m}\u001b[39;00m\u001b[38;5;124m.reader\u001b[39m\u001b[38;5;124m\"\u001b[39m, silent\u001b[38;5;241m=\u001b[39m\u001b[38;5;28;01mTrue\u001b[39;00m)\n\u001b[0;32m   1560\u001b[0m \u001b[38;5;28;01mif\u001b[39;00m engine \u001b[38;5;241m==\u001b[39m \u001b[38;5;124m\"\u001b[39m\u001b[38;5;124mauto\u001b[39m\u001b[38;5;124m\"\u001b[39m:\n",
      "\u001b[1;31mValueError\u001b[0m: Excel file format cannot be determined, you must specify an engine manually."
     ]
    }
   ],
   "source": [
    "excel_file = pd.ExcelFile(r\"C:\\Users\\Education\\Documents\\Book1.csv\") \n",
    "sheet = pd.read_excel(excel_file) \n",
    "sheet"
   ]
  },
  {
   "cell_type": "code",
   "execution_count": 22,
   "id": "e35f4a93-5bda-4544-af8c-afb865a5ddec",
   "metadata": {},
   "outputs": [],
   "source": [
    "# saving\n",
    "# average.to_excel(writer,'average') \n",
    "# writer.save() \n",
    "# writer.close()"
   ]
  },
  {
   "cell_type": "markdown",
   "id": "282bbba0-f26d-4464-a1ec-21df209f36a4",
   "metadata": {},
   "source": [
    "# 6. NaN value\n",
    "This standard added NaN to the arithmetic formats: \"arithmetic formats: sets of binary and decimal floating-point data, which consist of finite numbers (including signed zeros and subnormal numbers), infinities, and special 'not a number' values (NaNs)\"\n",
    "'NAN' IN PYTHON Python knows NaN values as well. We can create it with \n",
    "\"float\":"
   ]
  },
  {
   "cell_type": "code",
   "execution_count": 23,
   "id": "1340f2d0-9c52-4a94-ba60-ce0a85e2b715",
   "metadata": {},
   "outputs": [
    {
     "name": "stdout",
     "output_type": "stream",
     "text": [
      "nan nan nan nan\n"
     ]
    }
   ],
   "source": [
    "n1 = float(\"nan\") \n",
    "n2 = float(\"Nan\") \n",
    "n3 = float(\"NaN\") \n",
    "n4 = float(\"NAN\") \n",
    "print(n1, n2, n3, n4)"
   ]
  },
  {
   "cell_type": "code",
   "execution_count": 24,
   "id": "b24d647a-3e56-49fb-b229-33d30b6448b2",
   "metadata": {},
   "outputs": [
    {
     "name": "stdout",
     "output_type": "stream",
     "text": [
      "False\n",
      "False\n",
      "False\n",
      "False\n"
     ]
    }
   ],
   "source": [
    "# Warning: Do not perform comparison between \"NaN\" values or \"Nan\" values and regular numbers. A simple or simplified reasoning is this: \n",
    "#Two things are \"not a number\", so they can be anything but most probably not the same. Above all there is no way of ordering NaNs:\n",
    "print(n1 == n2) \n",
    "print(n1 == 0) \n",
    "print(n1 == 100) \n",
    "print(n2 < 0)\n"
   ]
  },
  {
   "cell_type": "markdown",
   "id": "91d5e1d6-c1ff-4333-b04b-893e9fbb37f2",
   "metadata": {},
   "source": [
    "We will use now a data file similar to the previous temperature csv, but this time we will have to cope with NaN data, when the sensors malfunctioned. We will create a temperature DataFrame, in which some data is not defined, i.e. NaN. We will use and change the data from the the temperatures.csv file: "
   ]
  },
  {
   "cell_type": "markdown",
   "id": "212e7395-7df5-4276-85a4-d449882bef29",
   "metadata": {},
   "source": [
    "# USING DROPNA ON THE DATAFRAME 'dropna' is a DataFrame method. \n",
    "If we call this method without arguments, it will return an object where every row is ommitted, in which data are missing, i.e. some value is NaN:\\\n",
    "df = disturbed_data.dropna()\\\n",
    "'dropna' can also be used to drop all columns in which some values are NaN. This can be achieved by assigning 1 to the axis parameter. The default value is False, as we have seen in our previous example. As every column from our sensors contain NaN values, they will all disappear:\n",
    "df = disturbed_data.dropna(axis=1)\n"
   ]
  },
  {
   "cell_type": "markdown",
   "id": "bb40d78a-8c8c-42fd-b758-a9e22137f640",
   "metadata": {},
   "source": [
    "df=df.dropna(inplace=True)\n"
   ]
  },
  {
   "cell_type": "markdown",
   "id": "6c7f8599-5070-47d9-90f1-ce5272110e97",
   "metadata": {},
   "source": [
    "# thrash\n",
    "Let us change our task: We only want to get rid of all the rows, which contain more than one NaN value. The parameter 'thresh' is ideal for this task. It can be set to the minimum number. 'thresh' is set to an integer value, which defines the minimum number of non-NaN values. \n",
    "\n",
    "\n",
    "cleansed_df = disturbed_data.dropna(thresh=5, axis=0) cleansed_df[:7]\n"
   ]
  },
  {
   "cell_type": "markdown",
   "id": "e4990222-a1e7-4aec-a6a2-f30e2e2d14a9",
   "metadata": {},
   "source": [
    "# 7. binning in python"
   ]
  },
  {
   "cell_type": "markdown",
   "id": "6e535989-b1d6-4107-8e23-b23b8a26069b",
   "metadata": {},
   "source": [
    "# 8. multi level indexing\n"
   ]
  },
  {
   "cell_type": "code",
   "execution_count": 84,
   "id": "10866f03-ad0d-467c-ad58-8c7b01fd8542",
   "metadata": {},
   "outputs": [
    {
     "data": {
      "text/html": [
       "<div>\n",
       "<style scoped>\n",
       "    .dataframe tbody tr th:only-of-type {\n",
       "        vertical-align: middle;\n",
       "    }\n",
       "\n",
       "    .dataframe tbody tr th {\n",
       "        vertical-align: top;\n",
       "    }\n",
       "\n",
       "    .dataframe thead th {\n",
       "        text-align: right;\n",
       "    }\n",
       "</style>\n",
       "<table border=\"1\" class=\"dataframe\">\n",
       "  <thead>\n",
       "    <tr style=\"text-align: right;\">\n",
       "      <th></th>\n",
       "      <th></th>\n",
       "      <th>customer_price</th>\n",
       "      <th>non_customer_price</th>\n",
       "    </tr>\n",
       "    <tr>\n",
       "      <th>products</th>\n",
       "      <th>colours</th>\n",
       "      <th></th>\n",
       "      <th></th>\n",
       "    </tr>\n",
       "  </thead>\n",
       "  <tbody>\n",
       "    <tr>\n",
       "      <th>Crosteron</th>\n",
       "      <th>green</th>\n",
       "      <td>3100.00</td>\n",
       "      <td>3400.00</td>\n",
       "    </tr>\n",
       "    <tr>\n",
       "      <th rowspan=\"2\" valign=\"top\">Dreaker</th>\n",
       "      <th>blue</th>\n",
       "      <td>2390.50</td>\n",
       "      <td>2495.50</td>\n",
       "    </tr>\n",
       "    <tr>\n",
       "      <th>green</th>\n",
       "      <td>2590.50</td>\n",
       "      <td>2655.50</td>\n",
       "    </tr>\n",
       "    <tr>\n",
       "      <th rowspan=\"2\" valign=\"top\">Lotadilo</th>\n",
       "      <th>blue</th>\n",
       "      <td>1820.00</td>\n",
       "      <td>1980.00</td>\n",
       "    </tr>\n",
       "    <tr>\n",
       "      <th>green</th>\n",
       "      <td>2220.00</td>\n",
       "      <td>2140.00</td>\n",
       "    </tr>\n",
       "    <tr>\n",
       "      <th rowspan=\"2\" valign=\"top\">Oppilume</th>\n",
       "      <th>blue</th>\n",
       "      <td>2345.89</td>\n",
       "      <td>2445.89</td>\n",
       "    </tr>\n",
       "    <tr>\n",
       "      <th>green</th>\n",
       "      <td>2545.89</td>\n",
       "      <td>2645.89</td>\n",
       "    </tr>\n",
       "    <tr>\n",
       "      <th rowspan=\"2\" valign=\"top\">Wazzasoft</th>\n",
       "      <th>blue</th>\n",
       "      <td>1784.50</td>\n",
       "      <td>1921.00</td>\n",
       "    </tr>\n",
       "    <tr>\n",
       "      <th>red</th>\n",
       "      <td>2084.50</td>\n",
       "      <td>2190.00</td>\n",
       "    </tr>\n",
       "  </tbody>\n",
       "</table>\n",
       "</div>"
      ],
      "text/plain": [
       "                   customer_price  non_customer_price\n",
       "products  colours                                    \n",
       "Crosteron green           3100.00             3400.00\n",
       "Dreaker   blue            2390.50             2495.50\n",
       "          green           2590.50             2655.50\n",
       "Lotadilo  blue            1820.00             1980.00\n",
       "          green           2220.00             2140.00\n",
       "Oppilume  blue            2345.89             2445.89\n",
       "          green           2545.89             2645.89\n",
       "Wazzasoft blue            1784.50             1921.00\n",
       "          red             2084.50             2190.00"
      ]
     },
     "execution_count": 84,
     "metadata": {},
     "output_type": "execute_result"
    }
   ],
   "source": [
    "import pandas as pd \n",
    "d = {\"products\": \n",
    "     [\"Oppilume\", \"Dreaker\", \"Lotadilo\", \"Crosteron\", \"Wazzasoft\", \"Oppilume\", \"Dreaker\", \"Lotadilo\", \"Wazzasoft\"], \n",
    "     \"colours\": \n",
    "     [\"blue\", \"blue\", \"blue\", \"green\", \"blue\", \"green\", \"green\", \"green\", \"red\"], \n",
    "     \"customer_price\": \n",
    "     [2345.89, 2390.50, 1820.00, 3100.00, 1784.50, 2545.89, 2590.50, 2220.00, 2084.50],\n",
    "     \"non_customer_price\": \n",
    "     [2445.89, 2495.50, 1980.00, 3400.00, 1921.00, 2645.89,2655.50, 2140.00, 2190.00]} \n",
    "product_prices = pd.DataFrame(d) \n",
    "product_prices.set_index(['products','colours'],inplace=True)\n",
    "product_prices.sort_index(inplace=True)\n",
    "product_prices"
   ]
  },
  {
   "cell_type": "code",
   "execution_count": null,
   "id": "efd693de-afe5-4ed8-8a58-51c117e80af3",
   "metadata": {},
   "outputs": [],
   "source": []
  },
  {
   "cell_type": "code",
   "execution_count": null,
   "id": "74872011-6c3e-48db-bbff-a7b3686231d9",
   "metadata": {},
   "outputs": [],
   "source": []
  },
  {
   "cell_type": "markdown",
   "id": "eeff584a-0c07-4741-a218-9964bfaffd7a",
   "metadata": {},
   "source": [
    "# 9. PYTHON, DATE AND TIME\n",
    "Python provides rich functionalities for dealing with date and time data. The standard libraries contains the modules \\\n",
    "• time \\\n",
    "• calendar \\\n",
    "• datetime \\\n",
    "These modules supply classes for manipulating dates and times in both simple and complex ways.\\\n",
    "The datetime module provides the following classes: • The instances of the date class represent dates, whereas the year can range between 1 and 9999. \\\n",
    "• The instances of the datetime class are made up both by a date and a time. \\\n",
    "• The time class implements time objects. \\\n",
    "• The timedelta class is used to hold the differences between two times or two date objects. \\\n",
    "• The tzinfo class is used to implement timezone support for time and datetime objects. "
   ]
  },
  {
   "cell_type": "code",
   "execution_count": 26,
   "id": "9d6008fc-924a-4c84-ac8c-556c8b026de6",
   "metadata": {},
   "outputs": [],
   "source": [
    "from datetime import date"
   ]
  },
  {
   "cell_type": "code",
   "execution_count": 35,
   "id": "3c05fd7b-6cf8-426f-baaa-aa10f6598063",
   "metadata": {},
   "outputs": [
    {
     "data": {
      "text/plain": [
       "datetime.date(2024, 7, 31)"
      ]
     },
     "execution_count": 35,
     "metadata": {},
     "output_type": "execute_result"
    }
   ],
   "source": [
    "l=date.today()\n",
    "l"
   ]
  },
  {
   "cell_type": "code",
   "execution_count": 32,
   "id": "cbbe8ead-3701-4579-ab2e-86e6a54d6b86",
   "metadata": {},
   "outputs": [
    {
     "name": "stdout",
     "output_type": "stream",
     "text": [
      "0001-01-01\n",
      "9999-12-31\n"
     ]
    }
   ],
   "source": [
    "from datetime import date \n",
    "print(date.min) \n",
    "print(date.max)\n"
   ]
  },
  {
   "cell_type": "code",
   "execution_count": 37,
   "id": "5ee39475-18cc-416f-9564-bf9adbd3bdc8",
   "metadata": {},
   "outputs": [
    {
     "data": {
      "text/plain": [
       "0"
      ]
     },
     "execution_count": 37,
     "metadata": {},
     "output_type": "execute_result"
    }
   ],
   "source": [
    "p.weekday()"
   ]
  },
  {
   "cell_type": "code",
   "execution_count": 38,
   "id": "c40f8d1d-2498-4ea9-aca6-7d3100809eb7",
   "metadata": {},
   "outputs": [
    {
     "data": {
      "text/plain": [
       "datetime.date(1778, 5, 11)"
      ]
     },
     "execution_count": 38,
     "metadata": {},
     "output_type": "execute_result"
    }
   ],
   "source": [
    "x=date(1778,5,11)\n",
    "x"
   ]
  },
  {
   "cell_type": "code",
   "execution_count": 39,
   "id": "39a74e5a-332b-40b9-974c-27a6b393e619",
   "metadata": {},
   "outputs": [
    {
     "name": "stdout",
     "output_type": "stream",
     "text": [
      "11\n",
      "5\n",
      "1778\n"
     ]
    }
   ],
   "source": [
    "print(x.day) \n",
    "print(x.month) \n",
    "print(x.year)\n"
   ]
  },
  {
   "cell_type": "markdown",
   "id": "864b89ef-e64c-47b4-aaec-3264fddf55a4",
   "metadata": {},
   "source": [
    "# THE TIME CLASS \n",
    "The time class is similarly organized than the date class.\n"
   ]
  },
  {
   "cell_type": "code",
   "execution_count": 40,
   "id": "fd9d2c29-c3b4-43f6-b407-eba673dc2b94",
   "metadata": {},
   "outputs": [],
   "source": [
    "from datetime import time"
   ]
  },
  {
   "cell_type": "code",
   "execution_count": 46,
   "id": "97d611b7-2cb3-4f36-a1ff-22006b44b3ea",
   "metadata": {},
   "outputs": [
    {
     "data": {
      "text/plain": [
       "datetime.time(2, 10, 22)"
      ]
     },
     "execution_count": 46,
     "metadata": {},
     "output_type": "execute_result"
    }
   ],
   "source": [
    "t=time(2, 10, 22)\n",
    "t"
   ]
  },
  {
   "cell_type": "code",
   "execution_count": 48,
   "id": "f5415112-a63f-4ad5-90a4-180b227d6b21",
   "metadata": {},
   "outputs": [
    {
     "name": "stdout",
     "output_type": "stream",
     "text": [
      "00:00:00\n",
      "23:59:59.999999\n"
     ]
    }
   ],
   "source": [
    "print(time.min) \n",
    "print(time.max)\n"
   ]
  },
  {
   "cell_type": "code",
   "execution_count": 49,
   "id": "8fdfec73-31c5-4b84-b46c-bf7c43ada577",
   "metadata": {},
   "outputs": [
    {
     "data": {
      "text/plain": [
       "(2, 10, 22)"
      ]
     },
     "execution_count": 49,
     "metadata": {},
     "output_type": "execute_result"
    }
   ],
   "source": [
    "t.hour, t.minute, t.second\n"
   ]
  },
  {
   "cell_type": "code",
   "execution_count": 50,
   "id": "b0cee8be-b638-4985-ac0a-18ea8783a75d",
   "metadata": {},
   "outputs": [
    {
     "data": {
      "text/plain": [
       "datetime.time(11, 59, 22)"
      ]
     },
     "execution_count": 50,
     "metadata": {},
     "output_type": "execute_result"
    }
   ],
   "source": [
    "t = t.replace(hour=11, minute=59) \n",
    "t\n"
   ]
  },
  {
   "cell_type": "code",
   "execution_count": 52,
   "id": "1cfafb56-a559-47cf-8884-405c8aee1b23",
   "metadata": {},
   "outputs": [
    {
     "data": {
      "text/plain": [
       "'Mon May 11 00:00:00 1778'"
      ]
     },
     "execution_count": 52,
     "metadata": {},
     "output_type": "execute_result"
    }
   ],
   "source": [
    "#We can render a date as a C-style like string, corresponding to the C ctime function:\n",
    "x.ctime()\n"
   ]
  },
  {
   "cell_type": "markdown",
   "id": "06a6ab2a-5a87-477c-bdbe-4ac685c5a699",
   "metadata": {},
   "source": [
    "# DIFFERENCES BETWEEN TIMES \n",
    "Let's see what happens, if we subtract to datetime objects:\n"
   ]
  },
  {
   "cell_type": "code",
   "execution_count": 57,
   "id": "6fa754fd-9e07-4eca-90bc-d7c479caee1c",
   "metadata": {},
   "outputs": [
    {
     "name": "stdout",
     "output_type": "stream",
     "text": [
      "959 days, 0:00:00\n"
     ]
    },
    {
     "data": {
      "text/plain": [
       "datetime.timedelta"
      ]
     },
     "execution_count": 57,
     "metadata": {},
     "output_type": "execute_result"
    }
   ],
   "source": [
    "from datetime import datetime \n",
    "delta = datetime(1993, 12, 14) - datetime(1991, 4, 30) \n",
    "print(delta)\n",
    "type(delta)\n",
    "# We can get information about the number of days elapsed by using the attribute 'days':\n"
   ]
  },
  {
   "cell_type": "code",
   "execution_count": 72,
   "id": "c4ae8ae0-857c-4089-83fe-a1e441175efb",
   "metadata": {},
   "outputs": [
    {
     "ename": "AttributeError",
     "evalue": "'datetime.timedelta' object has no attribute 'months'",
     "output_type": "error",
     "traceback": [
      "\u001b[1;31m---------------------------------------------------------------------------\u001b[0m",
      "\u001b[1;31mAttributeError\u001b[0m                            Traceback (most recent call last)",
      "Cell \u001b[1;32mIn[72], line 2\u001b[0m\n\u001b[0;32m      1\u001b[0m delta\u001b[38;5;241m.\u001b[39mdays, \n\u001b[1;32m----> 2\u001b[0m \u001b[43mdelta\u001b[49m\u001b[38;5;241;43m.\u001b[39;49m\u001b[43mmonths\u001b[49m\n\u001b[0;32m      3\u001b[0m \u001b[38;5;66;03m# it seems it does not given the value of months and years but only days.\u001b[39;00m\n",
      "\u001b[1;31mAttributeError\u001b[0m: 'datetime.timedelta' object has no attribute 'months'"
     ]
    }
   ],
   "source": [
    "delta.days, \n",
    "delta.months\n",
    "# it seems it does not given the value of months and years but only days."
   ]
  },
  {
   "cell_type": "code",
   "execution_count": 73,
   "id": "b4f2391d-e816-4699-84ff-136ac0142f71",
   "metadata": {},
   "outputs": [
    {
     "data": {
      "text/plain": [
       "(412, 76680)"
      ]
     },
     "execution_count": 73,
     "metadata": {},
     "output_type": "execute_result"
    }
   ],
   "source": [
    "t1 = datetime(2017, 1, 31, 14, 17) \n",
    "t2 = datetime(2015, 12, 15, 16, 59) \n",
    "delta = t1 - t2 \n",
    "delta.days, delta.seconds\n"
   ]
  },
  {
   "cell_type": "code",
   "execution_count": 74,
   "id": "bceedeed-3ae5-442b-9527-76885aa062e5",
   "metadata": {},
   "outputs": [
    {
     "name": "stdout",
     "output_type": "stream",
     "text": [
      "1991-05-10 00:00:00\n",
      "10 days, 0:00:00\n",
      "1991-01-20 00:00:00\n",
      "1991-01-20 00:00:00\n"
     ]
    }
   ],
   "source": [
    "# It is possible to add or subtract a timedelta to a datetime object to calculate a new datetime object by adding or subtracting the delta in days:\n",
    "from datetime import datetime, timedelta \n",
    "d1 = datetime(1991, 4, 30) \n",
    "d2 = d1 + timedelta(10) \n",
    "print(d2) \n",
    "print(d2 - d1) \n",
    "d3 = d1 - timedelta(100) \n",
    "print(d3) \n",
    "d4 = d1 - 2 * timedelta(50) \n",
    "print(d4)\n"
   ]
  },
  {
   "cell_type": "code",
   "execution_count": 75,
   "id": "d9312ee2-41ca-4994-aa51-b0ebef69c802",
   "metadata": {},
   "outputs": [
    {
     "name": "stdout",
     "output_type": "stream",
     "text": [
      "1991-05-10 00:01:40\n",
      "10 days, 0:01:40\n"
     ]
    }
   ],
   "source": [
    "from datetime import datetime, timedelta \n",
    "d1 = datetime(1991, 4, 30) \n",
    "d2 = d1 + timedelta(10,100) \n",
    "print(d2) \n",
    "print(d2 - d1)"
   ]
  },
  {
   "cell_type": "markdown",
   "id": "56079758-8ec5-428b-8c6b-155792d86cba",
   "metadata": {},
   "source": [
    "# converting given column of string into datetime"
   ]
  },
  {
   "cell_type": "markdown",
   "id": "767b6c16-addc-4eaa-9132-e91cb4d6b980",
   "metadata": {},
   "source": [
    "df['reservation_status_date']= pd.to_datetime(df['reservation_status_date'],format=\"mixed\") "
   ]
  },
  {
   "cell_type": "markdown",
   "id": "7e553cf3-381a-4d66-880e-ce4985a9d0bb",
   "metadata": {},
   "source": [
    "# CREATING DATETIME OBJECTS FROM STRINGS\n",
    "We can use strptime to create new datetime object by parsing a string containing a data and time. The arguments of strptime are the string to be parsed and a format specification.\n"
   ]
  },
  {
   "cell_type": "code",
   "execution_count": null,
   "id": "7ddbda72-5d10-465b-bacb-e1127bbc6f28",
   "metadata": {},
   "outputs": [
    {
     "name": "stdout",
     "output_type": "stream",
     "text": [
      "2000-11-30 00:00:00\n"
     ]
    }
   ],
   "source": [
    "from datetime import datetime \n",
    "t = datetime.strptime(\"30 Nov 00\", \"%d %b %y\") \n",
    "print(t)\n"
   ]
  },
  {
   "cell_type": "code",
   "execution_count": 60,
   "id": "737027af-dd33-4eca-8f68-f82287a95733",
   "metadata": {},
   "outputs": [
    {
     "data": {
      "text/plain": [
       "datetime.datetime(2007, 3, 4, 21, 8, 12)"
      ]
     },
     "execution_count": 60,
     "metadata": {},
     "output_type": "execute_result"
    }
   ],
   "source": [
    "dt = \"2007-03-04T21:08:12\" \n",
    "datetime.strptime( dt, \"%Y-%m-%dT%H:%M:%S\" )\n"
   ]
  },
  {
   "cell_type": "code",
   "execution_count": 61,
   "id": "a69caa87-9c56-4789-b57a-3598ec2169d4",
   "metadata": {},
   "outputs": [
    {
     "data": {
      "text/plain": [
       "datetime.datetime(1957, 12, 24, 4, 3, 29)"
      ]
     },
     "execution_count": 61,
     "metadata": {},
     "output_type": "execute_result"
    }
   ],
   "source": [
    "dt = '12/24/1957 4:03:29 AM' \n",
    "dt = datetime.strptime(dt, '%m/%d/%Y %I:%M:%S %p') \n",
    "dt\n"
   ]
  },
  {
   "cell_type": "code",
   "execution_count": 62,
   "id": "339316e8-7f85-4339-b145-11f59646d77c",
   "metadata": {
    "collapsed": true,
    "jupyter": {
     "outputs_hidden": true
    },
    "scrolled": true
   },
   "outputs": [
    {
     "ename": "ValueError",
     "evalue": "time data 'Wed Apr 12 20:29:53 CEST 2017' does not match format '%a %b %d %H:%M:%S %Z %Y'",
     "output_type": "error",
     "traceback": [
      "\u001b[1;31m---------------------------------------------------------------------------\u001b[0m",
      "\u001b[1;31mValueError\u001b[0m                                Traceback (most recent call last)",
      "Cell \u001b[1;32mIn[62], line 2\u001b[0m\n\u001b[0;32m      1\u001b[0m dt \u001b[38;5;241m=\u001b[39m \u001b[38;5;124m'\u001b[39m\u001b[38;5;124mWed Apr 12 20:29:53 CEST 2017\u001b[39m\u001b[38;5;124m'\u001b[39m \n\u001b[1;32m----> 2\u001b[0m dt \u001b[38;5;241m=\u001b[39m \u001b[43mdatetime\u001b[49m\u001b[38;5;241;43m.\u001b[39;49m\u001b[43mstrptime\u001b[49m\u001b[43m(\u001b[49m\u001b[43mdt\u001b[49m\u001b[43m,\u001b[49m\u001b[43m \u001b[49m\u001b[38;5;124;43m'\u001b[39;49m\u001b[38;5;132;43;01m%a\u001b[39;49;00m\u001b[38;5;124;43m \u001b[39;49m\u001b[38;5;124;43m%\u001b[39;49m\u001b[38;5;124;43mb \u001b[39;49m\u001b[38;5;132;43;01m%d\u001b[39;49;00m\u001b[38;5;124;43m \u001b[39;49m\u001b[38;5;124;43m%\u001b[39;49m\u001b[38;5;124;43mH:\u001b[39;49m\u001b[38;5;124;43m%\u001b[39;49m\u001b[38;5;124;43mM:\u001b[39;49m\u001b[38;5;124;43m%\u001b[39;49m\u001b[38;5;124;43mS \u001b[39;49m\u001b[38;5;124;43m%\u001b[39;49m\u001b[38;5;124;43mZ \u001b[39;49m\u001b[38;5;124;43m%\u001b[39;49m\u001b[38;5;124;43mY\u001b[39;49m\u001b[38;5;124;43m'\u001b[39;49m\u001b[43m)\u001b[49m \n\u001b[0;32m      3\u001b[0m \u001b[38;5;28mprint\u001b[39m(dt)\n",
      "File \u001b[1;32mC:\\Program Files\\Python312\\Lib\\_strptime.py:554\u001b[0m, in \u001b[0;36m_strptime_datetime\u001b[1;34m(cls, data_string, format)\u001b[0m\n\u001b[0;32m    551\u001b[0m \u001b[38;5;28;01mdef\u001b[39;00m \u001b[38;5;21m_strptime_datetime\u001b[39m(\u001b[38;5;28mcls\u001b[39m, data_string, \u001b[38;5;28mformat\u001b[39m\u001b[38;5;241m=\u001b[39m\u001b[38;5;124m\"\u001b[39m\u001b[38;5;132;01m%a\u001b[39;00m\u001b[38;5;124m \u001b[39m\u001b[38;5;124m%\u001b[39m\u001b[38;5;124mb \u001b[39m\u001b[38;5;132;01m%d\u001b[39;00m\u001b[38;5;124m \u001b[39m\u001b[38;5;124m%\u001b[39m\u001b[38;5;124mH:\u001b[39m\u001b[38;5;124m%\u001b[39m\u001b[38;5;124mM:\u001b[39m\u001b[38;5;124m%\u001b[39m\u001b[38;5;124mS \u001b[39m\u001b[38;5;124m%\u001b[39m\u001b[38;5;124mY\u001b[39m\u001b[38;5;124m\"\u001b[39m):\n\u001b[0;32m    552\u001b[0m \u001b[38;5;250m    \u001b[39m\u001b[38;5;124;03m\"\"\"Return a class cls instance based on the input string and the\u001b[39;00m\n\u001b[0;32m    553\u001b[0m \u001b[38;5;124;03m    format string.\"\"\"\u001b[39;00m\n\u001b[1;32m--> 554\u001b[0m     tt, fraction, gmtoff_fraction \u001b[38;5;241m=\u001b[39m \u001b[43m_strptime\u001b[49m\u001b[43m(\u001b[49m\u001b[43mdata_string\u001b[49m\u001b[43m,\u001b[49m\u001b[43m \u001b[49m\u001b[38;5;28;43mformat\u001b[39;49m\u001b[43m)\u001b[49m\n\u001b[0;32m    555\u001b[0m     tzname, gmtoff \u001b[38;5;241m=\u001b[39m tt[\u001b[38;5;241m-\u001b[39m\u001b[38;5;241m2\u001b[39m:]\n\u001b[0;32m    556\u001b[0m     args \u001b[38;5;241m=\u001b[39m tt[:\u001b[38;5;241m6\u001b[39m] \u001b[38;5;241m+\u001b[39m (fraction,)\n",
      "File \u001b[1;32mC:\\Program Files\\Python312\\Lib\\_strptime.py:333\u001b[0m, in \u001b[0;36m_strptime\u001b[1;34m(data_string, format)\u001b[0m\n\u001b[0;32m    331\u001b[0m found \u001b[38;5;241m=\u001b[39m format_regex\u001b[38;5;241m.\u001b[39mmatch(data_string)\n\u001b[0;32m    332\u001b[0m \u001b[38;5;28;01mif\u001b[39;00m \u001b[38;5;129;01mnot\u001b[39;00m found:\n\u001b[1;32m--> 333\u001b[0m     \u001b[38;5;28;01mraise\u001b[39;00m \u001b[38;5;167;01mValueError\u001b[39;00m(\u001b[38;5;124m\"\u001b[39m\u001b[38;5;124mtime data \u001b[39m\u001b[38;5;132;01m%r\u001b[39;00m\u001b[38;5;124m does not match format \u001b[39m\u001b[38;5;132;01m%r\u001b[39;00m\u001b[38;5;124m\"\u001b[39m \u001b[38;5;241m%\u001b[39m\n\u001b[0;32m    334\u001b[0m                      (data_string, \u001b[38;5;28mformat\u001b[39m))\n\u001b[0;32m    335\u001b[0m \u001b[38;5;28;01mif\u001b[39;00m \u001b[38;5;28mlen\u001b[39m(data_string) \u001b[38;5;241m!=\u001b[39m found\u001b[38;5;241m.\u001b[39mend():\n\u001b[0;32m    336\u001b[0m     \u001b[38;5;28;01mraise\u001b[39;00m \u001b[38;5;167;01mValueError\u001b[39;00m(\u001b[38;5;124m\"\u001b[39m\u001b[38;5;124munconverted data remains: \u001b[39m\u001b[38;5;132;01m%s\u001b[39;00m\u001b[38;5;124m\"\u001b[39m \u001b[38;5;241m%\u001b[39m\n\u001b[0;32m    337\u001b[0m                       data_string[found\u001b[38;5;241m.\u001b[39mend():])\n",
      "\u001b[1;31mValueError\u001b[0m: time data 'Wed Apr 12 20:29:53 CEST 2017' does not match format '%a %b %d %H:%M:%S %Z %Y'"
     ]
    }
   ],
   "source": [
    "dt = 'Wed Apr 12 20:29:53 CEST 2017' \n",
    "dt = datetime.strptime(dt, '%a %b %d %H:%M:%S %Z %Y') \n",
    "print(dt)\n"
   ]
  },
  {
   "cell_type": "code",
   "execution_count": 63,
   "id": "382b47d4-c2f0-4694-9914-1d2fcee75690",
   "metadata": {},
   "outputs": [
    {
     "data": {
      "text/plain": [
       "datetime.datetime(2011, 1, 3, 0, 0)"
      ]
     },
     "execution_count": 63,
     "metadata": {},
     "output_type": "execute_result"
    }
   ],
   "source": [
    "from dateutil.parser import parse \n",
    "parse('2011-01-03')\n"
   ]
  },
  {
   "cell_type": "code",
   "execution_count": 64,
   "id": "6836a246-3521-4ad4-9a49-b72eb668bf73",
   "metadata": {},
   "outputs": [
    {
     "name": "stderr",
     "output_type": "stream",
     "text": [
      "C:\\Users\\Education\\AppData\\Roaming\\Python\\Python312\\site-packages\\dateutil\\parser\\_parser.py:1207: UnknownTimezoneWarning: tzname CEST identified but not understood.  Pass `tzinfos` argument in order to correctly return a timezone-aware datetime.  In a future version, this will raise an exception.\n",
      "  warnings.warn(\"tzname {tzname} identified but not understood.  \"\n"
     ]
    },
    {
     "data": {
      "text/plain": [
       "datetime.datetime(2017, 4, 12, 20, 29, 53)"
      ]
     },
     "execution_count": 64,
     "metadata": {},
     "output_type": "execute_result"
    }
   ],
   "source": [
    "parse('Wed Apr 12 20:29:53 CEST 2017')\n"
   ]
  },
  {
   "cell_type": "markdown",
   "id": "e2c56ce2-2073-464c-8ca5-4c6c16673aca",
   "metadata": {},
   "source": [
    "# CONVERT DATETIME OBJECTS TO STRINGS \n",
    "The easiest way to convert a datetime object into a string consists in using str."
   ]
  },
  {
   "cell_type": "code",
   "execution_count": 66,
   "id": "655d4504-ae06-44d6-a9ee-68f571b63b5d",
   "metadata": {},
   "outputs": [
    {
     "data": {
      "text/plain": [
       "'Wed Apr 12 20:29:53 CEST 2017'"
      ]
     },
     "execution_count": 66,
     "metadata": {},
     "output_type": "execute_result"
    }
   ],
   "source": [
    "s = str(dt) \n",
    "s"
   ]
  },
  {
   "cell_type": "markdown",
   "id": "59bd17ec-f083-4d00-a657-b0b167f548a7",
   "metadata": {},
   "source": [
    "# 10. PYTHON, PANDAS AND TIME SERIES\n",
    " Usually, a time series is a sequence of values, which are equally spaced points in time. Everything which consists of measured data connected with the corresponding time can be seen as a time series. Measurements can be taken irregularly, but in most cases time series consist of fixed frequencies. This means that data is measured or taken in a regular pattern, i.e. for example every 5 milliseconds, every 10 seconds, or very hour."
   ]
  },
  {
   "cell_type": "markdown",
   "id": "a674d16b-7750-4f9c-89cf-153e5abecb5c",
   "metadata": {},
   "source": [
    "# 11 deleting columns"
   ]
  },
  {
   "cell_type": "markdown",
   "id": "8ac71dbd-7e75-4156-8207-05849a8c191a",
   "metadata": {},
   "source": [
    "dataframe.drop(['A','B'], axis=1, inplace= True)"
   ]
  },
  {
   "cell_type": "markdown",
   "id": "b1bb0b61-66ee-4ca5-bdb4-2956c8e5b7d6",
   "metadata": {},
   "source": [
    "df.drop('B', axis=1, inplace=True)"
   ]
  },
  {
   "cell_type": "code",
   "execution_count": null,
   "id": "fa0f1339-1c85-456b-a93e-ff76fd16cae2",
   "metadata": {},
   "outputs": [],
   "source": []
  },
  {
   "cell_type": "code",
   "execution_count": null,
   "id": "bc8fe4fc-4b5c-4f85-b6c0-759cc1464cab",
   "metadata": {},
   "outputs": [],
   "source": []
  },
  {
   "cell_type": "code",
   "execution_count": null,
   "id": "213bbe11-34d0-450b-9cd4-eee825e71139",
   "metadata": {},
   "outputs": [],
   "source": []
  },
  {
   "cell_type": "code",
   "execution_count": null,
   "id": "85cbd7e6-1727-4d88-b807-c72685e822f9",
   "metadata": {},
   "outputs": [],
   "source": []
  }
 ],
 "metadata": {
  "kernelspec": {
   "display_name": "Python 3 (ipykernel)",
   "language": "python",
   "name": "python3"
  },
  "language_info": {
   "codemirror_mode": {
    "name": "ipython",
    "version": 3
   },
   "file_extension": ".py",
   "mimetype": "text/x-python",
   "name": "python",
   "nbconvert_exporter": "python",
   "pygments_lexer": "ipython3",
   "version": "3.12.4"
  }
 },
 "nbformat": 4,
 "nbformat_minor": 5
}
