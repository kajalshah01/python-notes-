{
 "cells": [
  {
   "cell_type": "markdown",
   "id": "058c2964-3a8d-4b81-91aa-425e2d336684",
   "metadata": {},
   "source": [
    "# numpy\n",
    "Advantages of using Numpy with Python: \n",
    "\n",
    "• array oriented computing \n",
    "\n",
    "• efficiently implemented multi-dimensional arrays \n",
    "\n",
    "• designed for scientific computation\n"
   ]
  },
  {
   "cell_type": "code",
   "execution_count": 2,
   "id": "e825a482-1935-4a6b-90aa-01a3cb38c67a",
   "metadata": {},
   "outputs": [],
   "source": [
    "import numpy as np"
   ]
  },
  {
   "cell_type": "code",
   "execution_count": 7,
   "id": "bcf22c81-89ff-4ed9-9610-aafa67b2ee70",
   "metadata": {},
   "outputs": [
    {
     "name": "stdout",
     "output_type": "stream",
     "text": [
      "[20.1 20.8 21.9 22.5 22.7 22.3 21.8 21.2 20.9  0.1]\n"
     ]
    }
   ],
   "source": [
    "cvalues = [20.1, 20.8, 21.9, 22.5, 22.7, 22.3, 21.8, 21.2, 20.9,  0.1]\n",
    "p=np.array(cvalues)\n",
    "print(p)"
   ]
  },
  {
   "attachments": {},
   "cell_type": "markdown",
   "id": "46ce2b8a-4a67-4f53-9a53-74be2fd0fe4f",
   "metadata": {},
   "source": [
    "# 2. MEMORY CONSUMPTION: NDARRAY AND LIST \n",
    " TIME COMPARISON BETWEEN PYTHON LISTS AND NUMPY ARRAYS \n",
    " Comparison between Numpy array and Python List\n",
    "# Python Lists\n",
    "\n",
    "\n",
    "Element Overhead:      Lists in Python store additional information about each element, such as its type and reference count. This overhead can be significant when dealing with a large number of elements\\\n",
    "Datatype:              Lists can hold different data types, but this can decrease memory efficiency and slow numerical operations.\\\n",
    "Memory Fragmentation:  Lists may not store elements in contiguous memory locations, causing memory fragmentation and inefficiency.\\\n",
    "Performance:           Lists are not optimized for numerical computations and may have slower mathematical operations due to Python’s interpretation overhead.              They are generally used as general-purpose data structures.\\\n",
    "Functionality:         Lists can store any data type, but lack specialized NumPy functions for numerical operations.\n",
    "\n",
    "# Numpy Arrays\n",
    "Homogeneous Data: NumPy arrays store elements of the same data type, making them more compact and memory-efficient than lists\\\n",
    "Fixed Data Type: NumPy arrays have a fixed data type, reducing memory overhead by eliminating the need to store type information for each element.\\\n",
    "Contiguous Memory: NumPy arrays store elements in adjacent memory locations, reducing fragmentation and allowing for efficient access.\\\n",
    "Array Metadata: NumPy arrays have extra metadata like shape, strides, and data type. However, this overhead is usually smaller than the per-element overhead in lists\\\n",
    "Performance: NumPy arrays are optimized for numerical computations, with efficient element-wise operations and mathematical functions. These operations are implemented in C, resulting in faster performance than equivalent operations on lists"
   ]
  },
  {
   "cell_type": "markdown",
   "id": "31d13627-1ccf-43e7-aeb3-21d2de656fa6",
   "metadata": {},
   "source": [
    "# 1. GRAPHICAL REPRESENTATION OF THE VALUES\n",
    "In Numpy, line plot displays data as a series of points connected by a line. It has a plot() function to line plot the data, which takes two arguments; x and y coordinate.\n",
    "\n",
    "Let's see an example."
   ]
  },
  {
   "cell_type": "code",
   "execution_count": 2,
   "id": "24f1b180-b795-46ba-8f8c-64567286afdb",
   "metadata": {
    "collapsed": true,
    "jupyter": {
     "outputs_hidden": true
    },
    "scrolled": true
   },
   "outputs": [
    {
     "data": {
      "image/png": "[encoded data removed]",
      "text/plain": [
       "<Figure size 640x480 with 1 Axes>"
      ]
     },
     "metadata": {},
     "output_type": "display_data"
    }
   ],
   "source": [
    "import numpy as np\n",
    "import matplotlib.pyplot as plt\n",
    "\n",
    "car = np.array([\"Caterham\", \"Tesla\", \"Audi\",  \"BMW\", \"Ford\", \"Jeep\"])\n",
    "#weight = np.array([0.48, 1.7, 2, 2, 2.3, 3 ])\n",
    "weight = [0.48, 1.7, 2, 2, 2.3, 3 ]\n",
    "plt.plot(car, weight)\n",
    "plt.show()"
   ]
  },
  {
   "cell_type": "markdown",
   "id": "10e58872-ab8b-46ec-8279-4240ed43e3ba",
   "metadata": {},
   "source": [
    "# 4. CREATION OF ARRAYS WITH EVENLY SPACED VALUES"
   ]
  },
  {
   "cell_type": "code",
   "execution_count": 13,
   "id": "203d4433-e615-4f68-968d-f206fc97e422",
   "metadata": {},
   "outputs": [
    {
     "name": "stdout",
     "output_type": "stream",
     "text": [
      "[ 2  3  5 77]\n",
      "<class 'numpy.ndarray'>\n"
     ]
    }
   ],
   "source": [
    "p=np.array([2,3,5,77])\n",
    "print(p)\n",
    "print(type(p))\n",
    "#we can pass a list, tuples or any array like object to create an array. and it will be converted into ndarray.\n"
   ]
  },
  {
   "cell_type": "code",
   "execution_count": 14,
   "id": "da154c71-a039-4959-abd5-4a1c132ed3de",
   "metadata": {},
   "outputs": [
    {
     "name": "stdout",
     "output_type": "stream",
     "text": [
      "[ 2 44 54 66]\n"
     ]
    }
   ],
   "source": [
    "q=(2,44,54,66)\n",
    "print(np.array(q))"
   ]
  },
  {
   "cell_type": "markdown",
   "id": "5598e20c-9036-4b5b-ba4a-0d5b31bfc291",
   "metadata": {},
   "source": [
    "# dimensions of the array\n",
    "dimension in array is one level of array depth.\\\n",
    "0-D array- scalers are elements in array. each value in array is a 0-D array."
   ]
  },
  {
   "cell_type": "markdown",
   "id": "845b1620-f403-42f9-830f-cb5518652a68",
   "metadata": {},
   "source": [
    "# ZERO-DIMENSIONAL ARRAYS IN NUMPY\n",
    "It's possible to create multidimensional arrays in numpy. Scalars are zero dimensional. In the following example, we will create the scalar 42. Applying the ndim method to our scalar, we get the dimension of the array. We can also see that the type is a \"numpy.ndarray\" type. "
   ]
  },
  {
   "cell_type": "code",
   "execution_count": 21,
   "id": "04d1f4fe-d6f1-4f9b-a421-21052ebf3ee0",
   "metadata": {},
   "outputs": [
    {
     "name": "stdout",
     "output_type": "stream",
     "text": [
      "42\n"
     ]
    }
   ],
   "source": [
    "print(np.array(42))"
   ]
  },
  {
   "cell_type": "code",
   "execution_count": 20,
   "id": "7721715f-f688-4858-ae91-476133f4a13d",
   "metadata": {},
   "outputs": [
    {
     "name": "stdout",
     "output_type": "stream",
     "text": [
      "0\n"
     ]
    }
   ],
   "source": [
    "print(np.ndim(42))"
   ]
  },
  {
   "cell_type": "markdown",
   "id": "4d010ee2-6f46-4cb5-92ec-1abf12878dc8",
   "metadata": {},
   "source": [
    "# ONE-DIMENSIONAL ARRAYS\n",
    " a 1-dimenional array - better known as vectors.\\\n",
    " The homogenous type of the array can be determined with the attribute \"dtype\", as we can learn from the following example:\n"
   ]
  },
  {
   "cell_type": "code",
   "execution_count": 22,
   "id": "11da5800-755c-49d4-a6c4-77354448019b",
   "metadata": {},
   "outputs": [
    {
     "name": "stdout",
     "output_type": "stream",
     "text": [
      "F is:  [ 1  1  2  3  5  8 13 21]\n",
      "V is:  [ 3.4  6.9 99.8 12.8]\n",
      "Type of F:  int64\n",
      "Type of V:  float64\n",
      "Dimension of F:  1\n",
      "Dimension of V:  1\n"
     ]
    }
   ],
   "source": [
    "F = np.array([1, 1, 2, 3, 5, 8, 13, 21]) \n",
    "V = np.array([3.4, 6.9, 99.8, 12.8])\n",
    "print(\"F is: \", F)\n",
    "print(\"V is: \", V)\n",
    "print(\"Type of F: \", F.dtype) \n",
    "print(\"Type of V: \", V.dtype) \n",
    "print(\"Dimension of F: \", np.ndim(F)) \n",
    "print(\"Dimension of V: \", np.ndim(V))\n"
   ]
  },
  {
   "cell_type": "markdown",
   "id": "4f961add-0589-406f-afb9-2c1664e13c07",
   "metadata": {},
   "source": [
    "# TWO AND MULTIDIMENSIONAL ARRAYS"
   ]
  },
  {
   "cell_type": "code",
   "execution_count": 12,
   "id": "43dc49a7-c648-477a-b104-0105f1890d12",
   "metadata": {},
   "outputs": [
    {
     "name": "stdout",
     "output_type": "stream",
     "text": [
      "[[22 43]\n",
      " [34 56]]\n"
     ]
    }
   ],
   "source": [
    "import numpy as np\n",
    "w=[[22,43],[34,56]]\n",
    "q=np.array(w)\n",
    "print(q)"
   ]
  },
  {
   "cell_type": "code",
   "execution_count": 10,
   "id": "63085d8f-a6d3-4d7f-9805-299ee470370f",
   "metadata": {},
   "outputs": [
    {
     "data": {
      "text/plain": [
       "2"
      ]
     },
     "execution_count": 10,
     "metadata": {},
     "output_type": "execute_result"
    }
   ],
   "source": [
    "np.ndim(q)"
   ]
  },
  {
   "cell_type": "code",
   "execution_count": 15,
   "id": "72d2b962-8b74-4824-afda-1c65a879fcba",
   "metadata": {},
   "outputs": [
    {
     "name": "stdout",
     "output_type": "stream",
     "text": [
      "3\n",
      "[[[22 43]\n",
      "  [34 56]]\n",
      "\n",
      " [[22 34]\n",
      "  [12 31]]]\n"
     ]
    }
   ],
   "source": [
    "o=[[[22,43],[34,56]],[[22,34],[12,31]]]\n",
    "p=np.array(o)\n",
    "print(np.ndim(p))\n",
    "print(p)"
   ]
  },
  {
   "cell_type": "markdown",
   "id": "e52f322b-6fd3-4508-978e-9d53b30cbe2c",
   "metadata": {},
   "source": [
    "# SHAPE OF AN ARRAY\n",
    "The function \"shape\" returns the shape of an array.\\\n",
    "The shape is a tuple of integers.\\\n",
    "These numbers denote the lengths of the corresponding array dimension.\\\n",
    "In other words: The \"shape\" of an array is a tuple with the number of elements per axis (dimension).\\\n",
    "In our example, the shape is equal to (6, 3), i.e. we have 6 lines and 3 columns.\\\n",
    "syntax= np.shape()\n",
    "# * numbers of braces in the starting and in the end tells about the dimensions of the array."
   ]
  },
  {
   "cell_type": "code",
   "execution_count": 16,
   "id": "47df9aad-e1ef-4ee3-8126-2ffa4042f465",
   "metadata": {},
   "outputs": [
    {
     "name": "stdout",
     "output_type": "stream",
     "text": [
      "3\n",
      "[[[22 43]\n",
      "  [34 56]]\n",
      "\n",
      " [[22 34]\n",
      "  [12 31]]]\n",
      "(2, 2, 2)\n"
     ]
    }
   ],
   "source": [
    "o=[[[22,43],[34,56]],[[22,34],[12,31]]]\n",
    "p=np.array(o)\n",
    "print(np.ndim(p))\n",
    "print(p)\n",
    "print(np.shape(p))"
   ]
  },
  {
   "cell_type": "code",
   "execution_count": 24,
   "id": "67ce8c06-6544-4883-aecc-03e78888d95a",
   "metadata": {},
   "outputs": [
    {
     "name": "stdout",
     "output_type": "stream",
     "text": [
      "(4, 2, 3)\n"
     ]
    },
    {
     "data": {
      "text/plain": [
       "3"
      ]
     },
     "execution_count": 24,
     "metadata": {},
     "output_type": "execute_result"
    }
   ],
   "source": [
    "B = np.array([ [[111, 112, 113], [121, 122, 123]], [[211, 212, 213], [221, 222, 223]], \n",
    "              [[311, 312, 313], [321, 322, 323]], [[411, 412, 413], [421, 422, 423]] ]) \n",
    "print(B.shape)\n",
    "np.ndim(B)"
   ]
  },
  {
   "cell_type": "code",
   "execution_count": 25,
   "id": "e5f44ef4-2d98-42b8-88ca-008240466977",
   "metadata": {},
   "outputs": [
    {
     "name": "stdout",
     "output_type": "stream",
     "text": [
      "5\n"
     ]
    }
   ],
   "source": [
    "C=[[[[[1,2,3,4,5]]]]]\n",
    "print(np.ndim(np.array(C)))"
   ]
  },
  {
   "cell_type": "markdown",
   "id": "8982b5f7-eb87-4be1-9af9-fb3b98b07664",
   "metadata": {},
   "source": [
    "# INDEXING AND SLICING\n",
    "\n",
    "Assigning to and accessing the elements of an array is similar to other sequential data types of Python, i.e. lists and tuples. We have also many options to indexing, which makes indexing in Numpy very powerful and similar to the indexing of lists and tuples."
   ]
  },
  {
   "cell_type": "code",
   "execution_count": 28,
   "id": "49697c15-000b-4b11-a41a-a87487ee1b1d",
   "metadata": {},
   "outputs": [
    {
     "name": "stdout",
     "output_type": "stream",
     "text": [
      "8\n",
      "13\n"
     ]
    }
   ],
   "source": [
    "F = np.array([1, 1, 2, 3, 5, 8, 13, 21]) \n",
    "print(F[5])\n",
    "print(F[-2])"
   ]
  },
  {
   "cell_type": "code",
   "execution_count": 29,
   "id": "314087c6-7e09-43d0-b4b4-66a2b98d6ee9",
   "metadata": {},
   "outputs": [
    {
     "name": "stdout",
     "output_type": "stream",
     "text": [
      "1.1\n"
     ]
    }
   ],
   "source": [
    "A = np.array([ [3.4, 8.7, 9.9], [1.1, -7.8, -0.7], [4.1, 12.3, 4.8]]) \n",
    "print(A[1][0])\n"
   ]
  },
  {
   "cell_type": "code",
   "execution_count": 31,
   "id": "984bb211-b344-45e1-97da-71d9dbdb395c",
   "metadata": {},
   "outputs": [
    {
     "name": "stdout",
     "output_type": "stream",
     "text": [
      "[2 3 4]\n",
      "[0 1 2 3]\n",
      "[6 7 8 9]\n",
      "[0 1 2 3 4 5 6 7 8 9]\n"
     ]
    }
   ],
   "source": [
    "#A[start:stop:step] We illustrate the operating principle of \"slicing\" with some examples. We start with the easiest case, i.e.the slicing of a one-dimensional array:\n",
    "S = np.array([0, 1, 2, 3, 4, 5, 6, 7, 8, 9]) \n",
    "print(S[2:5]) \n",
    "print(S[:4]) \n",
    "print(S[6:])\n",
    "print(S[:])"
   ]
  },
  {
   "cell_type": "code",
   "execution_count": 32,
   "id": "8f9d302b-cbf2-4143-ae68-a12b9dcd4842",
   "metadata": {},
   "outputs": [
    {
     "name": "stdout",
     "output_type": "stream",
     "text": [
      "422\n"
     ]
    }
   ],
   "source": [
    "B = np.array([ [[111, 112, 113], [121, 122, 123]], [[211, 212, 213], [221, 222, 223]], \n",
    "              [[311, 312, 313], [321, 322, 323]], [[411, 412, 413], [421, 422, 423]] ])\n",
    "print(B[3,1,1])"
   ]
  },
  {
   "cell_type": "markdown",
   "id": "72819005-0a1a-491b-9329-1d50da8268b6",
   "metadata": {},
   "source": [
    "# slicing\n",
    "Slicing in python means taking elements from one given index to another given index.\n",
    "\n",
    "We pass slice instead of index like this: [start:end].\n",
    "\n",
    "We can also define the step, like this: [start:end:step].\n",
    "\n",
    "If we don't pass start its considered 0\n",
    "\n",
    "If we don't pass end its considered length of array in that dimension\n",
    "\n",
    "If we don't pass step its considered 1"
   ]
  },
  {
   "cell_type": "code",
   "execution_count": null,
   "id": "1eb0174f-6c9c-40dd-bc06-1933e2ca8edd",
   "metadata": {},
   "outputs": [],
   "source": []
  },
  {
   "cell_type": "code",
   "execution_count": 3,
   "id": "087288cf-3808-457f-a8b7-14b511e7aba4",
   "metadata": {},
   "outputs": [
    {
     "name": "stdout",
     "output_type": "stream",
     "text": [
      "[7 8 9]\n"
     ]
    }
   ],
   "source": [
    "import numpy as np\n",
    "arr = np.array([[1, 2, 3, 4, 5], [6, 7, 8, 9, 10]])\n",
    "print(arr[1, 1:4])"
   ]
  },
  {
   "cell_type": "markdown",
   "id": "22147cff-3c1d-44b6-bbc4-fd96e15d99bc",
   "metadata": {},
   "source": [
    "# ARANGE\n",
    "-arange returns evenly spaced values within a given interval\\\n",
    "-The values are generated within the half-open interval '[start, stop)' If the function is used with integers, it is nearly equivalent to the Python built-in function range, but arange returns an ndarray rather than a list iterator as range does.\\\n",
    "-If the 'start' parameter is not given, it will be set to 0\\\n",
    "-The end of the interval is determined by the parameter 'stop'.\\\n",
    "-Usually, the interval will not include this value, except in some cases where 'step' is not an integer and floating point round-off affects the length of output ndarray.\\\n",
    "-The spacing between two adjacent values of the output array is set with the optional parameter 'step'. The default value for 'step' is 1.\n",
    "\n",
    "-The syntax of arange: arange([start,] stop[, step], [, dtype=None])\n"
   ]
  },
  {
   "cell_type": "code",
   "execution_count": 33,
   "id": "c39a22d7-4252-4668-b990-63d7c2d05f4a",
   "metadata": {},
   "outputs": [
    {
     "name": "stdout",
     "output_type": "stream",
     "text": [
      "[1 2 3 4 5 6 7 8 9]\n"
     ]
    }
   ],
   "source": [
    "a = np.arange(1, 10) \n",
    "print(a) "
   ]
  },
  {
   "cell_type": "code",
   "execution_count": 34,
   "id": "0782e52c-1aa7-41ef-ab28-eea6d208108e",
   "metadata": {},
   "outputs": [
    {
     "name": "stdout",
     "output_type": "stream",
     "text": [
      "[ 0.  1.  2.  3.  4.  5.  6.  7.  8.  9. 10.]\n"
     ]
    }
   ],
   "source": [
    "x = np.arange(10.4) \n",
    "print(x) "
   ]
  },
  {
   "cell_type": "markdown",
   "id": "79034446-abb1-42b6-bb4c-7872c8c1fbe1",
   "metadata": {},
   "source": [
    "The help of arange has to say the following for the stop parameter: \"End of interval. The interval does not include this value, except in some cases where step is not an integer and floating point round-off affects the length of out . This is what happened in our example.\n"
   ]
  },
  {
   "cell_type": "markdown",
   "id": "1d85fedc-3be8-4d7b-aeaa-a581ccf9fc23",
   "metadata": {},
   "source": [
    "# LINSPACE\n",
    "-linspace returns an ndarray, consisting of 'num' equally spaced samples in the closed interval [start, stop] or the half-open interval [start, stop).\\\n",
    "-If a closed or a half-open interval will be returned, depends on whether 'endpoint' is True or False. The parameter 'start' defines the start value of the sequence which will be created. 'stop' will the end value of the sequence, unless 'endpoint' is set to False. In the latter case, the resulting sequence will consist of all but the last of 'num + 1' evenly spaced samples. This means that 'stop' is excluded.\n",
    "\n",
    "-linspace(start, stop, num=50, endpoint=True, retstep=False) \n",
    "\n",
    "-We haven't discussed one interesting parameter so far. If the optional parameter 'retstep' is set, the function will also return the value of the spacing between adjacent values. So, the function will return a tuple ('samples', 'step'): \n",
    "\n",
    "- The number of samples to be generated can be set with 'num', which defaults to 50. If the optional parameter 'endpoint' is set to True (the default), 'stop' will be the last sample of the sequence. Otherwise, it is not included. "
   ]
  },
  {
   "cell_type": "code",
   "execution_count": 36,
   "id": "39c1f30b-c719-4ae0-af9c-f33e2d141348",
   "metadata": {},
   "outputs": [
    {
     "name": "stdout",
     "output_type": "stream",
     "text": [
      "[ 1.          1.18367347  1.36734694  1.55102041  1.73469388  1.91836735\n",
      "  2.10204082  2.28571429  2.46938776  2.65306122  2.83673469  3.02040816\n",
      "  3.20408163  3.3877551   3.57142857  3.75510204  3.93877551  4.12244898\n",
      "  4.30612245  4.48979592  4.67346939  4.85714286  5.04081633  5.2244898\n",
      "  5.40816327  5.59183673  5.7755102   5.95918367  6.14285714  6.32653061\n",
      "  6.51020408  6.69387755  6.87755102  7.06122449  7.24489796  7.42857143\n",
      "  7.6122449   7.79591837  7.97959184  8.16326531  8.34693878  8.53061224\n",
      "  8.71428571  8.89795918  9.08163265  9.26530612  9.44897959  9.63265306\n",
      "  9.81632653 10.        ]\n"
     ]
    }
   ],
   "source": [
    "print(np.linspace(1, 10))"
   ]
  },
  {
   "cell_type": "markdown",
   "id": "025b11c2-91da-43e6-9960-9ab0c2b8f341",
   "metadata": {},
   "source": [
    "# CREATING ARRAYS WITH ONES, ZEROS AND EMPTY\n",
    "There are two ways of initializing Arrays with Zeros or Ones. The method ones(t) takes a tuple t with the shape of the array and fills the array accordingly with ones. By default it will be filled with Ones of type float. If you need integer Ones, you have to set the optional parameter dtype to int: "
   ]
  },
  {
   "cell_type": "code",
   "execution_count": 3,
   "id": "882a0fec-4463-46d0-8f29-a6d78a28da9c",
   "metadata": {},
   "outputs": [
    {
     "name": "stdout",
     "output_type": "stream",
     "text": [
      "[[1. 1. 1.]\n",
      " [1. 1. 1.]]\n"
     ]
    }
   ],
   "source": [
    "import numpy as np\n",
    "p=np.ones((2,3))\n",
    "print(p)"
   ]
  },
  {
   "cell_type": "code",
   "execution_count": 6,
   "id": "2ee8db9b-6c12-4768-bdbb-4e63d3b8b33b",
   "metadata": {},
   "outputs": [
    {
     "name": "stdout",
     "output_type": "stream",
     "text": [
      "[[1 1 1 1 1]\n",
      " [1 1 1 1 1]\n",
      " [1 1 1 1 1]]\n"
     ]
    }
   ],
   "source": [
    "E= np.ones((3,5),dtype=int)\n",
    "print(E)"
   ]
  },
  {
   "cell_type": "code",
   "execution_count": 9,
   "id": "00fe96df-60f1-4fa5-8d68-b31c855fe617",
   "metadata": {},
   "outputs": [
    {
     "name": "stdout",
     "output_type": "stream",
     "text": [
      "[[0. 0. 0. 0. 0.]\n",
      " [0. 0. 0. 0. 0.]\n",
      " [0. 0. 0. 0. 0.]\n",
      " [0. 0. 0. 0. 0.]]\n"
     ]
    }
   ],
   "source": [
    "#What we have said about the method ones() is valid for the method zeros() analogously, as we can see in the following example:\n",
    "P=np.zeros((4,5))\n",
    "print(P)"
   ]
  },
  {
   "cell_type": "code",
   "execution_count": 10,
   "id": "2de21347-c3b9-4d72-9b21-dce890a8cf9d",
   "metadata": {},
   "outputs": [
    {
     "name": "stdout",
     "output_type": "stream",
     "text": [
      "[[0. 0. 0.]\n",
      " [0. 0. 0.]]\n"
     ]
    }
   ],
   "source": [
    "# #There is another interesting way to create an array with Ones or with Zeros, if it has to have the same shape as another existing array 'a'. Numpy \n",
    "# supplies for this purpose the methods ones_like(a) and zeros_like(a).\n",
    "q=np.zeros_like(p)\n",
    "print(q)"
   ]
  },
  {
   "cell_type": "code",
   "execution_count": 11,
   "id": "0680bb1d-262d-48ee-8a21-99268adc7232",
   "metadata": {},
   "outputs": [
    {
     "name": "stdout",
     "output_type": "stream",
     "text": [
      "[1 1 1 1 1]\n"
     ]
    }
   ],
   "source": [
    "x = np.array([2,5,18,14,4]) \n",
    "E = np.ones_like(x) \n",
    "print(E) "
   ]
  },
  {
   "cell_type": "code",
   "execution_count": 14,
   "id": "524bb244-00ec-4c3e-a8d7-530e38a3785b",
   "metadata": {},
   "outputs": [
    {
     "data": {
      "text/plain": [
       "array([[6.23042070e-307, 4.67296746e-307, 1.69121096e-306,\n",
       "        4.67288598e-307],\n",
       "       [2.67020271e-306, 1.42413555e-306, 1.78019082e-306,\n",
       "        4.79243676e-322]])"
      ]
     },
     "execution_count": 14,
     "metadata": {},
     "output_type": "execute_result"
    }
   ],
   "source": [
    "#np.empty((2, 4)) by empty function we can create an array of given shape \n",
    "#There is also a way of creating an array with the empty function.\n",
    "#It creates and returns a reference to a new array of given shape and type, without initializing the entries. \n",
    "#Sometimes the entries are zeros, but you shouldn't be mislead.\n",
    "#Usually, they are arbitrary values.\n",
    "\n",
    "np.empty((2, 4))"
   ]
  },
  {
   "cell_type": "code",
   "execution_count": 13,
   "id": "fac0872e-a8b2-44c4-9cfe-483120100283",
   "metadata": {},
   "outputs": [
    {
     "data": {
      "text/plain": [
       "array([[0.00000000e+000, 9.64633965e-312],\n",
       "       [9.64631753e-312, 9.64631753e-312]])"
      ]
     },
     "execution_count": 13,
     "metadata": {},
     "output_type": "execute_result"
    }
   ],
   "source": [
    "np.empty((2, 2))"
   ]
  },
  {
   "cell_type": "markdown",
   "id": "85abe654-5689-4081-b1ae-1994a95df18e",
   "metadata": {},
   "source": [
    "# COPYING ARRAYS"
   ]
  },
  {
   "cell_type": "markdown",
   "id": "15530ead-2be3-4c10-9820-5934295e21ab",
   "metadata": {},
   "source": [
    "# NDARRAY.COPY()\n",
    "The ndarray.copy() method returns a copy of the array.\n",
    "\n",
    "It is used to create a new array that is a copy of an existing array but does not share memory with it. This means that making any changes to the original array won’t affect the existing array."
   ]
  },
  {
   "cell_type": "code",
   "execution_count": 31,
   "id": "b3bfcfa6-a4e8-4c44-9406-8db764d51516",
   "metadata": {},
   "outputs": [
    {
     "name": "stdout",
     "output_type": "stream",
     "text": [
      "Original array: \n",
      "[ 1.54  2.99  3.42  4.87  6.94  8.21  7.65 10.5  77.5 ]\n",
      "\n",
      "Copied array: \n",
      "[ 1.54  2.99  3.42  4.87  6.94  8.21  7.65 10.5  77.5 ]\n"
     ]
    }
   ],
   "source": [
    "# NUMPY.COPY()\n",
    "# importing Numpy package\n",
    "import numpy as np\n",
    "\n",
    "# Creating a numpy array using np.array()\n",
    "org_array = np.array([1.54, 2.99, 3.42, 4.87, 6.94,\n",
    "\t\t\t\t\t8.21, 7.65, 10.50, 77.5])\n",
    "\n",
    "print(\"Original array: \")\n",
    "\n",
    "# printing the Numpy array\n",
    "print(org_array)\n",
    "\n",
    "# Now copying the org_array to copy_array\n",
    "# using np.copy() function\n",
    "copy_array = np.ndarray.copy(org_array)\n",
    "\n",
    "print(\"\\nCopied array: \")\n",
    "\n",
    "# printing the copied Numpy array\n",
    "print(copy_array)\n"
   ]
  },
  {
   "attachments": {},
   "cell_type": "markdown",
   "id": "acb28b86-e846-4155-aa2c-9f9067c01579",
   "metadata": {},
   "source": [
    "# IDENTITY ARRAY\n",
    "In linear algebra, the identity matrix, or unit matrix, of size n is the n × n square matrix with ones on the main diagonal and zeros elsewhere. \n",
    "\n",
    "There are two ways in Numpy to create identity arrays: \n",
    "\n",
    "• identy \n",
    "\n",
    "• eye\n",
    "\n",
    "\n",
    "    Parameter                                                                                 Meaning\n",
    "      n                                      An integer number defining the number of rows and columns of the output, i.e. 'n' x 'n'\\\n",
    "      \n",
    "    dtype                                    An optional argument, defining the data-type of the output. The default is 'floa\\"
   ]
  },
  {
   "cell_type": "code",
   "execution_count": 3,
   "id": "66a009f8-0e82-4f5e-802d-2b214537e9ca",
   "metadata": {},
   "outputs": [
    {
     "data": {
      "text/plain": [
       "array([[1., 0., 0., 0.],\n",
       "       [0., 1., 0., 0.],\n",
       "       [0., 0., 1., 0.],\n",
       "       [0., 0., 0., 1.]])"
      ]
     },
     "execution_count": 3,
     "metadata": {},
     "output_type": "execute_result"
    }
   ],
   "source": [
    "import numpy as np \n",
    "print(np.identity(4)\n"
   ]
  },
  {
   "cell_type": "code",
   "execution_count": 4,
   "id": "f77efbb2-e4d4-4385-94f8-e6b6bafdbb82",
   "metadata": {},
   "outputs": [
    {
     "data": {
      "text/plain": [
       "array([[1, 0, 0, 0],\n",
       "       [0, 1, 0, 0],\n",
       "       [0, 0, 1, 0],\n",
       "       [0, 0, 0, 1]])"
      ]
     },
     "execution_count": 4,
     "metadata": {},
     "output_type": "execute_result"
    }
   ],
   "source": [
    "np.identity(4, dtype=int) "
   ]
  },
  {
   "cell_type": "markdown",
   "id": "8cce2029-1266-4f12-b41f-c28c2a37894c",
   "metadata": {},
   "source": [
    "# THE EYE FUNCTION\n",
    "THE EYE FUNCTION\\\n",
    "Another way to create identity arrays provides the function eye. This function creates also diagonal arrays consisting solely of ones. It returns a 2-D array with ones on the diagonal and zeros elsewhere. eye(N, M=None, k=0, dtype=float)\n",
    "\n",
    "\n",
    "    Parameter                                                                  Meaning\\\n",
    "     N                                             An integer number defining the rows of the output array.\\\n",
    "     M                              An optional integer for setting the number of columns in the output. If it is None, it defaults to 'N'.\n",
    "      k                              Defining the position of the diagonal. The default is 0. 0 refers to the main diagonal.\\\n",
    "                            A positive value refers to an upper diagonal, and a negative value to a lower diagonal.\\\n",
    "dtype                                  Optional data-type of the returned array\\\n",
    "eye returns an ndarray of shape (N,M). All elements of this array are equal to zero, except for the 'k'-th diagonal, whose values are equal to one. "
   ]
  },
  {
   "cell_type": "code",
   "execution_count": 5,
   "id": "cbbf85c5-1f0c-40f9-befc-2db6c3b2a5c1",
   "metadata": {},
   "outputs": [
    {
     "data": {
      "text/plain": [
       "array([[0, 1, 0, 0, 0, 0, 0, 0],\n",
       "       [0, 0, 1, 0, 0, 0, 0, 0],\n",
       "       [0, 0, 0, 1, 0, 0, 0, 0],\n",
       "       [0, 0, 0, 0, 1, 0, 0, 0],\n",
       "       [0, 0, 0, 0, 0, 1, 0, 0]])"
      ]
     },
     "execution_count": 5,
     "metadata": {},
     "output_type": "execute_result"
    }
   ],
   "source": [
    "import numpy as np \n",
    "np.eye(5, 8, k=1, dtype=int)\n"
   ]
  },
  {
   "cell_type": "markdown",
   "id": "745dbc4c-4ed9-4150-a910-1d7c6cd35faa",
   "metadata": {},
   "source": [
    "# DTYPE\n",
    "types of data in numpy\n",
    "i for integer\\\n",
    "b for boolean\\\n",
    "u for unsigned integer\\\n",
    "f for float\\\n",
    "c for complex float\\\n",
    "m for timedelta\\\n",
    "M for datetime\\\n",
    "O for Object\\\n",
    "S for string\\\n",
    "U for unicode string\\\n",
    "V memory"
   ]
  },
  {
   "cell_type": "markdown",
   "id": "174934ae-84f0-476d-8974-d981a55ed654",
   "metadata": {},
   "source": [
    "# STRUCTURED ARRAY\n",
    "\n",
    "The data type object 'dtype' is an instance of numpy.dtype class. It can be created with numpy.dtype. \n",
    "These numpy arrays contained solely homogenous data types. dtype objects are construed by combinations of fundamental data types.\n",
    "With the aid of dtype we are capable to create \"Structured Arrays\", - also known as \"Record Arrays\".\n",
    ". This makes it possibe to define data like the one in the following table with dtype:\\\n",
    "\n",
    "\n",
    "           Country       Population         Density     Area Population\n",
    "           Netherlands     393              41526        16,928,800\n",
    "           Belgium         337              30510        11,007,020\n",
    "           United Kingdom  256              243610       62,262,000\n",
    "           Germany         233              357021       81,799,600\n",
    "\n",
    "#UNICODE STRINGS IN ARRAY \n",
    "\n",
    "#INPUT AND OUTPUT OF STRUCTURED ARRAYS "
   ]
  },
  {
   "cell_type": "code",
   "execution_count": 35,
   "id": "bcdc5ef5-2277-426c-9df3-417d30c56621",
   "metadata": {},
   "outputs": [
    {
     "data": {
      "text/plain": [
       "array([[ 3,  8,  9],\n",
       "       [ 1, -7,  0],\n",
       "       [ 4, 12,  4]], dtype=int32)"
      ]
     },
     "execution_count": 35,
     "metadata": {},
     "output_type": "execute_result"
    }
   ],
   "source": [
    "lst = [ [3.4, 8.7, 9.9], [1.1, -7.8, -0.7], [4.1, 12.3, 4.8] ] \n",
    "A = np.array(lst, dtype='i') \n",
    "A"
   ]
  },
  {
   "cell_type": "code",
   "execution_count": 37,
   "id": "3046fc09-2f83-4185-a4f2-2845e737b26e",
   "metadata": {},
   "outputs": [
    {
     "data": {
      "text/plain": [
       "array([2., 3., 4., 5., 6., 7., 8.], dtype=float32)"
      ]
     },
     "execution_count": 37,
     "metadata": {},
     "output_type": "execute_result"
    }
   ],
   "source": [
    "# we cannot directly cahnge the datatype of a function in order to do that we will have to store that data inside another variable and then astype(\"datatype\")\n",
    "p=np.array(range(2,9))\n",
    "p1=p.astype('f')\n",
    "p1"
   ]
  },
  {
   "cell_type": "code",
   "execution_count": 46,
   "id": "460400d0-7175-4b80-a6cc-1832164b4b8c",
   "metadata": {},
   "outputs": [
    {
     "name": "stdout",
     "output_type": "stream",
     "text": [
      "[ True  True False]\n"
     ]
    }
   ],
   "source": [
    "x = np.array([2,1,0])\n",
    "X1=x.astype(bool)\n",
    "print(X1)"
   ]
  },
  {
   "cell_type": "code",
   "execution_count": 49,
   "id": "90ed3f0e-30fa-4a3f-b720-d39841d7ea47",
   "metadata": {},
   "outputs": [
    {
     "name": "stdout",
     "output_type": "stream",
     "text": [
      "[(b'Netherlands', 393,  41526, 16928800)\n",
      " (b'Belgium', 337,  30510, 11007020)\n",
      " (b'United Kingdom', 256, 243610, 62262000)\n",
      " (b'Germany', 233, 357021, 81799600)\n",
      " (b'Liechtenstein', 205,    160,    32842)\n",
      " (b'Italy', 192, 301230, 59715625) (b'Switzerland', 177,  41290,  7301994)\n",
      " (b'Luxembourg', 173,   2586,   512000) (b'France', 111, 547030, 63601002)\n",
      " (b'Austria',  97,  83858,  8169929) (b'Greece',  81, 131940, 11606813)\n",
      " (b'Ireland',  65,  70280,  4581269) (b'Sweden',  20, 449964,  9515744)\n",
      " (b'Finland',  16, 338424,  5410233) (b'Norway',  13, 385252,  5033675)]\n"
     ]
    }
   ],
   "source": [
    "dt = np.dtype([('country', 'S20'), ('density', 'i4'), ('area', 'i 4'), ('population', 'i4')]) \n",
    "population_table = np.array([ ('Netherlands', 393, 41526, 16928800), \n",
    "                             ('Belgium', 337, 30510, 11007020), \n",
    "                             ('United Kingdom', 256, 243610, 62262000), \n",
    "                             ('Germany', 233, 357021, 81799600), \n",
    "                             ('Liechtenstein', 205, 160, 32842), \n",
    "                             ('Italy', 192, 301230, 59715625), \n",
    "                             ('Switzerland', 177, 41290, 7301994), \n",
    "                             ('Luxembourg', 173, 2586, 512000), \n",
    "                             ('France', 111, 547030, 63601002), \n",
    "                             ('Austria', 97, 83858, 8169929), \n",
    "                             ('Greece', 81, 131940, 11606813), \n",
    "                             ('Ireland', 65, 70280, 4581269), \n",
    "                             ('Sweden', 20, 449964, 9515744), \n",
    "                             ('Finland', 16, 338424, 5410233), \n",
    "                             ('Norway', 13, 385252, 5033675)], dtype=dt) \n",
    "print(population_table)\n"
   ]
  },
  {
   "cell_type": "code",
   "execution_count": 51,
   "id": "51d26f63-f3cd-4d15-b963-0553b517524a",
   "metadata": {
    "collapsed": true,
    "jupyter": {
     "outputs_hidden": true
    },
    "scrolled": true
   },
   "outputs": [
    {
     "ename": "NameError",
     "evalue": "name 'cities_and_times' is not defined",
     "output_type": "error",
     "traceback": [
      "\u001b[1;31m---------------------------------------------------------------------------\u001b[0m",
      "\u001b[1;31mNameError\u001b[0m                                 Traceback (most recent call last)",
      "Cell \u001b[1;32mIn[51], line 2\u001b[0m\n\u001b[0;32m      1\u001b[0m time_type \u001b[38;5;241m=\u001b[39m np\u001b[38;5;241m.\u001b[39mdtype([(\u001b[38;5;124m'\u001b[39m\u001b[38;5;124mcity\u001b[39m\u001b[38;5;124m'\u001b[39m, \u001b[38;5;124m'\u001b[39m\u001b[38;5;124mU30\u001b[39m\u001b[38;5;124m'\u001b[39m), (\u001b[38;5;124m'\u001b[39m\u001b[38;5;124mday\u001b[39m\u001b[38;5;124m'\u001b[39m, \u001b[38;5;124m'\u001b[39m\u001b[38;5;124mU3\u001b[39m\u001b[38;5;124m'\u001b[39m), (\u001b[38;5;124m'\u001b[39m\u001b[38;5;124mtime\u001b[39m\u001b[38;5;124m'\u001b[39m, [(\u001b[38;5;124m'\u001b[39m\u001b[38;5;124mh\u001b[39m\u001b[38;5;124m'\u001b[39m, \u001b[38;5;28mint\u001b[39m), (\u001b[38;5;124m'\u001b[39m\u001b[38;5;124mmin\u001b[39m\u001b[38;5;124m'\u001b[39m, \u001b[38;5;28mint\u001b[39m)])]) \n\u001b[1;32m----> 2\u001b[0m times \u001b[38;5;241m=\u001b[39m np\u001b[38;5;241m.\u001b[39marray( \u001b[43mcities_and_times\u001b[49m , dtype\u001b[38;5;241m=\u001b[39mtime_type) \n\u001b[0;32m      3\u001b[0m \u001b[38;5;28mprint\u001b[39m(times[\u001b[38;5;124m'\u001b[39m\u001b[38;5;124mtime\u001b[39m\u001b[38;5;124m'\u001b[39m]) \n\u001b[0;32m      4\u001b[0m \u001b[38;5;28mprint\u001b[39m(times[\u001b[38;5;124m'\u001b[39m\u001b[38;5;124mcity\u001b[39m\u001b[38;5;124m'\u001b[39m]) \n",
      "\u001b[1;31mNameError\u001b[0m: name 'cities_and_times' is not defined"
     ]
    }
   ],
   "source": [
    "time_type = np.dtype([('city', 'U30'), ('day', 'U3'), ('time', [('h', int), ('min', int)])]) \n",
    "times = np.array( cities_and_times , dtype=time_type) \n",
    "print(times['time']) \n",
    "print(times['city']) \n",
    "x = times[27] \n",
    "x[0]\n",
    "\n"
   ]
  },
  {
   "cell_type": "markdown",
   "id": "9abedf10-97cf-4248-bf97-33f1c34119d8",
   "metadata": {},
   "source": [
    "# 5. NUMERICAL OPERATIONS ON NUMPY ARRAYS\n",
    "We can, for example, add a scalar to an ndarrays, i.e. the scalar will be added to every component. The same is possible for subtraction, division, multiplication and even for applying functions, like sine, cosine and so on, to an array. It is also extremely easy to use all these operators on two arrays as well."
   ]
  },
  {
   "cell_type": "code",
   "execution_count": 3,
   "id": "60173bc8-9636-48dd-9336-7699a7107558",
   "metadata": {},
   "outputs": [
    {
     "name": "stdout",
     "output_type": "stream",
     "text": [
      "[ 4.    5.    9.9   5.3   8.9   2.11 12.3  14.9 ]\n",
      "[ 8.8   11.    21.78  11.66  19.58   4.642 27.06  32.78 ]\n",
      "[ 2.62  3.62  8.52  3.92  7.52  0.73 10.92 13.52]\n",
      "[ 16.      25.      98.01    28.09    79.21     4.4521 151.29   222.01  ]\n",
      "[ 8.         11.18033989 31.14962279 12.2015163  26.55125232  3.06495204\n",
      " 43.13776768 57.51477202]\n"
     ]
    }
   ],
   "source": [
    "# USING SCALARS\n",
    "import numpy as np \n",
    "lst = [2,3, 7.9, 3.3, 6.9, 0.11, 10.3, 12.9] \n",
    "v = np.array(lst) \n",
    "v = v + 2\n",
    "print(v)\n",
    "print(v * 2.2)\n",
    "print(v - 1.38)\n",
    "print(v ** 2) \n",
    "print(v ** 1.5)\n"
   ]
  },
  {
   "cell_type": "code",
   "execution_count": 5,
   "id": "951d5bee-600d-4230-8787-6342ff3ffb08",
   "metadata": {},
   "outputs": [
    {
     "name": "stdout",
     "output_type": "stream",
     "text": [
      "[4, 5, 9.9, 5.3, 8.9, 2.11, 12.3, 14.9]\n"
     ]
    }
   ],
   "source": [
    "lst = [2,3, 7.9, 3.3, 6.9, 0.11, 10.3, 12.9] \n",
    "res = [] \n",
    "for val in lst: \n",
    "    res.append(val + 2) \n",
    "print(res)\n"
   ]
  },
  {
   "cell_type": "code",
   "execution_count": 6,
   "id": "d5578c96-785d-4557-b01a-1f1616efcdea",
   "metadata": {},
   "outputs": [
    {
     "name": "stdout",
     "output_type": "stream",
     "text": [
      "[4, 5, 9.9, 5.3, 8.9, 2.11, 12.3, 14.9]\n"
     ]
    }
   ],
   "source": [
    "res = [ val + 2 for val in lst] \n",
    "print(res)\n"
   ]
  },
  {
   "cell_type": "markdown",
   "id": "6357f5c7-71c6-4df3-acd5-2aa0b65546d2",
   "metadata": {},
   "source": [
    "# ARITHMETIC OPERATIONS WITH TWO ARRAYS"
   ]
  },
  {
   "cell_type": "code",
   "execution_count": 12,
   "id": "7af4f4b9-a7cc-4420-8d74-2906f1596de5",
   "metadata": {},
   "outputs": [
    {
     "name": "stdout",
     "output_type": "stream",
     "text": [
      "[[1. 1. 1.]\n",
      " [1. 1. 1.]\n",
      " [1. 1. 1.]]\n",
      "[[11 12 13]\n",
      " [21 22 23]\n",
      " [31 32 33]]\n",
      "Adding to arrays: \n",
      "[[12. 13. 14.]\n",
      " [22. 23. 24.]\n",
      " [32. 33. 34.]]\n",
      "\n",
      "Multiplying two arrays: \n",
      "[[11. 12. 13.]\n",
      " [21. 22. 23.]\n",
      " [31. 32. 33.]]\n"
     ]
    }
   ],
   "source": [
    "import numpy as np \n",
    "A = np.array([ [11, 12, 13], [21, 22, 23], [31, 32, 33] ]) \n",
    "B = np.ones((3,3))  \n",
    "print(B)\n",
    "print(A)\n",
    "print(\"Adding to arrays: \") \n",
    "print(A + B) \n",
    "print(\"\\nMultiplying two arrays: \") \n",
    "print(A * B)\n",
    "# \"A * B\" in the previous example shouldn't be mistaken for matrix multiplication. The elements are solely component-wise multiplied.\n",
    "\n"
   ]
  },
  {
   "cell_type": "markdown",
   "id": "f38606d9-5b34-469d-b475-a63840a64156",
   "metadata": {},
   "source": [
    "# MATRIX MULTIPLICATION\n",
    "For this purpose, we can use the dot product. Using the previous arrays, we can calculate the matrix multiplication:\n",
    "The dot product is defined like this: dot(a, b, out=None) For 2-D arrays the dot product is equivalent to matrix multiplication. For 1-D arrays it is the same as the inner product of vectors (without complex conjugation). For N dimensions it is a sum product over the last axis of 'a' and the second-to-last of 'b'::"
   ]
  },
  {
   "cell_type": "code",
   "execution_count": 13,
   "id": "b75c8be1-aa56-477b-b26d-806d0a3bc027",
   "metadata": {},
   "outputs": [
    {
     "name": "stdout",
     "output_type": "stream",
     "text": [
      "[[11 12 13]\n",
      " [21 22 23]\n",
      " [31 32 33]]\n",
      "[[1. 1. 1.]\n",
      " [1. 1. 1.]\n",
      " [1. 1. 1.]]\n"
     ]
    },
    {
     "data": {
      "text/plain": [
       "array([[36., 36., 36.],\n",
       "       [66., 66., 66.],\n",
       "       [96., 96., 96.]])"
      ]
     },
     "execution_count": 13,
     "metadata": {},
     "output_type": "execute_result"
    }
   ],
   "source": [
    "print(A)\n",
    "print(B)\n",
    "np.dot(A, B)\n"
   ]
  },
  {
   "attachments": {},
   "cell_type": "markdown",
   "id": "45b0dc89-d9b7-405a-8c33-8c8142499e22",
   "metadata": {},
   "source": [
    "# DEFINITION OF THE DOT PRODUCT\n",
    "\n",
    "The function dot returns the dot product of 'a' and 'b'. If 'a' and 'b' are both scalars or both 1-D arrays then a scalar is returned; otherwise an array will returned. "
   ]
  },
  {
   "cell_type": "code",
   "execution_count": 14,
   "id": "cdc459a9-d54e-42b1-a0fe-69b21c63caaf",
   "metadata": {},
   "outputs": [
    {
     "name": "stdout",
     "output_type": "stream",
     "text": [
      "12\n",
      "1\n",
      "12\n",
      "-14\n"
     ]
    }
   ],
   "source": [
    "print(np.dot(3, 4)) \n",
    "x = np.array([3]) \n",
    "y = np.array([4]) \n",
    "print(x.ndim) \n",
    "print(np.dot(x, y)) \n",
    "x = np.array([3, -2]) \n",
    "y = np.array([-4, 1]) \n",
    "print(np.dot(x, y))\n"
   ]
  },
  {
   "cell_type": "code",
   "execution_count": 15,
   "id": "ab5621e5-b10d-4fbb-90e5-d4e17bd491dc",
   "metadata": {},
   "outputs": [
    {
     "name": "stdout",
     "output_type": "stream",
     "text": [
      "[[ 7  7 17  4]\n",
      " [ 9  9 19  0]]\n"
     ]
    }
   ],
   "source": [
    "A = np.array([ [1, 2, 3], \n",
    "              [3, 2, 1] ]) \n",
    "B = np.array([ [2, 3, 4, -2], \n",
    "              [1, -1, 2, 3], \n",
    "              [1, 2, 3, 0] ]) \n",
    "print(np.dot(A, B))"
   ]
  },
  {
   "cell_type": "code",
   "execution_count": 32,
   "id": "f205fc65-9506-4b34-9e49-53b2e5aa10fc",
   "metadata": {},
   "outputs": [
    {
     "name": "stdout",
     "output_type": "stream",
     "text": [
      "36\n"
     ]
    }
   ],
   "source": [
    "x = np.array([1, 2, 3]) \n",
    "y = np.array([-7, 8, 9]) \n",
    "print(np.dot(x, y))\n"
   ]
  },
  {
   "cell_type": "markdown",
   "id": "73c402cd-41da-4d22-9b78-d4aa47f75fe1",
   "metadata": {},
   "source": [
    "# THE DOT PRODUCT IN THE 3-DIMENSIONAL CASE\n",
    "It's getting really vexing, if we use 3-dimensional arrays as the arguments of dot. We will use two symmetrical three-dimensional arrays in the first example: "
   ]
  },
  {
   "cell_type": "markdown",
   "id": "d12bcfba-07af-4e50-b1ca-fd6708caa3bf",
   "metadata": {},
   "source": [
    "# MATRICES VS. TWO-DIMENSIONAL ARRAYS\n",
    "- The main difference shows, if you multiply two two-dimensional arrays or two matrices. We get real matrix multiplication by multiplying two matrices, but the two-dimensional arrays will be only multiplied component-wise:\n",
    "- There are \"real\" matrices in Numpy. They are a subset of the two-dimensional arrays. We can turn a two-dimensional array into a matrix by applying the \"mat\" function.\n",
    "  "
   ]
  },
  {
   "cell_type": "code",
   "execution_count": 19,
   "id": "a17f0cc1-9360-4ddc-b4b6-b0ce9876ce62",
   "metadata": {},
   "outputs": [
    {
     "name": "stdout",
     "output_type": "stream",
     "text": [
      "[[ 3  4  3]\n",
      " [ 2  4  6]\n",
      " [-3 -6 -9]]\n",
      "[[ 2  0 -2]\n",
      " [ 6  4  2]\n",
      " [ 9  6  3]]\n"
     ]
    }
   ],
   "source": [
    "import numpy as np \n",
    "A = np.array([ [1, 2, 3], [2, 2, 2], [3, 3, 3] ]) \n",
    "B = np.array([ [3, 2, 1], [1, 2, 3], [-1, -2, -3] ]) \n",
    "R = A * B \n",
    "print(R)\n",
    "MA = np.asmatrix(A) \n",
    "MB = np.asmatrix(B) \n",
    "AA = MA * MB \n",
    "print(AA)"
   ]
  },
  {
   "cell_type": "markdown",
   "id": "a5bdf10b-c0c7-41ef-9640-04de8310a5de",
   "metadata": {},
   "source": [
    "# COMPARISON OPERATORS\n",
    "- We are used to comparison operators from Python, when we apply them to integers, floats or strings for example. \n",
    "- We use them to test for True or False. \n",
    "- If we compare two arrays, we don't get a simple True or False as a return value. The comparisons are performed elementswise. This means that we get a Boolean array as a return value.\n",
    "- It is possible to compare complete arrays for equality as well. We use array_equal for this purpose. array_equal returns True if two arrays have the same shape and elements, otherwise False will be returned.\n",
    "\n",
    "\n"
   ]
  },
  {
   "cell_type": "code",
   "execution_count": 20,
   "id": "4318c604-36eb-420b-a279-114d0a9485fa",
   "metadata": {},
   "outputs": [
    {
     "data": {
      "text/plain": [
       "array([[ True, False,  True],\n",
       "       [False,  True, False],\n",
       "       [ True,  True, False]])"
      ]
     },
     "execution_count": 20,
     "metadata": {},
     "output_type": "execute_result"
    }
   ],
   "source": [
    "import numpy as np \n",
    "A = np.array([ [11, 12, 13], [21, 22, 23], [31, 32, 33] ]) \n",
    "B = np.array([ [11, 102, 13], [201, 22, 203], [31, 32, 303] ]) \n",
    "A == B\n"
   ]
  },
  {
   "cell_type": "code",
   "execution_count": 21,
   "id": "f9c5d506-f448-4199-b44a-03dd3fbaa367",
   "metadata": {},
   "outputs": [
    {
     "name": "stdout",
     "output_type": "stream",
     "text": [
      "False\n",
      "True\n"
     ]
    }
   ],
   "source": [
    "print(np.array_equal(A, B)) \n",
    "print(np.array_equal(A, A))"
   ]
  },
  {
   "cell_type": "markdown",
   "id": "b9e406c5-9819-467b-bcaa-61ff83d969eb",
   "metadata": {},
   "source": [
    "# LOGICAL OPERATORS"
   ]
  },
  {
   "cell_type": "code",
   "execution_count": 22,
   "id": "c90c8732-100a-4768-b54a-6cc00843bbe6",
   "metadata": {},
   "outputs": [
    {
     "name": "stdout",
     "output_type": "stream",
     "text": [
      "[[ True  True]\n",
      " [ True False]]\n",
      "[[ True False]\n",
      " [False False]]\n"
     ]
    }
   ],
   "source": [
    "#We can also apply the logical 'or' and the logical 'and' to arrays elementwise.we use the functions 'logical_or' and 'logical_and' to this purpose. \n",
    "a = np.array([ [True, True], [False, False]]) \n",
    "b = np.array([ [True, False], [True, False]]) \n",
    "print(np.logical_or(a, b)) \n",
    "print(np.logical_and(a, b))\n"
   ]
  },
  {
   "cell_type": "markdown",
   "id": "8de767d5-7798-4048-8309-6b34f8b29ad5",
   "metadata": {},
   "source": [
    "# BROADCASTING\n",
    "In other words: Under certain conditions, the smaller array is \"broadcasted\" in a way that it has the same shape as the larger array. "
   ]
  },
  {
   "cell_type": "code",
   "execution_count": 53,
   "id": "47217c51-3aa7-43fe-82ca-50fb862e4d37",
   "metadata": {},
   "outputs": [
    {
     "name": "stdout",
     "output_type": "stream",
     "text": [
      "Multiplication with broadcasting: \n",
      "[[11 24 39]\n",
      " [21 44 69]\n",
      " [31 64 99]]\n",
      "... and now addition with broadcasting: \n",
      "[[12 14 16]\n",
      " [22 24 26]\n",
      " [32 34 36]]\n"
     ]
    }
   ],
   "source": [
    "import numpy as np \n",
    "A = np.array([ [11, 12, 13], [21, 22, 23], [31, 32, 33] ]) \n",
    "B = np.array([1, 2, 3]) \n",
    "print(\"Multiplication with broadcasting: \") \n",
    "print(A * B) \n",
    "print(\"... and now addition with broadcasting: \") \n",
    "print(A + B)\n"
   ]
  },
  {
   "cell_type": "code",
   "execution_count": 54,
   "id": "5d48c13c-d157-4436-9fcc-52ab824a63d0",
   "metadata": {},
   "outputs": [
    {
     "name": "stdout",
     "output_type": "stream",
     "text": [
      "[[1 2 3]\n",
      " [1 2 3]\n",
      " [1 2 3]]\n"
     ]
    }
   ],
   "source": [
    "# B is treated as if it were construed like this:\n",
    "B = np.array([[1, 2, 3],] * 3) \n",
    "print(B)\n"
   ]
  },
  {
   "cell_type": "code",
   "execution_count": 55,
   "id": "ed49a095-838a-4a3d-88c2-2d370f5e2274",
   "metadata": {},
   "outputs": [
    {
     "data": {
      "text/plain": [
       "array([[1],\n",
       "       [2],\n",
       "       [3]])"
      ]
     },
     "execution_count": 55,
     "metadata": {},
     "output_type": "execute_result"
    }
   ],
   "source": [
    "B = np.array([1, 2, 3]) \n",
    "B[:, np.newaxis]\n"
   ]
  },
  {
   "cell_type": "code",
   "execution_count": 56,
   "id": "54b24b7d-4f53-4d0b-89b1-7e5625223975",
   "metadata": {},
   "outputs": [
    {
     "data": {
      "text/plain": [
       "array([[11, 12, 13],\n",
       "       [42, 44, 46],\n",
       "       [93, 96, 99]])"
      ]
     },
     "execution_count": 56,
     "metadata": {},
     "output_type": "execute_result"
    }
   ],
   "source": [
    "A * B[:, np.newaxis]"
   ]
  },
  {
   "cell_type": "code",
   "execution_count": 58,
   "id": "995cd861-f054-47ac-84db-68ff90dec623",
   "metadata": {},
   "outputs": [
    {
     "data": {
      "text/plain": [
       "array([[1, 1, 1],\n",
       "       [2, 2, 2],\n",
       "       [3, 3, 3]])"
      ]
     },
     "execution_count": 58,
     "metadata": {},
     "output_type": "execute_result"
    }
   ],
   "source": [
    "np.array([[1, 2, 3],] * 3).transpose()\n"
   ]
  },
  {
   "cell_type": "markdown",
   "id": "47736939-80c7-4df0-9478-1691c6a3b806",
   "metadata": {},
   "source": [
    "# 6. NUMPY ARRAYS: CONCATENATING, FLATTENING AND ADDING DIMENSIONS"
   ]
  },
  {
   "cell_type": "markdown",
   "id": "a54dceb3-5eb1-49ab-97b5-199446651090",
   "metadata": {},
   "source": [
    "# FLATTEN\n",
    "flatten is a ndarry method with an optional keyword parameter \"order\". order can have the values \"C\", \"F\" and \"A\". The default of order is \"C\". \"C\" means to flatten C style in row-major ordering, i.e. the rightmost index \"changes the fastest\" or in other words: In row-major order, the row index varies the slowest, and the column index the quickest, so that a[0,1] follows [0,0]. \"F\" stands for Fortran column-major ordering. \"A\" means preserve the the C/Fortran ordering. "
   ]
  },
  {
   "cell_type": "code",
   "execution_count": 16,
   "id": "a4f86599-915a-490c-b1c3-6a4d9ce4d582",
   "metadata": {},
   "outputs": [
    {
     "name": "stdout",
     "output_type": "stream",
     "text": [
      "[ 0  1  2  3  4  5  6  7  8  9 10 11 12 13 14 15 16 17 18 19 20 21 22 23]\n",
      "[ 0  1  2  3  4  5  6  7  8  9 10 11 12 13 14 15 16 17 18 19 20 21 22 23]\n",
      "[ 0  8 16  2 10 18  4 12 20  6 14 22  1  9 17  3 11 19  5 13 21  7 15 23]\n",
      "[ 0  1  2  3  4  5  6  7  8  9 10 11 12 13 14 15 16 17 18 19 20 21 22 23]\n"
     ]
    }
   ],
   "source": [
    "import numpy as np \n",
    "A = np.array([[[ 0, 1], [ 2, 3],\n",
    "[ 4, 5], [ 6, 7]], [[ 8, 9], [10, 11], [12, 13], [14, 15]], [[16, 17], [18, 19], [20, 21], [22, 23]]]) \n",
    "Flattened_X = A.flatten() \n",
    "print(Flattened_X) \n",
    "print(A.flatten(order=\"C\")) \n",
    "print(A.flatten(order=\"F\")) \n",
    "print(A.flatten(order=\"A\"))"
   ]
  },
  {
   "cell_type": "markdown",
   "id": "23acaa2c-3c17-4e77-a5e7-65f88559ef7f",
   "metadata": {},
   "source": [
    "# RAVEL\n",
    "The order of the elements in the array returned by ravel() is normally \"C-style\". ravel(a, order='C') ravel returns a flattened one-dimensional array. A copy is made only if needed. The optional keyword parameter \"order\" can be 'C','F', 'A', or 'K' 'C': C-like order, with the last axis index changing fastest, back to the first axis index changing slowest. \"C\" is the default! 'F': Fortran-like index order with the first index changing fastest, and the last index changing slowest. 'A': Fortran-like index order if the array \"a\" is Fortrancontiguousin memory, C-like order otherwise. 'K': read the elements in the order they occur in memory, except for reversing the data when strides are negative.\n"
   ]
  },
  {
   "cell_type": "code",
   "execution_count": 17,
   "id": "1c400f66-7d5e-4013-acf2-b27f1774a4ac",
   "metadata": {},
   "outputs": [
    {
     "name": "stdout",
     "output_type": "stream",
     "text": [
      "[ 0  1  2  3  4  5  6  7  8  9 10 11 12 13 14 15 16 17 18 19 20 21 22 23]\n",
      "[ 0  1  2  3  4  5  6  7  8  9 10 11 12 13 14 15 16 17 18 19 20 21 22 23]\n",
      "[ 0  8 16  2 10 18  4 12 20  6 14 22  1  9 17  3 11 19  5 13 21  7 15 23]\n",
      "[ 0  1  2  3  4  5  6  7  8  9 10 11 12 13 14 15 16 17 18 19 20 21 22 23]\n",
      "[ 0  1  2  3  4  5  6  7  8  9 10 11 12 13 14 15 16 17 18 19 20 21 22 23]\n"
     ]
    }
   ],
   "source": [
    "print(A.ravel()) \n",
    "print(A.ravel(order=\"A\")) \n",
    "print(A.ravel(order=\"F\")) \n",
    "print(A.ravel(order=\"A\")) \n",
    "print(A.ravel(order=\"K\"))"
   ]
  },
  {
   "cell_type": "markdown",
   "id": "c6bde630-ae6f-498d-9299-05c40f7aee9b",
   "metadata": {},
   "source": [
    "# RESHAPE\n",
    "The method reshape() gives a new shape to an array without changing its data, i.e. it returns a new array with a new shape. \n",
    "we have to factorize the element of the given array."
   ]
  },
  {
   "cell_type": "code",
   "execution_count": 5,
   "id": "21099beb-9c6f-4866-a9b7-01a6830ce8da",
   "metadata": {},
   "outputs": [
    {
     "data": {
      "text/plain": [
       "array([[[ 0,  1],\n",
       "        [ 2,  3],\n",
       "        [ 4,  5],\n",
       "        [ 6,  7]],\n",
       "\n",
       "       [[ 8,  9],\n",
       "        [10, 11],\n",
       "        [12, 13],\n",
       "        [14, 15]],\n",
       "\n",
       "       [[16, 17],\n",
       "        [18, 19],\n",
       "        [20, 21],\n",
       "        [22, 23]]])"
      ]
     },
     "execution_count": 5,
     "metadata": {},
     "output_type": "execute_result"
    }
   ],
   "source": [
    "X = np.array(range(24)) \n",
    "Y = X.reshape((3,4,2)) \n",
    "Y"
   ]
  },
  {
   "cell_type": "code",
   "execution_count": 4,
   "id": "42078536-15a2-4cf3-a1f3-80b16ded62e4",
   "metadata": {},
   "outputs": [
    {
     "data": {
      "text/plain": [
       "array([[ 0,  1,  2,  3,  4,  5,  6,  7,  8,  9, 10, 11],\n",
       "       [12, 13, 14, 15, 16, 17, 18, 19, 20, 21, 22, 23]])"
      ]
     },
     "execution_count": 4,
     "metadata": {},
     "output_type": "execute_result"
    }
   ],
   "source": [
    "X = np.array(range(24)) \n",
    "Y = X.reshape((2,12)) \n",
    "Y"
   ]
  },
  {
   "cell_type": "code",
   "execution_count": 7,
   "id": "6ea11fa9-9651-4b9a-9e85-94d9bae7caec",
   "metadata": {},
   "outputs": [
    {
     "data": {
      "text/plain": [
       "array([ 0,  1,  2,  3,  4,  5,  6,  7,  8,  9, 10, 11, 12, 13, 14, 15, 16,\n",
       "       17, 18, 19, 20, 21, 22, 23])"
      ]
     },
     "execution_count": 7,
     "metadata": {},
     "output_type": "execute_result"
    }
   ],
   "source": [
    "# there is anothre way to flatten the array using reshape function and passing -1 inside the reshape function.\n",
    "Y1=Y.reshape(-1)\n",
    "Y1"
   ]
  },
  {
   "cell_type": "markdown",
   "id": "92ecbdd5-1e00-4888-8dba-3174a2c600f2",
   "metadata": {},
   "source": [
    "# CONCATENATING ARRAYS\n",
    "In the following example we concatenate three one-dimensional arrays to one array. The elements of the second array are appended to the first array. After this the elements of the third array are appended:"
   ]
  },
  {
   "cell_type": "code",
   "execution_count": 8,
   "id": "bff95e25-ca56-461d-aae9-e5a329c7807d",
   "metadata": {},
   "outputs": [
    {
     "name": "stdout",
     "output_type": "stream",
     "text": [
      "[11 22 18  7  6  1  3  5]\n"
     ]
    }
   ],
   "source": [
    "x = np.array([11,22]) \n",
    "y = np.array([18,7,6]) \n",
    "z = np.array([1,3,5]) \n",
    "c = np.concatenate((x,y,z)) \n",
    "print(c)"
   ]
  },
  {
   "cell_type": "markdown",
   "id": "ac125db7-dfe0-4bc3-a345-d6fbafdfd6bd",
   "metadata": {},
   "source": [
    "If we are concatenating multidimensional arrays, we can concatenate the arrays according to axis. Arrays must have the same shape to be concatenated with concatenate(). In the case of multidimensional arrays, we can arrange them according to the axis. The default value is axis = 0:\n"
   ]
  },
  {
   "cell_type": "code",
   "execution_count": 9,
   "id": "4608834a-6338-4546-a480-527acdf15288",
   "metadata": {},
   "outputs": [
    {
     "name": "stdout",
     "output_type": "stream",
     "text": [
      "[[[  0   1]\n",
      "  [  2   3]\n",
      "  [  4   5]\n",
      "  [  6   7]]\n",
      "\n",
      " [[  8   9]\n",
      "  [ 10  11]\n",
      "  [ 12  13]\n",
      "  [ 14  15]]\n",
      "\n",
      " [[ 16  17]\n",
      "  [ 18  19]\n",
      "  [ 20  21]\n",
      "  [ 22  23]]\n",
      "\n",
      " [[100 101]\n",
      "  [102 103]\n",
      "  [104 105]\n",
      "  [106 107]]\n",
      "\n",
      " [[108 109]\n",
      "  [110 111]\n",
      "  [112 113]\n",
      "  [114 115]]\n",
      "\n",
      " [[116 117]\n",
      "  [118 119]\n",
      "  [120 121]\n",
      "  [122 123]]]\n",
      "[[[  0   1]\n",
      "  [  2   3]\n",
      "  [  4   5]\n",
      "  [  6   7]\n",
      "  [100 101]\n",
      "  [102 103]\n",
      "  [104 105]\n",
      "  [106 107]]\n",
      "\n",
      " [[  8   9]\n",
      "  [ 10  11]\n",
      "  [ 12  13]\n",
      "  [ 14  15]\n",
      "  [108 109]\n",
      "  [110 111]\n",
      "  [112 113]\n",
      "  [114 115]]\n",
      "\n",
      " [[ 16  17]\n",
      "  [ 18  19]\n",
      "  [ 20  21]\n",
      "  [ 22  23]\n",
      "  [116 117]\n",
      "  [118 119]\n",
      "  [120 121]\n",
      "  [122 123]]]\n"
     ]
    }
   ],
   "source": [
    "x = np.array(range(24)) \n",
    "x = x.reshape((3,4,2)) \n",
    "y = np.array(range(100,124)) \n",
    "y = y.reshape((3,4,2)) \n",
    "z = np.concatenate((x,y)) \n",
    "print(z)\n",
    "z = np.concatenate((x,y),axis = 1) \n",
    "print(z)\n"
   ]
  },
  {
   "cell_type": "markdown",
   "id": "b4749a89-fdca-4bbc-a621-a7c5bbd97117",
   "metadata": {},
   "source": [
    "ADDING NEW DIMENSIONS\\\n",
    "VECTOR STACKING\\\n",
    "VECTOR STACKING\\"
   ]
  },
  {
   "cell_type": "markdown",
   "id": "3ad6a1bd-89cb-454f-9a5a-6ff7e667302e",
   "metadata": {},
   "source": [
    "# 7. NUMPY: BOOLEAN INDEXING"
   ]
  },
  {
   "cell_type": "code",
   "execution_count": 2,
   "id": "8ec8abaf-2eee-4101-8d38-b51cb94f60a8",
   "metadata": {},
   "outputs": [
    {
     "name": "stdout",
     "output_type": "stream",
     "text": [
      "[ True False False  True False False]\n",
      "[ True False  True  True  True False]\n",
      "[False False False False False False]\n"
     ]
    }
   ],
   "source": [
    "import numpy as np \n",
    "A = np.array([4, 7, 3, 4, 2, 8]) \n",
    "print(A == 4)\n",
    "print(A < 5)\n",
    "print(A>=42)"
   ]
  },
  {
   "cell_type": "code",
   "execution_count": 7,
   "id": "261d5154-e679-4b0f-9380-ca32b70ae5e2",
   "metadata": {},
   "outputs": [
    {
     "data": {
      "text/plain": [
       "array([ True,  True,  True,  True,  True,  True])"
      ]
     },
     "execution_count": 7,
     "metadata": {},
     "output_type": "execute_result"
    }
   ],
   "source": [
    "A = np.array([4, 7, 3, 4, 2, 8]) \n",
    "B = A < 15 \n",
    "B\n"
   ]
  },
  {
   "cell_type": "markdown",
   "id": "74778f05-5e22-4d00-b9ff-c99660b10b39",
   "metadata": {},
   "source": [
    "# FANCY INDEXING\n",
    "In our next example, we will use the Boolean mask of one array to select the corresponding elements of another array. The new array R contains all the elements of C where the corresponding value of (A<=5) is True."
   ]
  },
  {
   "cell_type": "code",
   "execution_count": 9,
   "id": "816403f4-ffe8-40c0-9028-61903c56ebac",
   "metadata": {},
   "outputs": [
    {
     "name": "stdout",
     "output_type": "stream",
     "text": [
      "[123 190 100]\n"
     ]
    }
   ],
   "source": [
    "C = np.array([123,188,190,99,77,88,100]) \n",
    "A = np.array([4,7,2,8,6,9,5]) \n",
    "R = C[A<=5] \n",
    "print(R)"
   ]
  },
  {
   "cell_type": "markdown",
   "id": "040e8e6f-e381-4c28-b274-bfc79cc4b40e",
   "metadata": {},
   "source": [
    "# INDEXING WITH AN INTEGER ARRAY"
   ]
  },
  {
   "cell_type": "markdown",
   "id": "62446f32-7343-4d39-919e-b450772bcf90",
   "metadata": {},
   "source": [
    "\n",
    "#-Extract from the array np.array([3,4,6,10,24,89,45,43,46,99,100]) with Boolean masking all the number \n",
    "• which are not divisible by 3 \n",
    "• which are divisible by 5 \n",
    "• which are divisible by 3 and 5 \n",
    "• which are divisible by 3 and set them to 42"
   ]
  },
  {
   "cell_type": "code",
   "execution_count": null,
   "id": "9f35ee95-8e93-4b8c-969b-4e31c9a0bcff",
   "metadata": {},
   "outputs": [
    {
     "data": {
      "text/plain": [
       "array([123, 190,  99, 188,  77, 188])"
      ]
     },
     "execution_count": 11,
     "metadata": {},
     "output_type": "execute_result"
    }
   ],
   "source": [
    "C[[0, 2, 3, 1, 4, 1]]"
   ]
  },
  {
   "cell_type": "code",
   "execution_count": 12,
   "id": "e01badb2-a811-48da-8647-797810c0aa64",
   "metadata": {},
   "outputs": [
    {
     "name": "stdout",
     "output_type": "stream",
     "text": [
      "Elements of A not divisible by 3:\n",
      "[  4  10  89  43  46 100]\n",
      "Elements of A divisible by 5:\n",
      "[ 10  45 100]\n",
      "Elements of A, which are divisible by 3 and 5:\n",
      "[45]\n",
      "------------------\n"
     ]
    }
   ],
   "source": [
    "import numpy as np \n",
    "A = np.array([3,4,6,10,24,89,45,43,46,99,100]) \n",
    "div3 = A[A%3!=0] \n",
    "print(\"Elements of A not divisible by 3:\")\n",
    "print(div3)\n",
    "div5 = A[A%5==0] \n",
    "print(\"Elements of A divisible by 5:\") \n",
    "print(div5) \n",
    "print(\"Elements of A, which are divisible by 3 and 5:\") \n",
    "print(A[(A%3==0) & (A%5==0)]) \n",
    "print(\"------------------\") "
   ]
  },
  {
   "cell_type": "markdown",
   "id": "6e7d974d-5bd2-4b08-a771-5034f7198fd9",
   "metadata": {},
   "source": [
    "  FLATNONZERO AND COUNT_NONZERO"
   ]
  },
  {
   "cell_type": "markdown",
   "id": "92a7a3e5-ca54-471a-8b0c-52da5e1107a6",
   "metadata": {},
   "source": [
    "NONZERO AND WHERE"
   ]
  },
  {
   "cell_type": "markdown",
   "id": "b395bd82-8c4e-49a7-a6f7-37404f0c1248",
   "metadata": {},
   "source": [
    "#flatnonzero : Return indices that are non-zero in the flattened versio n of the input array./\n",
    "#count_nonzero : Counts the number of non-zero elements in the input arra y.\n"
   ]
  },
  {
   "cell_type": "markdown",
   "id": "779ecf67-20ac-4ba8-a8ec-554a064ca878",
   "metadata": {},
   "source": [
    "# 8. MATRIX MULTIPLICAION, DOT AND CROSS PRODUCT"
   ]
  },
  {
   "cell_type": "code",
   "execution_count": null,
   "id": "ad460ac5-58cb-4352-93be-fa87e24c455b",
   "metadata": {},
   "outputs": [],
   "source": [
    "• Matrix subtraction "
   ]
  },
  {
   "cell_type": "markdown",
   "id": "69d5b4c7-acd4-4bca-ab33-44daa96b7190",
   "metadata": {},
   "source": [
    "• Matrix multiplication "
   ]
  },
  {
   "cell_type": "markdown",
   "id": "2b664580-e9ab-461d-a26c-b4f0f42bc27d",
   "metadata": {},
   "source": [
    "• Scalar product "
   ]
  },
  {
   "cell_type": "code",
   "execution_count": null,
   "id": "ba18aa95-5853-4686-88bd-46c91325b225",
   "metadata": {},
   "outputs": [],
   "source": [
    "• Matrix addition "
   ]
  },
  {
   "cell_type": "code",
   "execution_count": 30,
   "id": "b7d404d7-9ee6-4b7b-b7b8-256232663b88",
   "metadata": {},
   "outputs": [
    {
     "name": "stdout",
     "output_type": "stream",
     "text": [
      "[8 3]\n",
      "[-2  1]\n",
      "[15  2]\n",
      "[0 2]\n"
     ]
    }
   ],
   "source": [
    "x = np.array([3, 2]) \n",
    "y = np.array([5, 1]) \n",
    "print(x + y)\n",
    "print(x - y)\n",
    "print(x*y)\n",
    "print(x // y)"
   ]
  },
  {
   "cell_type": "markdown",
   "id": "543c5756-19ef-4260-a6b6-ca6b6f9dd271",
   "metadata": {},
   "source": [
    "# • Cross product "
   ]
  },
  {
   "cell_type": "markdown",
   "id": "30ae96ab-3684-4d7c-ad65-5c1969e2cc23",
   "metadata": {},
   "source": [
    "The cross product or vector product is a binary operation on two vectors in three-dimensional space. The result is a vector which is perpendicular to the vectors being multiplied and normal to the plane containing them.\n",
    "The cross product of two vectors a and b is denoted by a × b."
   ]
  },
  {
   "cell_type": "code",
   "execution_count": 27,
   "id": "dc196b88-ac24-4a54-8b10-6ae7ccf26384",
   "metadata": {},
   "outputs": [
    {
     "name": "stdout",
     "output_type": "stream",
     "text": [
      "[-1  0  0]\n",
      "[1 0 0]\n"
     ]
    }
   ],
   "source": [
    "x = np.array([0, 0, 1]) \n",
    "y = np.array([0, 1, 0]) \n",
    "print(np.cross(x, y))\n",
    "print(np.cross(y, x))"
   ]
  },
  {
   "cell_type": "markdown",
   "id": "69141a3c-85b0-4d15-afce-ed9d34cacd40",
   "metadata": {},
   "source": [
    "• and lots of other operations on matrices"
   ]
  },
  {
   "cell_type": "markdown",
   "id": "a25412d1-a1ad-4874-a192-c2ee10dab58d",
   "metadata": {},
   "source": [
    "# 9. READING AND WRITING DATA FILES"
   ]
  },
  {
   "cell_type": "markdown",
   "id": "c8b01b44-f00c-4dd9-80c1-8c01f434c999",
   "metadata": {},
   "source": [
    "# savetxt\n",
    "The complete syntax of savetxt looks like this: savetxt(fname, X, fmt='%.18e', delimiter=' ', newline='\\n', heade r='', footer='', comments='# ')\n"
   ]
  },
  {
   "cell_type": "code",
   "execution_count": null,
   "id": "eefb9f1a-83ce-4aa3-9384-26f355af43fc",
   "metadata": {},
   "outputs": [],
   "source": [
    "      Parameter                                      Meaning\n",
    "     X                        array_like Data to be saved to a text file.\n",
    "    fmt                        \n",
    "   newline                    A string (e.g. \"\\n\", \"\\r\\n\" or \",\\n\") which will end a line instead of the default line ending\n",
    "   header                     A String that will be written at the beginning of the file.\n",
    "   footer                     A String that will be written at the end of the file.\n",
    "  comments                    A String that will be prepended to the 'header' and 'footer' strings, to mark them as comments. The hash tag '#' is\n"
   ]
  },
  {
   "cell_type": "markdown",
   "id": "a9e85611-baf2-4cb7-9efe-eafcf7b897ff",
   "metadata": {},
   "source": [
    "• loadtxt\\"
   ]
  },
  {
   "cell_type": "markdown",
   "id": "e5b5fceb-1ccc-4efe-9b04-c98d67fdb8d7",
   "metadata": {},
   "source": [
    "• tofile \\"
   ]
  },
  {
   "cell_type": "markdown",
   "id": "05bd96ac-28cd-4d02-9de7-bd2fcd1fabc2",
   "metadata": {},
   "source": [
    "• fromfile \\"
   ]
  },
  {
   "cell_type": "markdown",
   "id": "651ef0da-b891-437d-9796-79c811dea3a9",
   "metadata": {},
   "source": [
    "• save \\"
   ]
  },
  {
   "cell_type": "markdown",
   "id": "1a9c603a-c4e5-4a90-ae91-36d63b168332",
   "metadata": {},
   "source": [
    "• load\\"
   ]
  },
  {
   "cell_type": "markdown",
   "id": "ee010a23-a179-4426-bcf4-ad168ab0d65d",
   "metadata": {},
   "source": [
    "# • genfromtxt\n",
    "AND YET ANOTHER WAY: GENFROMTXT\n",
    "There is yet another way to read tabular input from file to create arrays. As the name implies, the input file is supposed to be a text file. The text file can be in the form of an archive file as well. genfromtxt can process the archive formats gzip and bzip2. The type of the archive is determined by the extension of the file, i.e. '.gz' for gzip and bz2' for an bzip2. genfromtxt is slower than loadtxt, but it is capable of coping with missing data. It processes the file data in two passes. At first it converts the lines of the file into strings. Thereupon it converts the strings into the requested data type. loadtxt on the other hand works in one go, which is the reason, why it is faster.\n",
    "\n",
    "\n",
    "np.genfromtxt(filename, delimiter=\",\", dtype=None)"
   ]
  },
  {
   "cell_type": "markdown",
   "id": "2e69c1b2-9022-414c-9ebf-25d051e5e37d",
   "metadata": {},
   "source": [
    "# iteration in array-\n",
    "if the array is multidimensional and it has several indexing than in order to print all elemnets in one column we have to use nested loop as many times as the dimension of the array."
   ]
  },
  {
   "cell_type": "code",
   "execution_count": 3,
   "id": "4664d414-1e90-49eb-8458-bb53a1d6dde1",
   "metadata": {},
   "outputs": [
    {
     "name": "stdout",
     "output_type": "stream",
     "text": [
      "22\n",
      "33\n",
      "44\n",
      "55\n"
     ]
    }
   ],
   "source": [
    "# iteration in 1-D array-\n",
    "import numpy as np\n",
    "A=np.array([22,33,44,55])\n",
    "for i in A:\n",
    "    print(i)"
   ]
  },
  {
   "cell_type": "code",
   "execution_count": 8,
   "id": "18e2983f-5c55-4828-9b81-11af549eda7d",
   "metadata": {},
   "outputs": [
    {
     "name": "stdout",
     "output_type": "stream",
     "text": [
      "first way=====\n",
      "[22 33 44 55]\n",
      "[66 77 88 99]\n",
      "second way=====\n",
      "22\n",
      "33\n",
      "44\n",
      "55\n",
      "66\n",
      "77\n",
      "88\n",
      "99\n"
     ]
    }
   ],
   "source": [
    "# iteration in 2-D array\n",
    "import numpy as np\n",
    "B=np.array([[22,33,44,55],[66,77,88,99]])\n",
    "print('first way=====')\n",
    "for i in B:\n",
    "    print(i)\n",
    "print('second way=====')\n",
    "import numpy as np\n",
    "B=np.array([[22,33,44,55],[66,77,88,99]])\n",
    "for i in B:\n",
    "    for j in i:\n",
    "        print(j)"
   ]
  },
  {
   "cell_type": "code",
   "execution_count": 14,
   "id": "475b5008-8d34-4d22-bb67-cb70f6dab1fe",
   "metadata": {
    "collapsed": true,
    "jupyter": {
     "outputs_hidden": true
    }
   },
   "outputs": [
    {
     "name": "stdout",
     "output_type": "stream",
     "text": [
      "22\n",
      "33\n",
      "44\n",
      "55\n",
      "66\n",
      "77\n",
      "88\n",
      "99\n",
      "21\n",
      "23\n",
      "42\n",
      "4\n",
      "22\n",
      "46\n",
      "67\n",
      "6\n"
     ]
    }
   ],
   "source": [
    "# iteration in 3-D array\n",
    "import numpy as np\n",
    "C=np.array([[[22,33,44,55],[66,77,88,99]],[[21,23,42,4],[22,46,67,6]]])\n",
    "#C.ndim\n",
    "for i in C:\n",
    "    for j in i:\n",
    "        for k in j:\n",
    "            print(k)"
   ]
  },
  {
   "cell_type": "markdown",
   "id": "9990a4f8-2100-41d8-8758-cc28e40384ef",
   "metadata": {},
   "source": [
    "# important\n",
    "sometime sthe array that you'll be working on will be so complex that you will not be able to comprehand how many dimension are there or even if you are able to identify the dimension than you'll find it hard to calculate the number of the nested loop to get the single column of the array. now to resolve this problem we use a powerfull function in the loop; we will not have to implement multiple loops after using this.\n",
    "\n",
    "np.nditer(variable)"
   ]
  },
  {
   "cell_type": "code",
   "execution_count": 15,
   "id": "3d7db932-c00c-470c-a132-c69c59877cd8",
   "metadata": {
    "collapsed": true,
    "jupyter": {
     "outputs_hidden": true
    },
    "scrolled": true
   },
   "outputs": [
    {
     "name": "stdout",
     "output_type": "stream",
     "text": [
      "22\n",
      "33\n",
      "44\n",
      "55\n",
      "66\n",
      "77\n",
      "88\n",
      "99\n",
      "21\n",
      "23\n",
      "42\n",
      "4\n",
      "22\n",
      "46\n",
      "67\n",
      "6\n"
     ]
    }
   ],
   "source": [
    "import numpy as np\n",
    "C=np.array([[[22,33,44,55],[66,77,88,99]],[[21,23,42,4],[22,46,67,6]]])\n",
    "#C.ndim\n",
    "for i in np.nditer(C):\n",
    "    print(i)"
   ]
  },
  {
   "cell_type": "markdown",
   "id": "5568e1c3-2fa7-48da-a786-08433ea6d39e",
   "metadata": {},
   "source": [
    "we can also give indexing to filter perticular sets of numbers inside nditer()."
   ]
  },
  {
   "cell_type": "markdown",
   "id": "bd650121-fbf3-4ae6-b5b9-2acb20a3ed11",
   "metadata": {},
   "source": [
    "# concatenate \n",
    "it is use to join numpy array- if we do not give any axis then the elements will keep on getting concatinated in series, and if we give a new axis as 1 then the element will added vertically as following(same index with same index)\n",
    " Arrays must have the same shape to be concatenated with concatenate(). "
   ]
  },
  {
   "cell_type": "code",
   "execution_count": 22,
   "id": "afd3b1ae-a643-43ec-8dab-bff6d831f102",
   "metadata": {},
   "outputs": [
    {
     "name": "stdout",
     "output_type": "stream",
     "text": [
      "[[[22 33 44 55]\n",
      "  [66 77 88 99]\n",
      "  [22 33 44 55]\n",
      "  [66 77 89 99]]\n",
      "\n",
      " [[21 23 42  4]\n",
      "  [22 46 67  6]\n",
      "  [21 23 62  4]\n",
      "  [22 46 97  6]]]\n"
     ]
    }
   ],
   "source": [
    "import numpy as np\n",
    "C=np.array([[[22,33,44,55],[66,77,88,99]],[[21,23,42,4],[22,46,67,6]]])\n",
    "D=np.array([[[22,33,44,55],[66,77,89,99]],[[21,23,62,4],[22,46,97,6]]])\n",
    "print(np.concatenate((C,D),axis=1))"
   ]
  },
  {
   "cell_type": "code",
   "execution_count": 23,
   "id": "d56630f2-efa2-496a-ae39-019abd66a2e3",
   "metadata": {},
   "outputs": [
    {
     "name": "stdout",
     "output_type": "stream",
     "text": [
      "[[[22 33 44 55]\n",
      "  [66 77 88 99]]\n",
      "\n",
      " [[21 23 42  4]\n",
      "  [22 46 67  6]]\n",
      "\n",
      " [[22 33 44 55]\n",
      "  [66 77 89 99]]\n",
      "\n",
      " [[21 23 62  4]\n",
      "  [22 46 97  6]]]\n"
     ]
    }
   ],
   "source": [
    "import numpy as np\n",
    "C=np.array([[[22,33,44,55],[66,77,88,99]],[[21,23,42,4],[22,46,67,6]]])\n",
    "D=np.array([[[22,33,44,55],[66,77,89,99]],[[21,23,62,4],[22,46,97,6]]])\n",
    "print(np.concatenate((C,D)))"
   ]
  },
  {
   "cell_type": "markdown",
   "id": "62db8ce1-5cbf-4540-be9d-267a01cbbe41",
   "metadata": {},
   "source": [
    "# stack function-\n",
    "see following"
   ]
  },
  {
   "cell_type": "code",
   "execution_count": 25,
   "id": "4960bfb8-cd00-4c12-8f91-b25aa5c085aa",
   "metadata": {},
   "outputs": [
    {
     "name": "stdout",
     "output_type": "stream",
     "text": [
      "[[[22 33 44 55]\n",
      "  [66 77 88 99]\n",
      "  [22 33 44 55]\n",
      "  [66 77 89 99]]\n",
      "\n",
      " [[21 23 42  4]\n",
      "  [22 46 67  6]\n",
      "  [21 23 62  4]\n",
      "  [22 46 97  6]]]\n"
     ]
    }
   ],
   "source": [
    "import numpy as np\n",
    "C=np.array([[[22,33,44,55],[66,77,88,99]],[[21,23,42,4],[22,46,67,6]]])\n",
    "D=np.array([[[22,33,44,55],[66,77,89,99]],[[21,23,62,4],[22,46,97,6]]])\n",
    "print(np.hstack((C,D)))"
   ]
  },
  {
   "cell_type": "code",
   "execution_count": 27,
   "id": "f858e1dc-3def-48e9-aa86-3d66538da1e1",
   "metadata": {},
   "outputs": [
    {
     "name": "stdout",
     "output_type": "stream",
     "text": [
      "[[0 0 1]\n",
      " [0 1 0]]\n"
     ]
    }
   ],
   "source": [
    "x = np.array([0, 0, 1]) \n",
    "y = np.array([0, 1, 0]) \n",
    "print(np.stack((x,y)))"
   ]
  },
  {
   "cell_type": "code",
   "execution_count": 29,
   "id": "6cf9c70d-c2be-43c9-bbcb-395ec46ea8df",
   "metadata": {},
   "outputs": [
    {
     "name": "stdout",
     "output_type": "stream",
     "text": [
      "[[3 4 5]\n",
      " [1 9 0]]\n",
      "[[3 1]\n",
      " [4 9]\n",
      " [5 0]]\n"
     ]
    },
    {
     "name": "stderr",
     "output_type": "stream",
     "text": [
      "C:\\Users\\Education\\AppData\\Local\\Temp\\ipykernel_56848\\3522681964.py:3: DeprecationWarning: `row_stack` alias is deprecated. Use `np.vstack` directly.\n",
      "  print(np.row_stack((A, B)))\n"
     ]
    }
   ],
   "source": [
    "A = np.array([3, 4, 5]) \n",
    "B = np.array([1,9,0]) \n",
    "print(np.row_stack((A, B))) \n",
    "print(np.column_stack((A, B))) \n"
   ]
  },
  {
   "cell_type": "markdown",
   "id": "983bd496-bd76-45d3-813e-982e16dac2b0",
   "metadata": {},
   "source": [
    "# random"
   ]
  },
  {
   "cell_type": "code",
   "execution_count": 59,
   "id": "f0dc5a88-9026-4864-874f-78c35b8b68f4",
   "metadata": {},
   "outputs": [],
   "source": [
    "import random"
   ]
  },
  {
   "cell_type": "code",
   "execution_count": 69,
   "id": "b53ddef9-1b74-48f7-b36c-649237d02b89",
   "metadata": {},
   "outputs": [
    {
     "name": "stdout",
     "output_type": "stream",
     "text": [
      "0.9325407688736749\n"
     ]
    }
   ],
   "source": [
    "#Let's start with creating random float numbers with the random function of the random module. Please remember that it shouldn't be used to generate sensitive information: \n",
    "import random \n",
    "random_number = random.random() \n",
    "print(random_number)\n"
   ]
  },
  {
   "cell_type": "markdown",
   "id": "857657ab-dee6-485e-bc8a-f6b923f3bd4c",
   "metadata": {},
   "source": [
    "# SystemRandom\n",
    "The random method of the SystemRandom class generates a float number in the range from 0.0 (included) to 1.0 (not included): from random import "
   ]
  },
  {
   "cell_type": "code",
   "execution_count": 71,
   "id": "959ac31a-b7a3-4ff9-b3b9-05aea2c7f192",
   "metadata": {},
   "outputs": [
    {
     "name": "stdout",
     "output_type": "stream",
     "text": [
      "0.02319419623966179\n"
     ]
    }
   ],
   "source": [
    "from random import SystemRandom \n",
    "crypto = SystemRandom()\n",
    "print(crypto.random())"
   ]
  },
  {
   "cell_type": "code",
   "execution_count": null,
   "id": "9ddeac26-2423-474d-a2b2-7f9bfb6ac746",
   "metadata": {},
   "outputs": [],
   "source": []
  }
 ],
 "metadata": {
  "kernelspec": {
   "display_name": "Python 3 (ipykernel)",
   "language": "python",
   "name": "python3"
  },
  "language_info": {
   "codemirror_mode": {
    "name": "ipython",
    "version": 3
   },
   "file_extension": ".py",
   "mimetype": "text/x-python",
   "name": "python",
   "nbconvert_exporter": "python",
   "pygments_lexer": "ipython3",
   "version": "3.12.4"
  }
 },
 "nbformat": 4,
 "nbformat_minor": 5
}
