{
 "cells": [
  {
   "cell_type": "markdown",
   "id": "3f403526-4c2f-4a10-94ad-4d337bb931d2",
   "metadata": {},
   "source": [
    "# ways of organising programmes. \n",
    "python supports multiple paradigms these are as follows. \n",
    "1. procedural orientanted paradigm.\n",
    "2. functional oriented paradigm.\n",
    "3. object oriented paradigm.\n",
    "in order to solve real world problems object oriented paradigm is used. "
   ]
  },
  {
   "cell_type": "code",
   "execution_count": null,
   "id": "46b8b153-b42e-40a2-bf93-ae592d67105f",
   "metadata": {},
   "outputs": [],
   "source": []
  }
 ],
 "metadata": {
  "kernelspec": {
   "display_name": "Python 3 (ipykernel)",
   "language": "python",
   "name": "python3"
  },
  "language_info": {
   "codemirror_mode": {
    "name": "ipython",
    "version": 3
   },
   "file_extension": ".py",
   "mimetype": "text/x-python",
   "name": "python",
   "nbconvert_exporter": "python",
   "pygments_lexer": "ipython3",
   "version": "3.12.4"
  }
 },
 "nbformat": 4,
 "nbformat_minor": 5
}
